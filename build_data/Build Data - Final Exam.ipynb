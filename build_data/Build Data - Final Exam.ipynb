{
 "cells": [
  {
   "cell_type": "code",
   "execution_count": 1,
   "id": "045a1e66",
   "metadata": {},
   "outputs": [],
   "source": [
    "import pandas as pd\n",
    "import numpy as np\n",
    "\n",
    "import sys\n",
    "sys.path.insert(0, '../cmds')\n",
    "from treasury_cmds import *"
   ]
  },
  {
   "cell_type": "markdown",
   "id": "3b72404a",
   "metadata": {},
   "source": [
    "# Simplified Bootstrap Data"
   ]
  },
  {
   "cell_type": "code",
   "execution_count": 2,
   "id": "a77415b5",
   "metadata": {},
   "outputs": [],
   "source": [
    "QUOTE_DATE = '2022-12-30'\n",
    "NDATA = 11"
   ]
  },
  {
   "cell_type": "code",
   "execution_count": 3,
   "id": "708ab529",
   "metadata": {},
   "outputs": [
    {
     "data": {
      "text/plain": [
       "'Analysis based on quotes from: 2022-12-30'"
      ]
     },
     "execution_count": 3,
     "metadata": {},
     "output_type": "execute_result"
    }
   ],
   "source": [
    "filepath_rawdata = f'../data/treasury_quotes_{QUOTE_DATE}.xlsx'\n",
    "rawdata = pd.read_excel(filepath_rawdata,sheet_name='quotes')\n",
    "rawdata.columns = rawdata.columns.str.upper()\n",
    "rawdata.sort_values('TMATDT',inplace=True)\n",
    "rawdata.set_index('KYTREASNO',inplace=True)\n",
    "\n",
    "t_check = rawdata['CALDT'].values[0]\n",
    "if rawdata['CALDT'].eq(t_check).all():\n",
    "    t_current = t_check\n",
    "else:\n",
    "    warnings.warn('Quotes are from multiple dates.')\n",
    "    t_current = None\n",
    "\n",
    "f'Analysis based on quotes from: {pd.to_datetime(t_current):%Y-%m-%d}'"
   ]
  },
  {
   "cell_type": "code",
   "execution_count": 4,
   "id": "bc39a0d7",
   "metadata": {},
   "outputs": [],
   "source": [
    "metrics = rawdata.copy()[['TDATDT','TMATDT','TCOUPRT','TDYLD','TDDURATN','TDPUBOUT']]\n",
    "metrics.columns = ['issue date','maturity date','coupon rate','TDYLD','duration','outstanding']\n",
    "metrics['TDYLD'] *= 365.25\n",
    "metrics['duration'] /= 365.25\n",
    "metrics['outstanding'] *= 1e6\n",
    "metrics['maturity'] = get_maturity_delta(metrics['maturity date'], t_current)"
   ]
  },
  {
   "cell_type": "markdown",
   "id": "c6d54466",
   "metadata": {},
   "source": [
    "### Careful\n",
    "\n",
    "If the quote date is just before a coupon date, might approximate it has already happened when building the cashflow matrix.\n",
    "\n",
    "For example, quote of 12-30-2022, but coupon is technically 12-31-2022.\n",
    "\n",
    "This creates problems when using the dirty accrued interest but not modeling that cashflow the next day. \n",
    "\n",
    "Accordingly, if quote date is immediately before a coupon, just use the clean price."
   ]
  },
  {
   "cell_type": "code",
   "execution_count": 5,
   "id": "c654f109",
   "metadata": {},
   "outputs": [],
   "source": [
    "USE_DIRTY = False"
   ]
  },
  {
   "cell_type": "code",
   "execution_count": 6,
   "id": "31f11902",
   "metadata": {},
   "outputs": [],
   "source": [
    "metrics['price'] = (rawdata['TDBID'] + rawdata['TDASK'])/2\n",
    "if USE_DIRTY:\n",
    "    metrics['price'] += rawdata['TDACCINT']\n",
    "    \n",
    "metrics['ask-bid'] = rawdata['TDASK'] - rawdata['TDBID']\n",
    "metrics['next cashflow date'] = (calc_cashflows(rawdata) != 0).idxmax(1)"
   ]
  },
  {
   "cell_type": "code",
   "execution_count": 7,
   "id": "08becacf",
   "metadata": {},
   "outputs": [],
   "source": [
    "tab = metrics[['issue date','maturity date','maturity','coupon rate','price','TDYLD']].rename(columns={'TDYLD':'ytm'}).dropna()\n",
    "\n",
    "idxset = []\n",
    "for mat in range(1,NDATA):\n",
    "    idxset.append(tab['maturity'].sub(mat/2).abs().idxmin())\n",
    "\n",
    "selected_quotes = tab.loc[idxset]"
   ]
  },
  {
   "cell_type": "markdown",
   "id": "cc8a5296",
   "metadata": {},
   "source": [
    "# Calculate Simplified Spot Rates"
   ]
  },
  {
   "cell_type": "markdown",
   "id": "7c7dc486",
   "metadata": {},
   "source": [
    "Get quotes from Fama-Bliss discounts"
   ]
  },
  {
   "cell_type": "code",
   "execution_count": 8,
   "id": "208b758b",
   "metadata": {},
   "outputs": [],
   "source": [
    "DATE = '2022-12-30'\n",
    "\n",
    "filepath = f'../data/treasury_zero_coupon_{DATE}.xlsx'\n",
    "spot_discounts = pd.read_excel(filepath, sheet_name='prices')\n",
    "spot_discounts.set_index('date',inplace=True)\n",
    "spot_discounts.columns = spot_discounts.columns.astype(int)\n",
    "spot_discounts = spot_discounts.iloc[[-1],:]"
   ]
  },
  {
   "cell_type": "markdown",
   "id": "de2b2120",
   "metadata": {},
   "source": [
    "Linearly interpolate for semi-annual spacing"
   ]
  },
  {
   "cell_type": "code",
   "execution_count": 9,
   "id": "d3fab569",
   "metadata": {},
   "outputs": [],
   "source": [
    "for i, mat in enumerate([0.5,1.5,2.5,3.5,4.5]):\n",
    "    if i==0:\n",
    "        spot_discounts[mat] = (1 + spot_discounts.iloc[0,i])/2\n",
    "    else:\n",
    "        spot_discounts[mat] = (spot_discounts.iloc[0,i-1] + spot_discounts.iloc[0,i])/2\n",
    "        \n",
    "sort_columns = np.arange(.5,5.5,.5)\n",
    "spot_discounts = spot_discounts[sort_columns].T\n",
    "spot_discounts.columns = ['discount factor']\n",
    "spot_discounts.index.name = 'maturity'"
   ]
  },
  {
   "cell_type": "markdown",
   "id": "1946f6b3",
   "metadata": {},
   "source": [
    "# Save Data"
   ]
  },
  {
   "cell_type": "code",
   "execution_count": 10,
   "id": "9108c5e0",
   "metadata": {},
   "outputs": [],
   "source": [
    "outfile = f'../data/selected_treasury_quotes_{QUOTE_DATE}.xlsx'\n",
    "with pd.ExcelWriter(outfile) as writer:  \n",
    "    selected_quotes.to_excel(writer, sheet_name= 'quotes', index=True)"
   ]
  },
  {
   "cell_type": "code",
   "execution_count": 11,
   "id": "8dcd9fa9",
   "metadata": {},
   "outputs": [],
   "source": [
    "outfile = f'../data/simplified_spot_discounts_{DATE}.xlsx'\n",
    "with pd.ExcelWriter(outfile) as writer:  \n",
    "    spot_discounts.to_excel(writer, sheet_name= 'data', index=True)"
   ]
  }
 ],
 "metadata": {
  "hide_input": false,
  "kernelspec": {
   "display_name": "Python 3 (ipykernel)",
   "language": "python",
   "name": "python3"
  },
  "language_info": {
   "codemirror_mode": {
    "name": "ipython",
    "version": 3
   },
   "file_extension": ".py",
   "mimetype": "text/x-python",
   "name": "python",
   "nbconvert_exporter": "python",
   "pygments_lexer": "ipython3",
   "version": "3.9.7"
  }
 },
 "nbformat": 4,
 "nbformat_minor": 5
}
