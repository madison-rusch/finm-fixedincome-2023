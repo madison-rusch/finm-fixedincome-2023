{
 "cells": [
  {
   "cell_type": "markdown",
   "id": "3e013a68",
   "metadata": {},
   "source": [
    "# Final Exam\n",
    "\n",
    "## FINM 37400 - 2023\n",
    "\n",
    "### UChicago Financial Mathematics\n",
    "\n",
    "* Mark Hendricks\n",
    "* hendricks@uchicago.edu"
   ]
  },
  {
   "cell_type": "markdown",
   "id": "e8a3ac50",
   "metadata": {},
   "source": [
    "# Instructions"
   ]
  },
  {
   "cell_type": "markdown",
   "id": "7450e603",
   "metadata": {},
   "source": [
    "## Please note the following:\n",
    "\n",
    "Points\n",
    "* The exam is 180 points.\n",
    "* You have 180 minutes to complete the exam.\n",
    "* For every minute late you submit the exam, you will lose one point.\n",
    "Final Exam\n",
    "\n",
    "Submission\n",
    "* You will upload your solution to the Final Exam assignment on Canvas, where you downloaded this.\n",
    "* Your submission should be readable, (the graders can understand your answers,) and it should include all code used in your analysis in a file format that the code can be executed. (ie. .ipynb preferred, .pdf is unacceptable.)\n",
    "\n",
    "Rules\n",
    "* The exam is open-material, closed-communication.\n",
    "* You do not need to cite material from the course github repo--you are welcome to use the code posted there without citation, (only for this exam.)\n",
    "\n",
    "Advice\n",
    "* If you find any question to be unclear, state your interpretation and proceed. We will only answer questions of interpretation if there is a typo, error, etc.\n",
    "* The exam will be graded for partial credit."
   ]
  },
  {
   "cell_type": "markdown",
   "id": "9e66b554",
   "metadata": {},
   "source": [
    "## Data\n",
    "\n",
    "**All data files are found in the class github repo, in the `data` folder.**\n",
    "\n",
    "This exam makes use of the following data files:\n",
    "\n",
    "### Sections 2, 3, 4\n",
    "* `treasury_ts_2020-08-15.xlsx`\n",
    "\n",
    "If you get stuck on 2.2, you can replace that answer with the data in \n",
    "* `simplified_spot_discounts_2022-12-30.xlsx`\n",
    "\n",
    "But if you solve 2.2, then you'll have no use/need of this data.\n",
    "\n",
    "### Section 5\n",
    "* `treasury_ts_2020-08-15.xlsx`"
   ]
  },
  {
   "cell_type": "markdown",
   "id": "5278d8d8",
   "metadata": {},
   "source": [
    "## Scoring\n",
    "\n",
    "| Problem | Points |\n",
    "|---------|--------|\n",
    "| 1       | 50     |\n",
    "| 2       | 25     |\n",
    "| 3       | 35     |\n",
    "| 4       | 20     |\n",
    "| 5       | 50     |"
   ]
  },
  {
   "cell_type": "markdown",
   "id": "7c749341",
   "metadata": {},
   "source": [
    "# 1. Short Answer"
   ]
  },
  {
   "cell_type": "markdown",
   "id": "481e896d",
   "metadata": {},
   "source": [
    "### No Data Needed\n",
    "\n",
    "These problem does not require any data file. Rather, analyze the situation conceptually, based on the information below. \n",
    "\n",
    "A few questions may require simple arithmetic."
   ]
  },
  {
   "cell_type": "markdown",
   "id": "c107d56b",
   "metadata": {},
   "source": [
    "## 1.1 (5pts)\n",
    "\n",
    "True or False: The spot rate prices a particular security, and YTM prices any cashflow at a particular maturity.\n",
    "\n",
    "Explain your answer."
   ]
  },
  {
   "cell_type": "markdown",
   "id": "986bb348",
   "metadata": {},
   "source": [
    "## 1.2 (5pts)\n",
    "\n",
    "Suppose the duration of a bond is 7.0. The current price of the bond is 99.8 and the YTM of the bond is 3.27\\%. \n",
    "\n",
    "The spot-rate curve moves up in a parallel shift by 10bps. \n",
    "\n",
    "* What is the approximate price of the bond after the shift?\n",
    "\n",
    "* Do you suspect this approximation is an underestimate or overestimate? "
   ]
  },
  {
   "cell_type": "markdown",
   "id": "8ff14caa",
   "metadata": {},
   "source": [
    "## 1.3 (5pts)\n",
    "\n",
    "Are duration-based approximations of bond prices more accurate for a Treasury with high coupon rate or low coupon rate, (holding other things, like time-to-maturity, equal?)"
   ]
  },
  {
   "cell_type": "markdown",
   "id": "08e3e63b",
   "metadata": {},
   "source": [
    "## 1.4 (5pts)\n",
    "\n",
    "Which tend to be less smooth: spot curves or forward curves? \n",
    "\n",
    "Explain."
   ]
  },
  {
   "cell_type": "markdown",
   "id": "9f9ea63e",
   "metadata": {},
   "source": [
    "## 1.5 (5pts)\n",
    "\n",
    "True or False: Bond prices and returns have nearly zero serial correlation.\n",
    "\n",
    "Explain your answer."
   ]
  },
  {
   "cell_type": "markdown",
   "id": "799417f4",
   "metadata": {},
   "source": [
    "## 1.6 (5pts)\n",
    "\n",
    "As of Dec 2022, the yield curve is \"inverted\"?\n",
    "\n",
    "Does this inversion mathematically imply that expected future spot rates will decline, or is there potentially another explanation?"
   ]
  },
  {
   "cell_type": "markdown",
   "id": "c0afee76",
   "metadata": {},
   "source": [
    "## 1.7 (5pts)\n",
    "\n",
    "Suppose we want to estimate a discount curve from a set of Treasuries.\n",
    "\n",
    "If there are dates where multiple treasuries pay a coupon yet none expire, which of our estimation methods have trouble?\n",
    "* Bootstrap\n",
    "* OLS\n",
    "* Nelson-Siegel\n",
    "\n",
    "Explain."
   ]
  },
  {
   "cell_type": "markdown",
   "id": "347bdcd6",
   "metadata": {},
   "source": [
    "## 1.8 (5pts)\n",
    "\n",
    "Suppose that yesterday you built a position\n",
    "* long a 10-year floating-rate note that resets quarterly\n",
    "* short a 5-year floating-rate note that resets annually\n",
    "\n",
    "Is your duration positive or negative? How about four years from today?\n",
    "\n",
    "Explain."
   ]
  },
  {
   "cell_type": "markdown",
   "id": "846b55d2",
   "metadata": {},
   "source": [
    "## 1.9 (10pts)\n",
    "\n",
    "### Situation\n",
    "Suppose it is Aug 15, 2022. We observe the following annual rates, (semiannually compounded):\n",
    "* 7-year T-note (newly issued) has a price of par, with a coupon of 3.50%.\n",
    "* 7-year swap (semi-annual, SOFR) has a swap rate of 3.00%.\n",
    "\n",
    "*Assume the floating leg equals the repo rate and timing.*\n",
    "\n",
    "### 1.9.1\n",
    "**Conceptually**, explain the short and long positions you wouldl take (on notional of \\\\$100 million) in order to try to profit on this spread **diverging** further, meaning the treasury rate going higher relative to the swap rate.\n",
    "\n",
    "### 1.9.2\n",
    "\n",
    "Suppose that it is February 15, 2023, immediately after the swap has reset and the cashflows of the trade were settled.\n",
    "\n",
    "In the market, we observe the following:\n",
    "* The 5-year swap rate is 3.50%.\n",
    "* The 5-year Treasury has a yield-to-maturity of 4.25%. \n",
    "\n",
    "**Conceptually**, How has the value changed between over the six months of each component of the trade?\n",
    "* swap \n",
    "* T-note"
   ]
  },
  {
   "cell_type": "markdown",
   "id": "b13fc3a1",
   "metadata": {},
   "source": [
    "***"
   ]
  },
  {
   "cell_type": "markdown",
   "id": "485e3401",
   "metadata": {},
   "source": [
    "# 2 Basic Pricing"
   ]
  },
  {
   "cell_type": "markdown",
   "id": "f0bf5396",
   "metadata": {},
   "source": [
    "Use the selected treasury quotes in the file, `selected_treasury_quotes_quotes_2022-12-30.xlsx`.\n",
    "\n",
    "Data is provided on 10 Treasury issues which mature every six months over the next five years.\n",
    "\n",
    "*You are welcome to assume that the issues mature in exactly half-year increments, notwithstanding that in actual trading they may have day-count issues causing them to be slightly above/below half-year increments.*"
   ]
  },
  {
   "cell_type": "markdown",
   "id": "577a3f46",
   "metadata": {},
   "source": [
    "## 2.1 (5pts)\n",
    "\n",
    "Calculate the cashflow matrix for the treasury issues.\n",
    "\n",
    "Display the table."
   ]
  },
  {
   "cell_type": "markdown",
   "id": "9fbc9530",
   "metadata": {},
   "source": [
    "## 2.2 (5pts)\n",
    "\n",
    "Use the bootstrap (or OLS) to extract the spot discount factors from this data, over the maturity range of 0.5 to 5, in half-year increments."
   ]
  },
  {
   "cell_type": "markdown",
   "id": "02730a9f",
   "metadata": {},
   "source": [
    "### Note: If you couldn't extract spot discount factors...\n",
    "\n",
    "Several problems below make use of the spot discounts on Dec 30, 2022.\n",
    "\n",
    "**If you were unable to calculate the answer to 2.3,** feel free to use the simplified discount factors, $Z(t,T)$ provided in the file `simplified_spot_discounts_2022-12-30.xlsx`.\n",
    "\n",
    "Note that the rates in this file are simplified and won't match the answer you'll get if you solve Problem 2.2 above, so don't try to check your answer with them.\n",
    "\n",
    "If you are proceeding with the simplified rates rather than your estimates in 2.2, **state that clearly.**\n",
    "\n",
    "And again, this is **just provided as a help for anyone who couldn't solve 2.2**, so that they can continue with 2.3-2.5, as well as other problems in the exam."
   ]
  },
  {
   "cell_type": "markdown",
   "id": "a392bde1",
   "metadata": {},
   "source": [
    "## 2.3 (5pts)\n",
    "\n",
    "Report the \n",
    "* semi-annually-compounded spot discount **rates** derived from the discount factors above.\n",
    "* continuously-compounded spot rates."
   ]
  },
  {
   "cell_type": "markdown",
   "id": "f7e8c827",
   "metadata": {},
   "source": [
    "## 2.4 (3pts)\n",
    "\n",
    "Without any calculation, just looking at your spot rates from 2.3, is the long-end of the forward curve below or above the spot-rate curve? How do you know?"
   ]
  },
  {
   "cell_type": "markdown",
   "id": "60eb3529",
   "metadata": {},
   "source": [
    "## 2.5 (7pts)\n",
    "Calculate and report the continuously-compounded forward-rate curve, $f(t,T,T+1)$, for $0\\le T \\le 4$.\n",
    "\n",
    "Also report the forward rate, $f(t,T_1,T_2)$, for $T_1=3, T_2=5$."
   ]
  },
  {
   "cell_type": "markdown",
   "id": "7b2f1d63",
   "metadata": {},
   "source": [
    "***"
   ]
  },
  {
   "cell_type": "markdown",
   "id": "0b6432d5",
   "metadata": {},
   "source": [
    "# 3 An Amortized Bond"
   ]
  },
  {
   "cell_type": "markdown",
   "id": "b0192184",
   "metadata": {},
   "source": [
    "Suppose the Treasury announces a new type of bond, the **zero-coupon amortized bond** which works as follows:\n",
    "* it pays the \\\\$100 face value evenly and annually over the life of the bond.\n",
    "* it does not pay any additional coupon.\n",
    "\n",
    "In particular, consider a five-year amortized bond:\n",
    "* it pays \\\\$10 twice per year for the next 5 years.\n",
    "* it does **not** pay any extra principal when it matures at 5 years--just the usual \\\\$10 payment."
   ]
  },
  {
   "cell_type": "markdown",
   "id": "fd8edb98",
   "metadata": {},
   "source": [
    "## 3.1 (5pts)\n",
    "\n",
    "Use the spot discount factors from Problem 2 to price this new security as of December 30, 2022."
   ]
  },
  {
   "cell_type": "markdown",
   "id": "d80f19f4",
   "metadata": {},
   "source": [
    "## 3.2 (5pts)\n",
    "\n",
    "Calculate the YTM of this new **amortized bond**."
   ]
  },
  {
   "cell_type": "markdown",
   "id": "c85de762",
   "metadata": {},
   "source": [
    "## 3.3 (5pts)\n",
    "\n",
    "Conceptually speaking, should the duration of this amortized bond be higher or lower than a typical zero-coupon, five-year treasury bond?\n",
    "\n",
    "And its convexity?"
   ]
  },
  {
   "cell_type": "markdown",
   "id": "6d191b69",
   "metadata": {},
   "source": [
    "## 3.4 (7pts)\n",
    "\n",
    "Calculate the (Macauley) duration of this **amortized** bond."
   ]
  },
  {
   "cell_type": "markdown",
   "id": "fc47a0ed",
   "metadata": {},
   "source": [
    "## 3.5 (6pts)\n",
    "\n",
    "Calculate the convexity of this amortized bond."
   ]
  },
  {
   "cell_type": "markdown",
   "id": "fecbc042",
   "metadata": {},
   "source": [
    "## 3.6 (7pts)\n",
    "\n",
    "Suppose you want to go long this amortized bond but hedge your duration by shorting the 5-year Treasury reported in `selected_treasury_quotes_quotes_2022-12-30.xlsx`.\n",
    "\n",
    "For each long contract of the 5-year amortized, how many contracts should you short of the vanilla 5-year Treasury?"
   ]
  },
  {
   "cell_type": "markdown",
   "id": "f5a63d79",
   "metadata": {},
   "source": [
    "***"
   ]
  },
  {
   "cell_type": "markdown",
   "id": "acc3f2d2",
   "metadata": {},
   "source": [
    "# 4 Expectations Hypothesis"
   ]
  },
  {
   "cell_type": "markdown",
   "id": "32665f25",
   "metadata": {},
   "source": [
    "Continue using the rates from Dec 30, 2022 introduced in Problem 2 above."
   ]
  },
  {
   "cell_type": "markdown",
   "id": "46e8e336",
   "metadata": {},
   "source": [
    "## 4.1 (5pts)\n",
    "\n",
    "Use the Expectations Hypothesis to get a forecast the one-year spot rate that will be available in December of the following four years, (2023, 2024, 2025, 2026.)\n",
    "\n",
    "## 4.2 (5pts)\n",
    "\n",
    "Based on evidence we reviewed of the Expectations Hypothesis, do you expect the forecasts above are too high or low? Explain.\n",
    "\n",
    "## 4.3 (5pts)\n",
    "\n",
    "Suppose that the following month, January 2023, we observe that the forward rates have increased. Is it likely that the future spot rates (in Jan 2023, 2024, 2025, 2026) will increase as well? Explain.\n",
    "\n",
    "## 4.4 (5pts)\n",
    "\n",
    "As of December 2022, describe (conceptually) the \"carry trade\" you would recommend an investor implement.."
   ]
  },
  {
   "cell_type": "markdown",
   "id": "d8ebb4c6",
   "metadata": {},
   "source": [
    "***"
   ]
  },
  {
   "cell_type": "markdown",
   "id": "8443007c",
   "metadata": {},
   "source": [
    "# 5 Long-Short Convergence Trade"
   ]
  },
  {
   "cell_type": "markdown",
   "id": "7a6bb64b",
   "metadata": {},
   "source": [
    "Consider a long-short convergence trade on `2019-08-29`.\n",
    "\n",
    "* Both securities mature on **2020-08-15**.\n",
    "* One is a 30-year **bond** and the other is a 10-year **note**.\n",
    "\n",
    "Find data needed for the analysis in `treasury_ts_2020-08-15.xlsx`.\n",
    "\n",
    "Note:\n",
    "* Use the YTM as given in the field `TDYLD`. Multiply by 365.25 to convert it to an annual yield.\n",
    "* Use the (Macauley) duration given in `TDDURATN`, divided by 365.25 to annualize it."
   ]
  },
  {
   "cell_type": "markdown",
   "id": "b53d6d41",
   "metadata": {},
   "source": [
    "## 5.1 (10pts)\n",
    "\n",
    "Display a table showing the two securities as of `2019-08-29`:\n",
    "* issue date\n",
    "* maturity date\n",
    "* coupon rate\n",
    "* clean price (taken as average of bid and ask)\n",
    "* dirty price\n",
    "* duration (Macauley)\n",
    "* modified duration\n",
    "* ytm"
   ]
  },
  {
   "cell_type": "markdown",
   "id": "f5e0d404",
   "metadata": {},
   "source": [
    "## 5.2 (5pts)\n",
    "\n",
    "On this date, `2019-08-29`, the YTM spread is at a 5-year low.\n",
    "\n",
    "Calculate the YTM spread (bond YTM minus note YTM).\n",
    "* Report this number.\n",
    "\n",
    "Explain conceptually what trade might make sense if we believe this spread will converge back to zero.\n",
    "* Which security will you go long and which will you go short?"
   ]
  },
  {
   "cell_type": "markdown",
   "id": "3b924a83",
   "metadata": {},
   "source": [
    "## 5.3 (5pts)\n",
    "Describe conceptually the risk in this trade.\n",
    "* What risks are present in this trade? \n",
    "* Is it an arbitrage? \n",
    "\n",
    "Answer both over the next month and over the next year, until maturity."
   ]
  },
  {
   "cell_type": "markdown",
   "id": "0f0da093",
   "metadata": {},
   "source": [
    "## 5.4 (10pts)\n",
    "\n",
    "Suppose you use \\\\$1 million of equity capital on the long position, leveraged 50x to buy \\\\$50 million of the long position. Assume any short position will also be levered 50x. \n",
    "\n",
    "*You do not need to worry about the details of this financing. One could view this as a 2\\% capital requirement on both the long and short positions, possibly due to haircuts and brokerage requirements. There is no difference between financing rates on the long and short positions, (so no need to consider repo rate vs brokerage account interest rate.)*\n",
    "\n",
    "**Calculate...**\n",
    "* the number of long contracts \n",
    "* the number of short contracts such that the trade is initialized with zero duration\n",
    "* the dollar value of assets and of equity in each side of the trade.\n",
    "\n",
    "In calculating the number of contracts, assume face value of \\\\$100 each."
   ]
  },
  {
   "cell_type": "markdown",
   "id": "d2d9745c",
   "metadata": {},
   "source": [
    "## 5.5 (10pts)\n",
    "\n",
    "Using the concept of modified duration, how much profit or loss (PnL) would you expect to make for every basis point of convergence in the spread? \n",
    "\n",
    "Specifically, assume the convergence is symmetric: the long position's ytm goes down 0.5bp and the short position's ytm goes up 0.5bp. \n",
    "\n",
    "**Using this approximation, specify the PnL of the long position, the short position, and the net total for a 1bp convergence.**"
   ]
  },
  {
   "cell_type": "markdown",
   "id": "4299a02a",
   "metadata": {},
   "source": [
    "## 5.6 (5pts)\n",
    "\n",
    "Calculate the profit (or loss) on the position as of `2019-10-01`.\n",
    "\n",
    "Show this separately for the long position, the short position, and the net.\n",
    "\n",
    "Note that no coupon is paid between the trade being set up and this date; thus, the PnL is simply a matter of the position's prices."
   ]
  },
  {
   "cell_type": "markdown",
   "id": "510b402b",
   "metadata": {},
   "source": [
    "## 5.7 (5pts)\n",
    "\n",
    "Does the actual PnL above make sense in light of the duration-based PnL-per-bp calculated above? Give two reasons these numbers may not be aligned."
   ]
  },
  {
   "cell_type": "markdown",
   "id": "4cd9823a",
   "metadata": {},
   "source": [
    "***"
   ]
  }
 ],
 "metadata": {
  "hide_input": false,
  "kernelspec": {
   "display_name": "Python 3 (ipykernel)",
   "language": "python",
   "name": "python3"
  },
  "language_info": {
   "codemirror_mode": {
    "name": "ipython",
    "version": 3
   },
   "file_extension": ".py",
   "mimetype": "text/x-python",
   "name": "python",
   "nbconvert_exporter": "python",
   "pygments_lexer": "ipython3",
   "version": "3.9.7"
  }
 },
 "nbformat": 4,
 "nbformat_minor": 5
}
