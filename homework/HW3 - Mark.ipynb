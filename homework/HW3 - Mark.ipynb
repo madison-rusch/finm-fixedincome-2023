{
 "cells": [
  {
   "cell_type": "code",
   "execution_count": 86,
   "id": "d5fb206f",
   "metadata": {},
   "outputs": [],
   "source": [
    "import pandas as pd\n",
    "import numpy as np\n",
    "import datetime\n",
    "import warnings\n",
    "import datetime\n",
    "from sklearn.linear_model import LinearRegression\n",
    "from sklearn.decomposition import PCA\n",
    "from scipy.optimize import minimize\n",
    "\n",
    "import matplotlib.pyplot as plt\n",
    "%matplotlib inline\n",
    "plt.rcParams['figure.figsize'] = (12,6)\n",
    "plt.rcParams['font.size'] = 15\n",
    "plt.rcParams['legend.fontsize'] = 13\n",
    "\n",
    "from matplotlib.ticker import (MultipleLocator,\n",
    "                               FormatStrFormatter,\n",
    "                               AutoMinorLocator)"
   ]
  },
  {
   "cell_type": "code",
   "execution_count": 87,
   "id": "3f5c2b8e",
   "metadata": {},
   "outputs": [],
   "source": [
    "#1.1\n",
    "treasury_bond = []\n",
    "swap_bond = []\n",
    "pv_treasury_bond = []\n",
    "pv_swap_bond = []\n",
    "pvt_treasury_bond = []\n",
    "pvt_swap_bond = []\n",
    "discount = 1\n",
    "for i in range(0, 60):\n",
    "    discount = discount * (1+ 0.04193/2)\n",
    "    if i != 59:\n",
    "        treasury_bond.append(2.125)\n",
    "        swap_bond.append(2.128)\n",
    "        pv_treasury_bond.append(2.125/discount)\n",
    "        pv_swap_bond.append(2.128/discount)\n",
    "        pvt_treasury_bond.append(2.125/discount*(i+1)/2)\n",
    "        pvt_swap_bond.append(2.128/discount*(i+1)/2)\n",
    "    else:\n",
    "        treasury_bond.append(102.125)\n",
    "        swap_bond.append(102.128)\n",
    "        pv_treasury_bond.append(102.125/discount)\n",
    "        pv_swap_bond.append(102.128/discount)\n",
    "        pvt_treasury_bond.append(102.125/discount*(i+1)/2)\n",
    "        pvt_swap_bond.append(102.128/discount*(i+1)/2)"
   ]
  },
  {
   "cell_type": "code",
   "execution_count": 88,
   "id": "8cfb3b03",
   "metadata": {},
   "outputs": [
    {
     "data": {
      "text/plain": [
       "-0.0030000000000001137"
      ]
     },
     "execution_count": 88,
     "metadata": {},
     "output_type": "execute_result"
    }
   ],
   "source": [
    "treasury_bond[1]-swap_bond[1]"
   ]
  },
  {
   "cell_type": "code",
   "execution_count": 89,
   "id": "9c1953ce",
   "metadata": {},
   "outputs": [
    {
     "data": {
      "text/plain": [
       "17.288293145479983"
      ]
     },
     "execution_count": 89,
     "metadata": {},
     "output_type": "execute_result"
    }
   ],
   "source": [
    "#1.2\n",
    "durationtreasury = sum(pvt_treasury_bond)/sum(pv_treasury_bond)\n",
    "durationswap = sum(pvt_treasury_bond)/sum(pvt_swap_bond)-30\n",
    "durationtreasury"
   ]
  },
  {
   "cell_type": "code",
   "execution_count": 90,
   "id": "d97b86fe",
   "metadata": {},
   "outputs": [
    {
     "data": {
      "text/plain": [
       "1745.563315728143"
      ]
     },
     "execution_count": 90,
     "metadata": {},
     "output_type": "execute_result"
    }
   ],
   "source": [
    "dollar_durationtreasury = durationtreasury*sum(pv_treasury_bond)\n",
    "dollar_durationtreasury"
   ]
  },
  {
   "cell_type": "code",
   "execution_count": 91,
   "id": "625a94ab",
   "metadata": {},
   "outputs": [
    {
     "data": {
      "text/plain": [
       "-29.000712547007033"
      ]
     },
     "execution_count": 91,
     "metadata": {},
     "output_type": "execute_result"
    }
   ],
   "source": [
    "durationswap"
   ]
  },
  {
   "cell_type": "code",
   "execution_count": 92,
   "id": "4738c7d6",
   "metadata": {},
   "outputs": [
    {
     "data": {
      "text/plain": [
       "-2928.142155275034"
      ]
     },
     "execution_count": 92,
     "metadata": {},
     "output_type": "execute_result"
    }
   ],
   "source": [
    "dollar_durationswap = durationswap*sum(pv_treasury_bond)\n",
    "dollar_durationswap"
   ]
  },
  {
   "cell_type": "markdown",
   "id": "b520385d",
   "metadata": {},
   "source": [
    "so the duration is negative and its manititude is greater than duration of tresury bond."
   ]
  },
  {
   "cell_type": "code",
   "execution_count": 97,
   "id": "270cdfde",
   "metadata": {},
   "outputs": [
    {
     "data": {
      "text/plain": [
       "838.7384544838442"
      ]
     },
     "execution_count": 97,
     "metadata": {},
     "output_type": "execute_result"
    }
   ],
   "source": [
    "#1.3\n",
    "pos = -500 * durationswap/durationtreasury\n",
    "pos"
   ]
  },
  {
   "cell_type": "markdown",
   "id": "3e1b2e84",
   "metadata": {},
   "source": [
    "so we are expected to long 838.74 million of treasury bonds."
   ]
  },
  {
   "cell_type": "markdown",
   "id": "7b209b24",
   "metadata": {},
   "source": [
    "1.4\n",
    "If the spread is negative, then we are expected to have treasury part increases, but swap part decreases more than the gain of swap."
   ]
  },
  {
   "cell_type": "code",
   "execution_count": 94,
   "id": "434464aa",
   "metadata": {},
   "outputs": [],
   "source": [
    "#1.5\n",
    "pv_treasury_bond_new = []\n",
    "pv_swap_bond_new = []\n",
    "pv_treasury_bond_new.append(pv_treasury_bond[1])\n",
    "pv_swap_bond_new.append(pv_swap_bond[1])\n",
    "discount = 1\n",
    "for i in range(1, 60):\n",
    "    discount = discount * (1+ 0.0436/2)\n",
    "    if i != 59:\n",
    "        pv_treasury_bond_new.append(2.125/discount)\n",
    "        pv_swap_bond_new.append(2.04/discount)\n",
    "    else:\n",
    "        pv_treasury_bond_new.append(102.125/discount)\n",
    "        pv_swap_bond_new.append(102.04/discount)"
   ]
  },
  {
   "cell_type": "code",
   "execution_count": 95,
   "id": "3764addf",
   "metadata": {},
   "outputs": [
    {
     "data": {
      "text/plain": [
       "100.22252389820919"
      ]
     },
     "execution_count": 95,
     "metadata": {},
     "output_type": "execute_result"
    }
   ],
   "source": [
    "sum(pv_treasury_bond_new)"
   ]
  },
  {
   "cell_type": "code",
   "execution_count": 96,
   "id": "34b41bb5",
   "metadata": {},
   "outputs": [
    {
     "data": {
      "text/plain": [
       "97.41870112169434"
      ]
     },
     "execution_count": 96,
     "metadata": {},
     "output_type": "execute_result"
    }
   ],
   "source": [
    "sum(pv_swap_bond_new)"
   ]
  },
  {
   "cell_type": "code",
   "execution_count": 102,
   "id": "49c1c852",
   "metadata": {},
   "outputs": [
    {
     "data": {
      "text/plain": [
       "-20.537726826463768"
      ]
     },
     "execution_count": 102,
     "metadata": {},
     "output_type": "execute_result"
    }
   ],
   "source": [
    "#1.6\n",
    "loss = 500*sum(pv_treasury_bond_new)/100+pos*sum(pv_swap_bond_new)/100-500-pos\n",
    "loss"
   ]
  },
  {
   "cell_type": "code",
   "execution_count": 103,
   "id": "e37f19a6",
   "metadata": {},
   "outputs": [
    {
     "data": {
      "text/plain": [
       "-47.31249591614065"
      ]
     },
     "execution_count": 103,
     "metadata": {},
     "output_type": "execute_result"
    }
   ],
   "source": [
    "-(500+pos)*0.02+loss"
   ]
  },
  {
   "cell_type": "code",
   "execution_count": null,
   "id": "4288f124",
   "metadata": {},
   "outputs": [],
   "source": []
  }
 ],
 "metadata": {
  "kernelspec": {
   "display_name": "Python 3",
   "language": "python",
   "name": "python3"
  },
  "language_info": {
   "codemirror_mode": {
    "name": "ipython",
    "version": 3
   },
   "file_extension": ".py",
   "mimetype": "text/x-python",
   "name": "python",
   "nbconvert_exporter": "python",
   "pygments_lexer": "ipython3",
   "version": "3.8.8"
  }
 },
 "nbformat": 4,
 "nbformat_minor": 5
}
