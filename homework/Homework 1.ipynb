{
 "cells": [
  {
   "cell_type": "markdown",
   "id": "3e013a68",
   "metadata": {},
   "source": [
    "# Homework 1\n",
    "\n",
    "## FINM 37400 - 2023\n",
    "\n",
    "### UChicago Financial Mathematics\n",
    "\n",
    "* Mark Hendricks\n",
    "* hendricks@uchicago.edu"
   ]
  },
  {
   "cell_type": "markdown",
   "id": "97d4c3b4",
   "metadata": {},
   "source": [
    "This homework relies on the data file, `treasury_quotes_2022-09-30`.\n",
    "\n",
    "The problems below analyze the nominal, (rather than the TIPS,) Treasury issues. Accordingly, you should filter out all rows with `ITYPE` of 11 or 12, as these indicate a TIPS Note or TIPS bond.\n",
    "\n",
    "#### #Update as of Jan 7 at 3pm*\n",
    "\n",
    "Find more info about many of the fields in the data set at the following link,\n",
    "\n",
    "https://www.crsp.org/products/documentation/treasno-properties\n",
    "\n",
    "Find the complete manual for the CRSP Treasury data at the following link,\n",
    "\n",
    "https://www.crsp.org/files/treasury_guide_0.pdf"
   ]
  },
  {
   "cell_type": "markdown",
   "id": "27e68a4e",
   "metadata": {},
   "source": [
    "# Problem 1: Explore the Data"
   ]
  },
  {
   "cell_type": "markdown",
   "id": "e07bfd7c",
   "metadata": {},
   "source": [
    "## 1 Maturity\n",
    "\n",
    "For each issue, calculate its time-to-maturity, quoted in number of years, based on the issue and maturity dates. Assume a year has exactly 365.25 days."
   ]
  },
  {
   "cell_type": "markdown",
   "id": "55572cf7",
   "metadata": {},
   "source": [
    "## 2 Prices \n",
    "\n",
    "Calculate the \"dirty\" price for each bond issue as\n",
    "$$\\text{price} = \\frac{1}{2}(\\text{TDBID} + \\text{TDASK}) + \\text{TDACCINT}$$\n",
    "Namely, you are taking the midpoint of the bid and ask prices, and then you add the accrued interest."
   ]
  },
  {
   "cell_type": "markdown",
   "id": "7834d854",
   "metadata": {},
   "source": [
    "## 3 YTM\n",
    "\n",
    "#### #Update as of Jan 9, at 5pm.\n",
    "\n",
    "Write a function to calculate the yield-to-maturity for each issue. You will need to use a nonlinear solver to solve for the YTM."
   ]
  },
  {
   "cell_type": "markdown",
   "id": "d24a0174",
   "metadata": {},
   "source": [
    "## 4 Summary Table\n",
    "\n",
    "#### Correction: Jan 7, 3pm.\n",
    "Field name was listed as `TDYTM` when it is actually `TDYLD`.\n",
    "#### End correction\n",
    "\n",
    "Create a dataframe with the following columns:\n",
    "\n",
    "\n",
    "| maturity | price | coupon rate | ytm | TDYLD | bid-ask |\n",
    "|----------|-------|-------------|-----|----------|---------|\n",
    "\n",
    "where \n",
    "* `maturity` refers to the time-to-maturity\n",
    "* `TDYLD` is the YTM calculated by the data provider\n",
    "\n",
    "Use `describe()` in pandas to to show descriptive statistics for this dataframe."
   ]
  },
  {
   "cell_type": "markdown",
   "id": "6a31f7a6",
   "metadata": {},
   "source": [
    "## 5 Plots\n",
    "\n",
    "Create a scatter plot of maturity versus price for all issues."
   ]
  },
  {
   "cell_type": "markdown",
   "id": "c012c6d0",
   "metadata": {},
   "source": [
    "## 6 Bad Data?\n",
    "\n",
    "Find the issues where `TDYTM` is `NaN`. Display these rows from your table above. How many issues (rows) are effected?\n",
    "\n",
    "What do you see in the other metrics for these issues that suggests that the price is bad?"
   ]
  },
  {
   "cell_type": "markdown",
   "id": "3928bcf3",
   "metadata": {},
   "source": [
    "# Problem 2: Extract the Discount Curve"
   ]
  },
  {
   "cell_type": "markdown",
   "id": "2faf5756",
   "metadata": {},
   "source": [
    "## 1 Map Cashflows\n",
    "\n",
    "Create the cashflow matrix, $\\textbf{C}$, where each rows is a Treasury issue, each column is a date, and each entry is the cash paid on a (normalized) face value of \\$100.\n",
    "\n",
    "You will need to make a few modeling choices to do this...\n",
    "* eliminate any treasury that does not report `TDYTM` or that reports a negative number for `TDYTM`.\n",
    "* assume notes and bonds pay coupons every six months, going backward from the date of maturity.\n",
    "\n",
    "Make other reasonable modeling assumptions as needed.\n",
    "\n",
    "Report:\n",
    "* head and tail rows of the dataframe, $\\textbf{C}$, for instance, using `display()`.\n",
    "\n",
    "* which date has the most cashflow across all issues?\n",
    "\n",
    "* which date has the most issues paying a cashflow?"
   ]
  },
  {
   "cell_type": "markdown",
   "id": "7abd24b6",
   "metadata": {},
   "source": [
    "## 2 Bootstrap\n",
    "\n",
    "Bootstrap the discount factors.\n",
    "\n",
    "Starting with $C$ from the previous problem, further filter to create a subset of Treasury issues cashflow matrix $\\tilde{C}$, such that each column has one, and only one, maturity. Also, each issue (row) has its face value payment in one of the columns.\n",
    "\n",
    "The three step procedure below might be useful.\n",
    "\n",
    "1. For dates with multiple bonds maturing, keep only that with the smallest bid-ask. If there are still multiple bonds maturing on the date, keep only that with the smallest coupon.\n",
    "\n",
    "2. Only keep the first $L$ columns of the cashflow matrix, such that every column has a bond maturing.\n",
    "\n",
    "3. Eliminate any bonds, (rows,) that had maturity beyond column $L$.\n",
    "\n",
    "This should produce the cashflow matrix, $\\tilde{C}$.\n",
    "\n",
    "**Report 5 head and tail rows of $\\tilde{C}$.**\n",
    "\n",
    "Solve the system of equations\n",
    "$$\\textbf{p} = \\tilde{\\textbf{C}}\\, \\textbf{z}_{\\text{bootstrap}}$$\n",
    "\n",
    "**Plot the estimated discount factors, $\\textbf{z}$, against time-to-maturity.**"
   ]
  },
  {
   "cell_type": "markdown",
   "id": "de37fc66",
   "metadata": {},
   "source": [
    "## 3. OLS\n",
    "\n",
    "Estimate the discount factors using OLS.\n",
    "\n",
    "Starting with the cashflow matrix, $C$, create an additional filter to get a subset where every date has at least one maturity, (possibly multiple,) and every issue has its maturity in the cashflow matrix. (You might do something similar to the three-step procedure of the bootstrap, but skip step #1.) Call this set of cashflows, $\\hat{C}$.\n",
    "\n",
    "**Report 5 head and tail rows of $\\hat{C}$.**\n",
    "\n",
    "$$\\textbf{p} = \\hat{\\textbf{C}}\\,\\textbf{z}_{\\text{ols}}+\\epsilon$$\n",
    "\n",
    "**Plot the discount factors against maturities.**"
   ]
  },
  {
   "cell_type": "markdown",
   "id": "72a89906",
   "metadata": {},
   "source": [
    "## 4 Factors and Rates\n",
    "\n",
    "Convert $\\textbf{z}_{\\text{bootstrap}}$ to a set of \n",
    "* continuous discount rates\n",
    "* semiannually compounded discount rates\n",
    "\n",
    "Do the same for $\\textbf{z}_{\\text{ols}}$.\n",
    "\n",
    "Plot the **continuous** discount rates generated via bootstrap and via OLS against time-to-maturity.\n",
    "\n",
    "Plot the **semiannually compounded** discount rates generated via bootstrap and via OLS against time-to-maturity."
   ]
  },
  {
   "cell_type": "markdown",
   "id": "a86e5379",
   "metadata": {},
   "source": [
    "# Problem 3: Nelson-Siegel Curve\n",
    "## *Optional*\n",
    "\n",
    "No need to submit this problem, but if we discuss it, then you are expected to know it."
   ]
  },
  {
   "cell_type": "markdown",
   "id": "0f96de39",
   "metadata": {},
   "source": [
    "Use the Nelson-Siegel curve to model the discount rates. \n",
    "\n",
    "Fit them via minimizing the sum of squared errors for the prices imputed by the model versus the quoted prices. \n",
    "\n",
    "You might try estimating via non-linear least squares.\n",
    "\n",
    "Estimate the model three times, using $\\textbf{C}$, $\\tilde{\\textbf{C}}$, $\\hat{\\textbf{C}}$.\n",
    "\n",
    "Plot the estimated discount factors, $\\textbf{z}_{\\text{ns}}$ against time-to-maturity.\n",
    "\n",
    "Also plot the associated continuously-compounded discount rates."
   ]
  }
 ],
 "metadata": {
  "hide_input": false,
  "kernelspec": {
   "display_name": "Python 3 (ipykernel)",
   "language": "python",
   "name": "python3"
  },
  "language_info": {
   "codemirror_mode": {
    "name": "ipython",
    "version": 3
   },
   "file_extension": ".py",
   "mimetype": "text/x-python",
   "name": "python",
   "nbconvert_exporter": "python",
   "pygments_lexer": "ipython3",
   "version": "3.9.7"
  }
 },
 "nbformat": 4,
 "nbformat_minor": 5
}
