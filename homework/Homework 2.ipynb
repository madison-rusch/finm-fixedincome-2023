{
 "cells": [
  {
   "cell_type": "markdown",
   "id": "3e013a68",
   "metadata": {},
   "source": [
    "# Homework 2\n",
    "\n",
    "## FINM 37400 - 2023\n",
    "\n",
    "### UChicago Financial Mathematics\n",
    "\n",
    "* Mark Hendricks\n",
    "* hendricks@uchicago.edu"
   ]
  },
  {
   "cell_type": "markdown",
   "id": "be85b5d0",
   "metadata": {},
   "source": [
    "***"
   ]
  },
  {
   "cell_type": "markdown",
   "id": "013254e0",
   "metadata": {},
   "source": [
    "# 1 HBS Case: Fixed-Income Arbitrage in a Financial Crisis (A): US Treasuries in November 2008\n",
    "\n",
    "## Data\n",
    "* Use the data file `treasury_ts_2015-08-15.xlsx`.\n",
    "* Examine the treasure issues with `kytreasno` of `204046` and `204047`. These are the bond and note (respectively) which mature on 2015-08-15.\n",
    "* Look at the data on 2008-11-04.\n",
    "\n",
    "## 1.1 The situation\n",
    "\n",
    "Make a chart comparing the issues in the following features, (as of Nov 4, 2008.)\n",
    "* coupon rate\n",
    "* bid\n",
    "* ask\n",
    "* accrued interest\n",
    "* dirty price\n",
    "* duration (quoted in years, not days, assuming 365.25 days per year.)\n",
    "* modified duration\n",
    "* YTM\n",
    "\n",
    "## 1.2 Hedge Ratio\n",
    "\n",
    "Suppose you are building a trade to go long $n_i$ bonds (`204046`) and short $n_j$ notes (`204047`).\n",
    "\n",
    "We can find an equation for $n_j$ in terms of $n_i$ such that the total holdings will have duration equal to zero. (Having zero duration also means have zero dollar duration, if helpful.)\n",
    "\n",
    "Notation:\n",
    "* $n_i$: number of bonds purchased (or sold)\n",
    "* $D_i$: duration of bond $i$\n",
    "* $D_{\\$,i}$: dollar duration of bond $i$, equal to $p_iD_i$\n",
    "\n",
    "If we want the total duration of our holdings to be zero, then we need to size the trade such that $n_i$ and $n_j$ satisfy,\n",
    "\n",
    "$$0 = n_iD_{\\$,i} + n_jD_{\\$,j}$$\n",
    "\n",
    "$$n_j = -n_i\\frac{D_{\\$,i}}{D_{\\$,j}}$$\n",
    "\n",
    "Suppose you will use \\\\$1mm of capital, leveraged 50x to buy \\\\$50mm of the bonds (`204046`).\n",
    "\n",
    "Use the ratio above to short a number of notes (`204047`) to keep zero duration.\n",
    "\n",
    "Report the number of bonds and notes of your position, along with the total dollars in the short position."
   ]
  },
  {
   "cell_type": "markdown",
   "id": "e42121bc",
   "metadata": {},
   "source": [
    "## 1.3 Profit Opportunity\n",
    "\n",
    "Using the concept of **modified duration**, how much profit or loss (PnL) would you expect to make for every basis point of convergence in the spread? Specifically, assume the convergence is symmetric: the bond's (`204046`) ytm goes down 0.5bp and the note (`204047`) ytm goes up 0.5bp.\n",
    "\n",
    "Describe the PnL you would expect to achieve on your position should this happen. Specify the PnL of the long position, the short position, and the net total.\n",
    "\n",
    "Suppose the spread in YTM between the two securities disappears, due to a symmetric move of roughly ~17bps in each security's YTM. What is the PnL? (This is just a linearly scaling of your prior answer for a 1bp convergence.) \n",
    "\n",
    "\n",
    "## 1.4 Result in 2008\n",
    "\n",
    "Calculate the profit (or loss) on the position on the following two dates:\n",
    "* 2008-11-25\n",
    "* 2008-12-16\n",
    "\n",
    "To calculate the pnl on each date, simply use the prices of the securities on those dates along with your position sizes, ($n_i, n_j$). No coupon is being paid in November or December, so all you need is the \"dirty\" price on these two dates.\n",
    "\n",
    "Does the pnl make sense (approximately) given your results in 1.3 with regard to the sensitivity of pnl to moves in the YTM spread?\n",
    "\n",
    "## 1.5 *Optional*: Examining the Trade through June 2009\n",
    "\n",
    "Calculate the pnl of the trade for the following dates:\n",
    "* 2009-01-27\n",
    "* 2009-03-24\n",
    "* 2009-06-16\n",
    "\n",
    "Did the trade do well or poorly in the first six months of 2009?\n",
    "\n",
    "Calculate the YTM spreads on these dates. Does the YTM spread correspond to pnl roughly as we would expect based on the calculation in 1.3?"
   ]
  },
  {
   "cell_type": "markdown",
   "id": "e42a4ad4",
   "metadata": {},
   "source": [
    "***"
   ]
  },
  {
   "cell_type": "markdown",
   "id": "78a91c5d",
   "metadata": {},
   "source": [
    "# 2 Calculating Duration"
   ]
  },
  {
   "cell_type": "markdown",
   "id": "db1c8aea",
   "metadata": {},
   "source": [
    "Use the data file `../data/treasury_quotes_2022-09-30.xlsx`.\n",
    "\n",
    "This data reports duration as `TDDURATN`. It quotes the duration in days, so I recommend dividing by 365 to get the duration in its usual format.\n",
    "\n",
    "## 2.1 \n",
    "Set up the cashflow matrix. \n",
    "\n",
    "\n",
    "## 2.2\n",
    "Build a discount curve assuming that the spot rate is 2\\% per year, continuously compounded.\n",
    "\n",
    "Plot the discount curve and the associated spot curve out to 30 years maturity.\n",
    "\n",
    "*Note, you do not need to properly extract a spot curve and associated discount factors; rather, you are simply assuming a flat term structure of spot rates at 2\\% and using that to figure out discount rates.*\n",
    "\n",
    "## 2.3\n",
    "For each treasury issue, calculate the duration as the weighted average of the (discounted!) cashflow maturity.\n",
    "\n",
    "Report the summary statistics of the durations. (Use `.describe()` from pandas.)\n",
    "\n",
    "\n",
    "## 2.4\n",
    "How close are your duration estimates to the imputed durations given in the data source, (column `TDDURATN`)?\n",
    "\n",
    "Report the summary statistics of the imputed durations minus your calculated durations from above.\n",
    "\n",
    "Why might they be different?\n",
    "\n",
    "## 2.5\n",
    "Continue using your assumed discount rates of 2\\% to calculate the convexity of each issue.\n",
    "\n",
    "Report the summary statistics of these convexity calculations.\n",
    "\n",
    "## 2.6 (Optional)\n",
    "\n",
    "Re-do the duration and convexity calculations using an extracted discount curve instead of a discount curve based on a constant (arbitrary) spot rate. "
   ]
  },
  {
   "cell_type": "markdown",
   "id": "b4399246",
   "metadata": {},
   "source": [
    "# 3 Hedging Duration"
   ]
  },
  {
   "cell_type": "markdown",
   "id": "56022773",
   "metadata": {},
   "source": [
    "Import `treasury_ts_issue_duration_(207392, 207391, 207457).xlsx`.\n",
    "\n",
    "I suggest using code such as\n",
    "\n",
    "* `tsdata = pd.read_excel(filepath_tsdata,sheet_name='ts')`\n",
    "\n",
    "* `tsdata.columns = tsdata.columns.str.upper()`\n",
    "\n",
    "* `px = tsdata.pivot_table(index='CALDT',columns='KYTREASNO',values='TDASK').dropna()`\n",
    "* `duration = tsdata.pivot_table(index='CALDT',columns='KYTREASNO',values='TDDURATN').dropna()`\n",
    "\n",
    "## 3.1 \n",
    "\n",
    "Suppose you have a portfolio of 10,000 USD long in security `207391` on the last day of the sample.\n",
    "\n",
    "If you want to manage interest rate exposure using duration, how large of a short position should you hold in `207392`?\n",
    "\n",
    "(Duration is the column `TDDURATN` in the raw data.)\n",
    "\n",
    "## 3.2\n",
    "\n",
    "Step through the time-series, doing the following:\n",
    "\n",
    "* Starting at the end of the first day, set the hedged position according to the relative given durations.\n",
    "* Use the second day's price data to evaluate the net profit or loss of the hedged position.\n",
    "* Reset the the hedged position using the end-of-second-day durations. Again fix the long position of security `207391` to be 10,000.\n",
    "* Repeat throughout the timeseries.\n",
    "\n",
    "Report \n",
    "* the total profit (or loss.)\n",
    "* the mean, standard deviation, min, and max of the daily profit or loss."
   ]
  },
  {
   "cell_type": "markdown",
   "id": "cfaae81d",
   "metadata": {},
   "source": [
    "***"
   ]
  },
  {
   "cell_type": "markdown",
   "id": "dc11f388",
   "metadata": {},
   "source": [
    "# 4 Other Interest-Rate Risks\n",
    "\n",
    "## *Optional*\n",
    "\n",
    "***No need to submit this problem, but if we discuss it, then you are expected to know it.***"
   ]
  },
  {
   "cell_type": "markdown",
   "id": "77df6678",
   "metadata": {},
   "source": [
    "## 4.1 Other Yield Curve Movements\n",
    "\n",
    "Use the yield curve time-series data in `'../data/yields_2022-11-30.xlsx` to calculate the time-series of the **level**, **slope**, and curvature** factors.\n",
    "\n",
    "Calculate the yield-curve factors. For each point in time, calculate the following three factors:\n",
    "\n",
    "$\\begin{align}\n",
    "x^{\\text{level}}_t =& \\frac{1}{N_{\\text{yields}}}\\sum_{i=1}^{N_{\\text{yields}}} y^{(i)}_t\\\\\n",
    "x^{\\text{slope}}_t =& y^{(30)}_t - y^{(1)}_t\\\\\n",
    "x^{\\text{curvature}}_t =& -y^{(1)}_t + 2 y^{(10)}_t - y^{(30)}_t\n",
    "\\end{align}$\n",
    "\n",
    "Report the mean and volatility of each factor.\n",
    "\n",
    "Report the correlation matrix of the factors."
   ]
  },
  {
   "cell_type": "markdown",
   "id": "2a62659e",
   "metadata": {},
   "source": [
    "## 4.2 Factor Duration\n",
    "\n",
    "Calculate the factor duration of the treasuries from `treasury_ts_issue_duration_(207392, 207391, 207457).xlsx`.\n",
    "\n",
    "Run a multivariate regression of the bond prices on all three factors constructed above from the yield factors: level, slope, and curvature. \n",
    "\n",
    "Estimate the regression in the form of day-over-day differences for both bond prices and factors. That is, we are using regression to approximate the factor duration equation,\n",
    "\n",
    "$\\begin{align}\n",
    "\\frac{dP}{P} = \\beta_1 dz_1 + \\beta_2 dz_2 + \\beta_3 dz_3 + \\epsilon\n",
    "\\end{align}$\n",
    "\n",
    "Report the betas for each of these factors, for each of the bond prices."
   ]
  }
 ],
 "metadata": {
  "hide_input": false,
  "kernelspec": {
   "display_name": "Python 3 (ipykernel)",
   "language": "python",
   "name": "python3"
  },
  "language_info": {
   "codemirror_mode": {
    "name": "ipython",
    "version": 3
   },
   "file_extension": ".py",
   "mimetype": "text/x-python",
   "name": "python",
   "nbconvert_exporter": "python",
   "pygments_lexer": "ipython3",
   "version": "3.9.7"
  }
 },
 "nbformat": 4,
 "nbformat_minor": 5
}
