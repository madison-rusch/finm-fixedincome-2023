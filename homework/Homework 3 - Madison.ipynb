{
 "cells": [
  {
   "attachments": {},
   "cell_type": "markdown",
   "metadata": {},
   "source": [
    "# Homework 3\n",
    "- Madison Rusch\n",
    "- Mark Minxing Zhao\n",
    "- Tim Taylor\n",
    "- Qayum Khan"
   ]
  },
  {
   "cell_type": "code",
   "execution_count": 37,
   "metadata": {},
   "outputs": [],
   "source": [
    "import pandas as pd\n",
    "import numpy as np\n",
    "import matplotlib.pyplot as plt\n",
    "import datetime\n",
    "\n",
    "def generate_treasury_cashflow_matrix(bond_maturity, coupon_rate, face_value, paid_per_year):\n",
    "    cashflow_matrix = []\n",
    "    for i in range(1, (bond_maturity * paid_per_year) + 1) :\n",
    "        if i == bond_maturity * paid_per_year:\n",
    "            cashflow_matrix.append(face_value + (face_value * (coupon_rate/paid_per_year)))\n",
    "        else:\n",
    "            cashflow_matrix.append(face_value * (coupon_rate/paid_per_year))\n",
    "    return cashflow_matrix\n",
    "\n",
    "def generate_swap_cashflow_matrix(length_of_swap, swap_rate, notional, paid_per_year):\n",
    "    cashflow_matrix = []\n",
    "    for i in range(1, (length_of_swap * paid_per_year) + 1):\n",
    "        if i == length_of_swap * paid_per_year:\n",
    "            cashflow_matrix.append(notional + (notional * (swap_rate/paid_per_year)))\n",
    "        else:\n",
    "            cashflow_matrix.append(notional * (swap_rate/paid_per_year))\n",
    "    return cashflow_matrix\n",
    "\n",
    "def generate_payment_dates(years, frequency_per_year, start_date: datetime.date):\n",
    "    dates = []\n",
    "    current_date = start_date\n",
    "    for i in range(years*frequency_per_year):\n",
    "        months = 12 / frequency_per_year\n",
    "        new_date = current_date + pd.DateOffset(months=months)\n",
    "        current_date = new_date\n",
    "        dates.append(new_date)\n",
    "    return dates"
   ]
  },
  {
   "attachments": {},
   "cell_type": "markdown",
   "metadata": {},
   "source": [
    "## 1.1\n",
    "List the projected cashflows on May 4, 2009, exactly six months into the trade, on the first coupon and swap date."
   ]
  },
  {
   "cell_type": "code",
   "execution_count": 38,
   "metadata": {},
   "outputs": [
    {
     "data": {
      "text/plain": [
       "Treasury    2.250\n",
       "Swap        2.128\n",
       "Name: 2009-05-04 00:00:00, dtype: float64"
      ]
     },
     "metadata": {},
     "output_type": "display_data"
    }
   ],
   "source": [
    "# Treasury\n",
    "MATURITY = 30\n",
    "COUPON = 0.045\n",
    "FACE_VALUE = 100\n",
    "T_PAID_PER_YEAR = 2\n",
    "YIELD_TO_MATURITY = 0.04193\n",
    "\n",
    "# Swap\n",
    "LENGTH = 30\n",
    "SWAP_RATE = 0.04256\n",
    "NOTIONAL = 100\n",
    "S_PAID_PER_YEAR = 2\n",
    "\n",
    "CURRENT_DATE = datetime.date(2008, 11, 4)\n",
    "\n",
    "treasury_cashflows = generate_treasury_cashflow_matrix(MATURITY, COUPON, FACE_VALUE, T_PAID_PER_YEAR)\n",
    "swap_cashflows = generate_swap_cashflow_matrix(LENGTH, SWAP_RATE, NOTIONAL, S_PAID_PER_YEAR)\n",
    "dates = generate_payment_dates(LENGTH, T_PAID_PER_YEAR, CURRENT_DATE)\n",
    "\n",
    "df = pd.DataFrame(index=dates, columns=['Treasury', 'Swap'])\n",
    "df['Treasury'] = treasury_cashflows\n",
    "df['Swap'] = swap_cashflows\n",
    "display(df.iloc[0])"
   ]
  },
  {
   "attachments": {},
   "cell_type": "markdown",
   "metadata": {},
   "source": [
    "We receive the treasury coupon rate as income, and pay out the fixed rate of the swap, as seen above on a 100 face value, resulting in a total cashflow of $0.12 per $100."
   ]
  },
  {
   "attachments": {},
   "cell_type": "markdown",
   "metadata": {},
   "source": [
    "## 1.2\n",
    "What is the duration of the T-bond? The swap?\n",
    "\n",
    "Remember that...\n",
    "\n",
    "- the swap can be decomposed into a fixed-rate bond and a floating-rate note\n",
    "- a floating-rate note has duration equal to the time until the next reset. Thus, at initialization, it has duration equal to 0.5 years.\n",
    "\n",
    "Is the duration for the \"paying-fixed\" swap positive or negative? Is it bigger or smaller in magnitude than the T-bond?\n",
    "\n",
    "For this problem, calculate the Macauley duration and the dollar (Macauley) duration."
   ]
  },
  {
   "cell_type": "code",
   "execution_count": 39,
   "metadata": {},
   "outputs": [
    {
     "name": "stdout",
     "output_type": "stream",
     "text": [
      "The duration of the treasury is 17.083633069693033\n",
      "The duration of the swap is -16.712744454567797\n",
      "Therefore the net duration is 0.3708886151252351\n"
     ]
    }
   ],
   "source": [
    "def calculate_duration(cashflow_matrix, yield_to_maturity, frequency=2):\n",
    "    numerator = 0\n",
    "    denominator = 0\n",
    "    for i, cashflow in enumerate(cashflow_matrix):\n",
    "        numerator += cashflow * (i+1) / (1 + yield_to_maturity / frequency) ** (i+1)\n",
    "        denominator += cashflow / (1 + yield_to_maturity / frequency) ** (i+1)\n",
    "    return numerator / denominator\n",
    "\n",
    "def duration(coupon_rate, time_to_maturity, frequency, rate):\n",
    "    \"\"\"\n",
    "    Calculates the time intervals of the cashflows and returns the average \n",
    "    of the the time intervals weighted by the corresponding cashflows\n",
    "    \"\"\"\n",
    "    if coupon_rate==0:\n",
    "        return time_to_maturity\n",
    "    else:\n",
    "        first_coupon_interval = time_to_maturity%(1/frequency)\n",
    "        number_of_payments = int(np.ceil(time_to_maturity/(1/frequency)))\n",
    "        time_intervals = np.linspace(first_coupon_interval, time_to_maturity, number_of_payments)\n",
    "        cashflows = []\n",
    "        for Ti_t in time_intervals:\n",
    "            cashflows.append(((coupon_rate/frequency)/np.power(1+rate/frequency, frequency*(Ti_t))))\n",
    "        cashflows[-1] += 100/np.power(1+rate/frequency, frequency*time_to_maturity)\n",
    "        duration = np.average(time_intervals, weights=cashflows)\n",
    "        return duration\n",
    "    \n",
    "def duration_2(coupon_rate, ytm, years_left, freq = 2):\n",
    "    c = coupon_rate/(100*freq)\n",
    "    y = ytm/(100*freq)\n",
    "    n = years_left*freq\n",
    "    m = freq\n",
    "    macaulay_duration = ((1+y) / (m*y)) - ( (1 + y + n*(c-y)) / ((m*c* ((1+y)**n - 1)) + m*y) )\n",
    "    modified_duration = macaulay_duration / (1 + y)\n",
    "    return macaulay_duration, modified_duration\n",
    "\n",
    "\n",
    "# treasury_duration = calculate_duration(df['Treasury'], YIELD_TO_MATURITY, T_PAID_PER_YEAR)\n",
    "treasury_duration = duration_2(COUPON*100,YIELD_TO_MATURITY*100, MATURITY, T_PAID_PER_YEAR)[0]\n",
    "print(f'The duration of the treasury is {treasury_duration}')\n",
    "\n",
    "# swap_fixed_duration = calculate_duration(df['Swap'], SWAP_RATE, S_PAID_PER_YEAR)\n",
    "swap_fixed_duration = duration_2(SWAP_RATE*100, SWAP_RATE*100, LENGTH, S_PAID_PER_YEAR)[0]\n",
    "swap_floating_duration = 0.5 # On Nov 4, 2008\n",
    "# For 'paying-fixed', we are short the fixed_duration, long the floating_duration\n",
    "swap_duration = swap_floating_duration - swap_fixed_duration\n",
    "print(f'The duration of the swap is {swap_duration}')\n",
    "\n",
    "print(f'Therefore the net duration is {treasury_duration + swap_duration}')"
   ]
  },
  {
   "attachments": {},
   "cell_type": "markdown",
   "metadata": {},
   "source": [
    "Note that in the above calculation, the Swap duration comes out to be negative, with a slightly smaller magnitude than the duration of the Treasury Bond. We also made the assumption that the YTM of the of the Fixed portion of the Swap was equivalent to the swap rate."
   ]
  },
  {
   "cell_type": "code",
   "execution_count": 40,
   "metadata": {},
   "outputs": [
    {
     "name": "stdout",
     "output_type": "stream",
     "text": [
      "The dollar duration of the treasury is 1673.2829303348335\n",
      "The dollar duration of the swap is -1636.4507730071869\n"
     ]
    }
   ],
   "source": [
    "def calculate_modified_duration(duration, yield_to_maturity, frequency=2):\n",
    "    return duration/(1+(yield_to_maturity/frequency))\n",
    "\n",
    "def calculate_dollar_duration(price, duration, yield_to_maturity, frequency=2):\n",
    "    md = calculate_modified_duration(duration, yield_to_maturity, frequency)\n",
    "    return price * md\n",
    "\n",
    "# treasury_modified_duration = duration_2(COUPON*100,YIELD_TO_MATURITY*100, MATURITY, T_PAID_PER_YEAR)[1]\n",
    "treasury_dollar_duration = calculate_dollar_duration(FACE_VALUE, treasury_duration, YIELD_TO_MATURITY, T_PAID_PER_YEAR)\n",
    "print(f'The dollar duration of the treasury is {treasury_dollar_duration}')\n",
    "\n",
    "# swap_modified_duration = duration_2(SWAP_RATE*100, SWAP_RATE*100, LENGTH, S_PAID_PER_YEAR)[0]\n",
    "swap_dollar_duration = calculate_dollar_duration(NOTIONAL, swap_duration, SWAP_RATE, S_PAID_PER_YEAR)\n",
    "print(f'The dollar duration of the swap is {swap_dollar_duration}')\n"
   ]
  },
  {
   "attachments": {},
   "cell_type": "markdown",
   "metadata": {},
   "source": [
    "## 1.3\n",
    "What hedge ratio should be used to balance the notional size of the Treasury bond with the notional size of the swap, such that it is a duration-neutral position?\n",
    "\n",
    "Specifically, if the trader enters the swap paying fixed on $500 million notional, how large of a position should they take in the Treasury bond?"
   ]
  },
  {
   "cell_type": "code",
   "execution_count": 41,
   "metadata": {},
   "outputs": [
    {
     "name": "stdout",
     "output_type": "stream",
     "text": [
      "The hedge ratio is -0.9779880875732855\n",
      "In order to hedge a $500 million notional on the swap, the trader needs to go long $488,994,043.79 in Treasury bonds\n"
     ]
    }
   ],
   "source": [
    "# For hedging, we need the ratio of durations\n",
    "hedge_ratio = swap_dollar_duration / treasury_dollar_duration\n",
    "print(f'The hedge ratio is {hedge_ratio}')\n",
    "\n",
    "treasury_hedge = round(-500_000_000 * hedge_ratio, 2)\n",
    "print(f'In order to hedge a $500 million notional on the swap, the trader needs to go long ${\"{:,}\".format(treasury_hedge)} in Treasury bonds')"
   ]
  },
  {
   "attachments": {},
   "cell_type": "markdown",
   "metadata": {},
   "source": [
    "## 1.4\n",
    "Suppose it is May 4, 2009, exactly six months after putting the trade on.\n",
    "\n",
    "The spread is at -28 bps due to...\n",
    "\n",
    "- The YTM on a new 30-year bond has risen to 4.36%\n",
    "- The swap rate on a new 30-year swap has dropped to 4.08%\n",
    "\n",
    "Explain conceptually how this movement impacts the components of the trade."
   ]
  },
  {
   "attachments": {},
   "cell_type": "markdown",
   "metadata": {},
   "source": [
    "With the higher YTM on the new bond, the price of the bonds have fallen, and our position has lost value. In terms of the swap, the lowered swap rate means we are overpaying on the fixed portion of our existing swap, and we have lost value on the swap as well. This conceptually makes sense because we bet on the spread widening and instead it shrank and even flipped, meaning we lost money on both sides of the trade."
   ]
  },
  {
   "attachments": {},
   "cell_type": "markdown",
   "metadata": {},
   "source": [
    "## 1.5\n",
    "Calculate the value of the position on May 4, 2009, immediately after the first coupon and swap payments and swap reset.\n",
    "\n",
    "Calculate the revised price of the Treasury bond by assuming you can apply the (May 4) 30-year YTM as a discount rate to the 29.5 year bond. (We are just using this for a rough approximation. You know that good pricing would require a discount curve, but let's not get bogged down with that here.)\n",
    "\n",
    "Calculate the value of the swap by decomposing it into a fixed-rate bond and a floating-rate bond.\n",
    "\n",
    "- The 29.5 year fixed-rate leg is priced using the (May 4) 30-year swap rate as a discount rate.\n",
    "- The floating-rate leg is priced at par given that floating-rate notes are par immediately after resets."
   ]
  },
  {
   "cell_type": "code",
   "execution_count": 47,
   "metadata": {},
   "outputs": [
    {
     "name": "stdout",
     "output_type": "stream",
     "text": [
      "The revised price of the Treasury bond is $102.31\n",
      "The new value of the fixed leg of the swap is $103.0, and the new value of the floating leg is $100\n",
      "Thus the total net change in value of the Swap (given that we're short) is $-3.0 per $100 face value\n"
     ]
    }
   ],
   "source": [
    "\"\"\" Get bond price from YTM \"\"\"\n",
    "def bond_price(face_value, maturity_in_years, ytm, coupon, frequency=2):\n",
    "    freq = float(frequency)\n",
    "    periods = maturity_in_years*freq\n",
    "    numerator = coupon*face_value/freq\n",
    "    dt = [(i+1)/freq for i in range(int(periods))]\n",
    "    price = sum([numerator/(1+ytm/freq)**(freq*t) for t in dt]) + \\\n",
    "            face_value/(1+ytm/freq)**(freq*maturity_in_years)\n",
    "    return price\n",
    "\n",
    "years_left = 29.5\n",
    "new_ytm = 0.0436\n",
    "new_treasury_price = bond_price(FACE_VALUE, years_left, new_ytm, COUPON, T_PAID_PER_YEAR)\n",
    "print(f'The revised price of the Treasury bond is ${round(new_treasury_price, 2)}')\n",
    "\n",
    "new_swap_rate = 0.0408\n",
    "swap_fixed_value = bond_price(NOTIONAL, years_left, new_swap_rate, SWAP_RATE, S_PAID_PER_YEAR)\n",
    "swap_floating_value = NOTIONAL\n",
    "print(f'The new value of the fixed leg of the swap is ${round(swap_fixed_value, 2)}, and the new value of the floating leg is ${round(swap_floating_value, 2)}')\n",
    "print(f'Thus the total net change in value of the Swap (given that we\\'re short) is ${round(swap_floating_value - swap_fixed_value, 2)} per $100 face value')"
   ]
  },
  {
   "attachments": {},
   "cell_type": "markdown",
   "metadata": {},
   "source": [
    "Given the rising YTM, and given the original price of the bond was $105, it is not a surprise to see the price drop to $102.31.\n",
    "\n",
    "Similarly for the Swap, since the swap rate has dropped, the fixed leg of the swap has gone up in value, and we're short, so overall our position has lost value."
   ]
  },
  {
   "attachments": {},
   "cell_type": "markdown",
   "metadata": {},
   "source": [
    "## 1.6\n",
    "Accounting for the change in value of the positions, as well as the 6-month cashflows paid on May 4,\n",
    "\n",
    "- What is the net profit and loss (pnl) of the position?\n",
    "- What is the return on the equity capital, considering that there was a 2% haircut (equity contribution) on the size of the initial treasury bond position."
   ]
  },
  {
   "cell_type": "code",
   "execution_count": 48,
   "metadata": {},
   "outputs": [
    {
     "name": "stdout",
     "output_type": "stream",
     "text": [
      "The total PNL on the position is $-26,813,053.63\n"
     ]
    }
   ],
   "source": [
    "dirty_price = 105\n",
    "treasury_cashflow_1 = treasury_hedge * COUPON\n",
    "treasury_pnl = (treasury_hedge / dirty_price) * (new_treasury_price - dirty_price)\n",
    "\n",
    "swap_notional = 500_000_000\n",
    "swap_payout_1 = -swap_notional * SWAP_RATE\n",
    "swap_pnl = (swap_notional / NOTIONAL) * (swap_floating_value - swap_fixed_value)\n",
    "pnl = treasury_cashflow_1 + treasury_pnl + swap_payout_1 + swap_pnl\n",
    "print(f'The total PNL on the position is ${\"{:,}\".format(round(pnl, 2))}')"
   ]
  },
  {
   "cell_type": "code",
   "execution_count": 50,
   "metadata": {},
   "outputs": [
    {
     "name": "stdout",
     "output_type": "stream",
     "text": [
      "The return on equity capital is -274.165%\n"
     ]
    }
   ],
   "source": [
    "equity = treasury_hedge * 0.02\n",
    "return_on_equity = (pnl/equity) * 100\n",
    "\n",
    "print(f'The return on equity capital is {round(return_on_equity, 3)}%')"
   ]
  }
 ],
 "metadata": {
  "kernelspec": {
   "display_name": "Python 3",
   "language": "python",
   "name": "python3"
  },
  "language_info": {
   "codemirror_mode": {
    "name": "ipython",
    "version": 3
   },
   "file_extension": ".py",
   "mimetype": "text/x-python",
   "name": "python",
   "nbconvert_exporter": "python",
   "pygments_lexer": "ipython3",
   "version": "3.10.9 (tags/v3.10.9:1dd9be6, Dec  6 2022, 20:01:21) [MSC v.1934 64 bit (AMD64)]"
  },
  "orig_nbformat": 4,
  "vscode": {
   "interpreter": {
    "hash": "28c29896733cd258a7e144e5cfe10ab10fb1ed1767adc491e37af3f909fe0b53"
   }
  }
 },
 "nbformat": 4,
 "nbformat_minor": 2
}
