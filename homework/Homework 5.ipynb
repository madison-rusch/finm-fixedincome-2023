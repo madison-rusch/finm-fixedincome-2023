{
 "cells": [
  {
   "cell_type": "markdown",
   "id": "3e013a68",
   "metadata": {},
   "source": [
    "# Homework 5\n",
    "\n",
    "## FINM 37400 - 2023\n",
    "\n",
    "### UChicago Financial Mathematics\n",
    "\n",
    "* Mark Hendricks\n",
    "* hendricks@uchicago.edu"
   ]
  },
  {
   "cell_type": "markdown",
   "id": "c509a321",
   "metadata": {},
   "source": [
    "# 1. Forward Rates"
   ]
  },
  {
   "cell_type": "markdown",
   "id": "d31bd42d",
   "metadata": {},
   "source": [
    "Use the data set `treasury_zero_coupon_2022-12-30.xlsx`.\n",
    "\n",
    "It gives prices on **zero coupon bonds** with maturities of 1 through 5 years.\n",
    "* These are prices per \\\\$1 face value on bonds that only pay principal.\n",
    "* Such bonds can be created from treasuries by *stripping* out their coupons.\n",
    "* In essence, you can consider these prices as the discount factors $Z$, for maturity intervals 1 through 5 years.\n",
    "\n",
    "In this problem, we focus on six dates: the month of December in 2017 through 2022."
   ]
  },
  {
   "cell_type": "markdown",
   "id": "19845af0",
   "metadata": {},
   "source": [
    "## 1.1\n",
    "\n",
    "For each of the six dates, (Dec 2017, Dec 2018, ...), calculate the forward discount factor, $F(t,T_1,T_2)$, where $T_2 = T_1 + 1$ for $1\\le T_1\\le 4$.\n",
    "\n",
    "Make a plot of the curve $F$ at each of these six dates."
   ]
  },
  {
   "cell_type": "markdown",
   "id": "43ff9ac2",
   "metadata": {},
   "source": [
    "## 1.2\n",
    "\n"
   ]
  },
  {
   "cell_type": "markdown",
   "id": "3dafd627",
   "metadata": {},
   "source": [
    "Use $F$ above to calculate the continuously compounded forward rates, $f$, at the six dates.\n",
    "\n",
    "Make a plot of the curve, $f$, at each of these six dates."
   ]
  },
  {
   "cell_type": "markdown",
   "id": "f65d4d51",
   "metadata": {},
   "source": [
    "## 1.3\n",
    "\n",
    "Calculate the continuously compounded spot rates, $r$, at the six dates.\n",
    "\n",
    "Plot both the forward curve and the spot curve on the date of Dec 2017.\n",
    "\n",
    "Recall that $f(t,t,t+1) = r(t,t+1)$."
   ]
  },
  {
   "cell_type": "markdown",
   "id": "480da114",
   "metadata": {},
   "source": [
    "## 1.4\n",
    "\n",
    "Plot the forward curve on Dec 2017 against the time-series evolution of $r(t,t+1)$ for dates $t$ between Dec 2017 and Dec 2021.\n",
    "\n",
    "How does the evolution of one-year rates between 2017-2021 compare to the forward rates of 2017?"
   ]
  },
  {
   "cell_type": "markdown",
   "id": "e59463ad",
   "metadata": {},
   "source": [
    "# 2. Carry Trade"
   ]
  },
  {
   "cell_type": "markdown",
   "id": "0e84a1de",
   "metadata": {},
   "source": [
    "## 2.1\n",
    "\n",
    "Suppose it is December 2017, and you determine to implement a carry trade with the following specification...\n",
    "\n",
    "* Long \\\\$100 million of the 5-year zero-coupon bond (maturing Dec 2022.)\n",
    "* Short \\\\$100 million of the 1-year zero-coupon bond (maturing Dec 2018.)\n",
    "* Assume there is a 2% haircut on each side of the trade, so it requires \\\\$4 million of investor capital to initiate it.\n",
    "\n",
    "Trace the profit and loss each year.\n",
    "* Note that each year you will roll over the short position until the trade concludes in Dec 2022.\n",
    "\n",
    "Calculate the total profit and loss when the trade concludes in Dec 2022.\n",
    "* Calculate the total return on the initial \\\\$4 million of investor capital."
   ]
  },
  {
   "cell_type": "markdown",
   "id": "11f8d196",
   "metadata": {},
   "source": [
    "## 2.2\n",
    "\n",
    "How would this trade play out if the path of one-year spot rates equaled the forward rates observed in 2017?"
   ]
  },
  {
   "cell_type": "markdown",
   "id": "7b9ea799",
   "metadata": {},
   "source": [
    "## 2.3\n",
    "\n",
    "Given Fact 3 of the *dynamic* (conditional) tests of EH in notebook W.5., do you expect that as of Dec 2022 the long-short trade above looks more or less favorable as of Dec 2022-2027 than it did as of Dec 2017-2022?"
   ]
  }
 ],
 "metadata": {
  "hide_input": false,
  "kernelspec": {
   "display_name": "Python 3 (ipykernel)",
   "language": "python",
   "name": "python3"
  },
  "language_info": {
   "codemirror_mode": {
    "name": "ipython",
    "version": 3
   },
   "file_extension": ".py",
   "mimetype": "text/x-python",
   "name": "python",
   "nbconvert_exporter": "python",
   "pygments_lexer": "ipython3",
   "version": "3.9.7"
  }
 },
 "nbformat": 4,
 "nbformat_minor": 5
}
