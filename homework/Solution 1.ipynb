{
 "cells": [
  {
   "cell_type": "markdown",
   "id": "3e013a68",
   "metadata": {},
   "source": [
    "# Solution 1\n",
    "\n",
    "## FINM 37400 - 2023\n",
    "\n",
    "### UChicago Financial Mathematics\n",
    "\n",
    "* Mark Hendricks\n",
    "* hendricks@uchicago.edu"
   ]
  },
  {
   "cell_type": "markdown",
   "id": "97d4c3b4",
   "metadata": {},
   "source": [
    "This homework relies on the data file, `treasury_quotes_2022-09-30`.\n",
    "\n",
    "The problems below analyze the nominal, (rather than the TIPS,) Treasury issues. Accordingly, you should filter out all rows with `ITYPE` of 11 or 12, as these indicate a TIPS Note or TIPS bond.\n",
    "\n",
    "#### #Update as of Jan 7 at 3pm*\n",
    "\n",
    "Find more info about many of the fields in the data set at the following link,\n",
    "\n",
    "https://www.crsp.org/products/documentation/treasno-properties\n",
    "\n",
    "Find the complete manual for the CRSP Treasury data at the following link,\n",
    "\n",
    "https://www.crsp.org/files/treasury_guide_0.pdf"
   ]
  },
  {
   "cell_type": "markdown",
   "id": "27e68a4e",
   "metadata": {},
   "source": [
    "# Problem 1: Explore the Data"
   ]
  },
  {
   "cell_type": "markdown",
   "id": "e07bfd7c",
   "metadata": {},
   "source": [
    "## 1 Maturity\n",
    "\n",
    "For each issue, calculate its time-to-maturity, quoted in number of years, based on the issue and maturity dates. Assume a year has exactly 365.25 days."
   ]
  },
  {
   "cell_type": "markdown",
   "id": "55572cf7",
   "metadata": {},
   "source": [
    "## 2 Prices \n",
    "\n",
    "Calculate the \"dirty\" price for each bond issue as\n",
    "$$\\text{price} = \\frac{1}{2}(\\text{TDBID} + \\text{TDASK}) + \\text{TDACCINT}$$\n",
    "Namely, you are taking the midpoint of the bid and ask prices, and then you add the accrued interest."
   ]
  },
  {
   "cell_type": "markdown",
   "id": "7834d854",
   "metadata": {},
   "source": [
    "## 3 YTM\n",
    "\n",
    "#### #Update as of Jan 9, at 5pm.\n",
    "\n",
    "Write a function to calculate the yield-to-maturity for each issue. You will need to use a nonlinear solver to solve for the YTM."
   ]
  },
  {
   "cell_type": "markdown",
   "id": "d24a0174",
   "metadata": {},
   "source": [
    "## 4 Summary Table\n",
    "\n",
    "#### #Update: Jan 7, 3pm.\n",
    "Field name was listed as `TDYTM` when it is actually `TDYLD`.\n",
    "#### End correction\n",
    "\n",
    "Create a dataframe with the following columns:\n",
    "\n",
    "\n",
    "| maturity | price | coupon rate | ytm | TDYLD | bid-ask |\n",
    "|----------|-------|-------------|-----|----------|---------|\n",
    "\n",
    "where \n",
    "* `maturity` refers to the time-to-maturity\n",
    "* `TDYLD` is the YTM calculated by the data provider\n",
    "\n",
    "Use `describe()` in pandas to to show descriptive statistics for this dataframe."
   ]
  },
  {
   "cell_type": "markdown",
   "id": "6a31f7a6",
   "metadata": {},
   "source": [
    "## 5 Plots\n",
    "\n",
    "Create a scatter plot of maturity versus price for all issues."
   ]
  },
  {
   "cell_type": "markdown",
   "id": "c012c6d0",
   "metadata": {},
   "source": [
    "## 6 Bad Data?\n",
    "\n",
    "Find the issues where `TDYLD` is `NaN`. Display these rows from your table above. How many issues (rows) are effected?\n",
    "\n",
    "What do you see in the other metrics for these issues that suggests that the price is bad?"
   ]
  },
  {
   "cell_type": "markdown",
   "id": "c04e88d6",
   "metadata": {},
   "source": [
    "# <span style=\"color:red\">Solution 1</span>"
   ]
  },
  {
   "cell_type": "code",
   "execution_count": 1,
   "id": "b8d3eafc",
   "metadata": {},
   "outputs": [],
   "source": [
    "import pandas as pd\n",
    "import numpy as np\n",
    "import datetime\n",
    "import warnings\n",
    "\n",
    "from sklearn.linear_model import LinearRegression\n",
    "from scipy.optimize import minimize\n",
    "\n",
    "import matplotlib.pyplot as plt\n",
    "%matplotlib inline\n",
    "plt.rcParams['figure.figsize'] = (12,6)\n",
    "plt.rcParams['font.size'] = 15\n",
    "plt.rcParams['legend.fontsize'] = 13\n",
    "\n",
    "import sys\n",
    "sys.path.insert(0, '../cmds')\n",
    "from treasury_cmds import *"
   ]
  },
  {
   "cell_type": "code",
   "execution_count": 2,
   "id": "708ab529",
   "metadata": {},
   "outputs": [],
   "source": [
    "QUOTE_DATE = '2022-09-30'\n",
    "\n",
    "filepath_rawdata = f'../data/treasury_quotes_{QUOTE_DATE}.xlsx'\n",
    "rawdata = pd.read_excel(filepath_rawdata,sheet_name='quotes')\n",
    "rawdata.columns = rawdata.columns.str.upper()\n",
    "rawdata.sort_values('TMATDT',inplace=True)\n",
    "rawdata.set_index('KYTREASNO',inplace=True)"
   ]
  },
  {
   "cell_type": "code",
   "execution_count": 3,
   "id": "3a18a330",
   "metadata": {},
   "outputs": [],
   "source": [
    "t_check = rawdata['CALDT'].values[0]\n",
    "if rawdata['CALDT'].eq(t_check).all():\n",
    "    t_current = t_check\n",
    "else:\n",
    "    warnings.warn('Quotes are from multiple dates.')\n",
    "    t_current = None"
   ]
  },
  {
   "cell_type": "code",
   "execution_count": 4,
   "id": "4de0ac14",
   "metadata": {},
   "outputs": [
    {
     "data": {
      "text/plain": [
       "'Analysis based on quotes from: 2022-09-30'"
      ]
     },
     "execution_count": 4,
     "metadata": {},
     "output_type": "execute_result"
    }
   ],
   "source": [
    "f'Analysis based on quotes from: {pd.to_datetime(t_current):%Y-%m-%d}'"
   ]
  },
  {
   "cell_type": "code",
   "execution_count": 5,
   "id": "31f11902",
   "metadata": {},
   "outputs": [],
   "source": [
    "metrics = rawdata.copy()[['TDATDT','TMATDT','TCOUPRT','TDYLD','TDDURATN','TDPUBOUT']]\n",
    "metrics.columns = ['issue date','maturity date','coupon rate','TDYLD','duration','outstanding']\n",
    "metrics['TDYLD'] *= 365\n",
    "metrics['duration'] /= 365\n",
    "metrics['outstanding'] *= 1e6\n",
    "metrics['maturity'] = get_maturity_delta(metrics['maturity date'], t_current)\n",
    "metrics['price'] = (rawdata['TDBID'] + rawdata['TDASK'])/2 + rawdata['TDACCINT']\n",
    "metrics['ask-bid'] = rawdata['TDASK'] - rawdata['TDBID']\n",
    "metrics['next cashflow date'] = (calc_cashflows(rawdata) != 0).idxmax(1)"
   ]
  },
  {
   "cell_type": "markdown",
   "id": "0dfebd52",
   "metadata": {},
   "source": [
    "### Helper function for YTM"
   ]
  },
  {
   "cell_type": "code",
   "execution_count": 6,
   "id": "1ffe832e",
   "metadata": {},
   "outputs": [],
   "source": [
    "from scipy.optimize import fsolve\n",
    "\n",
    "def pv(rate, cashflows, maturities,freq=1):\n",
    "    price = sum([cfi/(1+rate/freq)**(maturities[i]*freq) for i, cfi in enumerate(cashflows)])\n",
    "    return price"
   ]
  },
  {
   "cell_type": "markdown",
   "id": "258673bf",
   "metadata": {},
   "source": [
    "### Get cashflow map"
   ]
  },
  {
   "cell_type": "code",
   "execution_count": 7,
   "id": "2a35daec",
   "metadata": {},
   "outputs": [],
   "source": [
    "RESTRICT_YLD = False\n",
    "RESTRICT_TIPS = True\n",
    "\n",
    "RESTRICT_DTS_MATURING = False\n",
    "RESTRICT_REDUNDANT = False\n",
    "\n",
    "data = filter_treasuries(rawdata, t_date=t_current, filter_yld = RESTRICT_YLD, filter_tips = RESTRICT_TIPS, drop_duplicate_maturities=RESTRICT_REDUNDANT)\n",
    "CF = filter_treasury_cashflows(calc_cashflows(data),filter_maturity_dates=RESTRICT_DTS_MATURING)"
   ]
  },
  {
   "cell_type": "markdown",
   "id": "f677f085",
   "metadata": {},
   "source": [
    "### Solve for YTM for each issues\n",
    "\n",
    "The problem was not specific as to which compounding should be reported, so any well-labeled compounding is reasonable.\n",
    "\n",
    "It would be most common to see the \n",
    "* continuous\n",
    "* semi-annual\n",
    "* annual\n",
    "\n",
    "compounded yields in reference to treasury securities. (The semiannual is popular given the semiannual coupons of Treasury notes and bonds.)"
   ]
  },
  {
   "cell_type": "code",
   "execution_count": 8,
   "id": "22d356ee",
   "metadata": {},
   "outputs": [
    {
     "data": {
      "text/html": [
       "<div>\n",
       "<style scoped>\n",
       "    .dataframe tbody tr th:only-of-type {\n",
       "        vertical-align: middle;\n",
       "    }\n",
       "\n",
       "    .dataframe tbody tr th {\n",
       "        vertical-align: top;\n",
       "    }\n",
       "\n",
       "    .dataframe thead th {\n",
       "        text-align: right;\n",
       "    }\n",
       "</style>\n",
       "<table border=\"1\" class=\"dataframe\">\n",
       "  <thead>\n",
       "    <tr style=\"text-align: right;\">\n",
       "      <th></th>\n",
       "      <th>annual</th>\n",
       "      <th>semiannual</th>\n",
       "      <th>daily</th>\n",
       "      <th>continuous</th>\n",
       "    </tr>\n",
       "    <tr>\n",
       "      <th>KYTREASNO</th>\n",
       "      <th></th>\n",
       "      <th></th>\n",
       "      <th></th>\n",
       "      <th></th>\n",
       "    </tr>\n",
       "  </thead>\n",
       "  <tbody>\n",
       "    <tr>\n",
       "      <th>207892</th>\n",
       "      <td>0.024600</td>\n",
       "      <td>0.024451</td>\n",
       "      <td>0.024303</td>\n",
       "      <td>0.024303</td>\n",
       "    </tr>\n",
       "    <tr>\n",
       "      <th>207774</th>\n",
       "      <td>0.024030</td>\n",
       "      <td>0.023887</td>\n",
       "      <td>0.023747</td>\n",
       "      <td>0.023746</td>\n",
       "    </tr>\n",
       "    <tr>\n",
       "      <th>207893</th>\n",
       "      <td>0.025178</td>\n",
       "      <td>0.025022</td>\n",
       "      <td>0.024867</td>\n",
       "      <td>0.024867</td>\n",
       "    </tr>\n",
       "    <tr>\n",
       "      <th>207868</th>\n",
       "      <td>0.026274</td>\n",
       "      <td>0.026103</td>\n",
       "      <td>0.025935</td>\n",
       "      <td>0.025935</td>\n",
       "    </tr>\n",
       "    <tr>\n",
       "      <th>207430</th>\n",
       "      <td>0.029178</td>\n",
       "      <td>0.028968</td>\n",
       "      <td>0.028761</td>\n",
       "      <td>0.028760</td>\n",
       "    </tr>\n",
       "    <tr>\n",
       "      <th>...</th>\n",
       "      <td>...</td>\n",
       "      <td>...</td>\n",
       "      <td>...</td>\n",
       "      <td>...</td>\n",
       "    </tr>\n",
       "    <tr>\n",
       "      <th>207763</th>\n",
       "      <td>0.038725</td>\n",
       "      <td>0.038357</td>\n",
       "      <td>0.037996</td>\n",
       "      <td>0.037994</td>\n",
       "    </tr>\n",
       "    <tr>\n",
       "      <th>207808</th>\n",
       "      <td>0.038609</td>\n",
       "      <td>0.038243</td>\n",
       "      <td>0.037884</td>\n",
       "      <td>0.037882</td>\n",
       "    </tr>\n",
       "    <tr>\n",
       "      <th>207849</th>\n",
       "      <td>0.038551</td>\n",
       "      <td>0.038186</td>\n",
       "      <td>0.037828</td>\n",
       "      <td>0.037826</td>\n",
       "    </tr>\n",
       "    <tr>\n",
       "      <th>207891</th>\n",
       "      <td>0.038355</td>\n",
       "      <td>0.037994</td>\n",
       "      <td>0.037640</td>\n",
       "      <td>0.037638</td>\n",
       "    </tr>\n",
       "    <tr>\n",
       "      <th>207934</th>\n",
       "      <td>0.038137</td>\n",
       "      <td>0.037780</td>\n",
       "      <td>0.037430</td>\n",
       "      <td>0.037428</td>\n",
       "    </tr>\n",
       "  </tbody>\n",
       "</table>\n",
       "<p>378 rows × 4 columns</p>\n",
       "</div>"
      ],
      "text/plain": [
       "             annual  semiannual     daily  continuous\n",
       "KYTREASNO                                            \n",
       "207892     0.024600    0.024451  0.024303    0.024303\n",
       "207774     0.024030    0.023887  0.023747    0.023746\n",
       "207893     0.025178    0.025022  0.024867    0.024867\n",
       "207868     0.026274    0.026103  0.025935    0.025935\n",
       "207430     0.029178    0.028968  0.028761    0.028760\n",
       "...             ...         ...       ...         ...\n",
       "207763     0.038725    0.038357  0.037996    0.037994\n",
       "207808     0.038609    0.038243  0.037884    0.037882\n",
       "207849     0.038551    0.038186  0.037828    0.037826\n",
       "207891     0.038355    0.037994  0.037640    0.037638\n",
       "207934     0.038137    0.037780  0.037430    0.037428\n",
       "\n",
       "[378 rows x 4 columns]"
      ]
     },
     "execution_count": 8,
     "metadata": {},
     "output_type": "execute_result"
    }
   ],
   "source": [
    "px = (rawdata[['TDASK','TDBID']].mean(axis=1) + rawdata['TDACCINT']).loc[CF.index]\n",
    "maturity_grid = pd.Series(get_maturity_delta(CF.columns.values,t_current=t_current),index=CF.columns)\n",
    "\n",
    "ytm = pd.DataFrame(index=px.index,columns=['annual','semiannual','daily','continuous'],dtype=float)\n",
    "for idbond in px.index:\n",
    "    pv_wrapper = lambda y: px.loc[idbond] - pv(y,CF.loc[idbond,:].values,maturity_grid.values,freq=2)\n",
    "    ytm.loc[idbond,'semiannual'] = fsolve(pv_wrapper,.01)\n",
    "\n",
    "ytm['annual'] = compound_rate(ytm['semiannual'],2,1)\n",
    "ytm['daily'] = compound_rate(ytm['semiannual'],2,365)\n",
    "ytm['continuous'] = compound_rate(ytm['semiannual'],2,None)\n",
    "ytm"
   ]
  },
  {
   "cell_type": "markdown",
   "id": "c2ccd1de",
   "metadata": {},
   "source": [
    "### Display Table"
   ]
  },
  {
   "cell_type": "code",
   "execution_count": 9,
   "id": "6ced4349",
   "metadata": {
    "scrolled": false
   },
   "outputs": [
    {
     "data": {
      "text/html": [
       "<div>\n",
       "<style scoped>\n",
       "    .dataframe tbody tr th:only-of-type {\n",
       "        vertical-align: middle;\n",
       "    }\n",
       "\n",
       "    .dataframe tbody tr th {\n",
       "        vertical-align: top;\n",
       "    }\n",
       "\n",
       "    .dataframe thead th {\n",
       "        text-align: right;\n",
       "    }\n",
       "</style>\n",
       "<table border=\"1\" class=\"dataframe\">\n",
       "  <thead>\n",
       "    <tr style=\"text-align: right;\">\n",
       "      <th></th>\n",
       "      <th>maturity</th>\n",
       "      <th>price</th>\n",
       "      <th>coupon rate</th>\n",
       "      <th>TDYLD</th>\n",
       "      <th>ytm</th>\n",
       "      <th>ask-bid</th>\n",
       "    </tr>\n",
       "    <tr>\n",
       "      <th>KYTREASNO</th>\n",
       "      <th></th>\n",
       "      <th></th>\n",
       "      <th></th>\n",
       "      <th></th>\n",
       "      <th></th>\n",
       "      <th></th>\n",
       "    </tr>\n",
       "  </thead>\n",
       "  <tbody>\n",
       "    <tr>\n",
       "      <th>207892</th>\n",
       "      <td>0.010951</td>\n",
       "      <td>99.973389</td>\n",
       "      <td>0.000</td>\n",
       "      <td>0.024286</td>\n",
       "      <td>0.024303</td>\n",
       "      <td>0.000111</td>\n",
       "    </tr>\n",
       "    <tr>\n",
       "      <th>207774</th>\n",
       "      <td>0.016427</td>\n",
       "      <td>99.961000</td>\n",
       "      <td>0.000</td>\n",
       "      <td>0.023730</td>\n",
       "      <td>0.023746</td>\n",
       "      <td>0.000167</td>\n",
       "    </tr>\n",
       "    <tr>\n",
       "      <th>207893</th>\n",
       "      <td>0.030116</td>\n",
       "      <td>99.925139</td>\n",
       "      <td>0.000</td>\n",
       "      <td>0.024850</td>\n",
       "      <td>0.024867</td>\n",
       "      <td>0.000306</td>\n",
       "    </tr>\n",
       "    <tr>\n",
       "      <th>207868</th>\n",
       "      <td>0.035592</td>\n",
       "      <td>99.907736</td>\n",
       "      <td>0.000</td>\n",
       "      <td>0.025917</td>\n",
       "      <td>0.025935</td>\n",
       "      <td>0.000361</td>\n",
       "    </tr>\n",
       "    <tr>\n",
       "      <th>207430</th>\n",
       "      <td>0.041068</td>\n",
       "      <td>100.568648</td>\n",
       "      <td>1.375</td>\n",
       "      <td>0.028740</td>\n",
       "      <td>0.028760</td>\n",
       "      <td>0.031250</td>\n",
       "    </tr>\n",
       "    <tr>\n",
       "      <th>...</th>\n",
       "      <td>...</td>\n",
       "      <td>...</td>\n",
       "      <td>...</td>\n",
       "      <td>...</td>\n",
       "      <td>...</td>\n",
       "      <td>...</td>\n",
       "    </tr>\n",
       "    <tr>\n",
       "      <th>207808</th>\n",
       "      <td>29.125257</td>\n",
       "      <td>66.640625</td>\n",
       "      <td>1.875</td>\n",
       "      <td>0.037857</td>\n",
       "      <td>0.037882</td>\n",
       "      <td>0.046875</td>\n",
       "    </tr>\n",
       "    <tr>\n",
       "      <th>207849</th>\n",
       "      <td>29.377139</td>\n",
       "      <td>72.718750</td>\n",
       "      <td>2.250</td>\n",
       "      <td>0.037800</td>\n",
       "      <td>0.037826</td>\n",
       "      <td>0.062500</td>\n",
       "    </tr>\n",
       "    <tr>\n",
       "      <th>207850</th>\n",
       "      <td>29.377139</td>\n",
       "      <td>62.910156</td>\n",
       "      <td>0.125</td>\n",
       "      <td>NaN</td>\n",
       "      <td>NaN</td>\n",
       "      <td>0.257812</td>\n",
       "    </tr>\n",
       "    <tr>\n",
       "      <th>207891</th>\n",
       "      <td>29.623546</td>\n",
       "      <td>84.726562</td>\n",
       "      <td>2.875</td>\n",
       "      <td>0.037612</td>\n",
       "      <td>0.037638</td>\n",
       "      <td>0.062500</td>\n",
       "    </tr>\n",
       "    <tr>\n",
       "      <th>207934</th>\n",
       "      <td>29.875428</td>\n",
       "      <td>86.507812</td>\n",
       "      <td>3.000</td>\n",
       "      <td>0.037402</td>\n",
       "      <td>0.037428</td>\n",
       "      <td>0.062500</td>\n",
       "    </tr>\n",
       "  </tbody>\n",
       "</table>\n",
       "<p>427 rows × 6 columns</p>\n",
       "</div>"
      ],
      "text/plain": [
       "            maturity       price  coupon rate     TDYLD       ytm   ask-bid\n",
       "KYTREASNO                                                                  \n",
       "207892      0.010951   99.973389        0.000  0.024286  0.024303  0.000111\n",
       "207774      0.016427   99.961000        0.000  0.023730  0.023746  0.000167\n",
       "207893      0.030116   99.925139        0.000  0.024850  0.024867  0.000306\n",
       "207868      0.035592   99.907736        0.000  0.025917  0.025935  0.000361\n",
       "207430      0.041068  100.568648        1.375  0.028740  0.028760  0.031250\n",
       "...              ...         ...          ...       ...       ...       ...\n",
       "207808     29.125257   66.640625        1.875  0.037857  0.037882  0.046875\n",
       "207849     29.377139   72.718750        2.250  0.037800  0.037826  0.062500\n",
       "207850     29.377139   62.910156        0.125       NaN       NaN  0.257812\n",
       "207891     29.623546   84.726562        2.875  0.037612  0.037638  0.062500\n",
       "207934     29.875428   86.507812        3.000  0.037402  0.037428  0.062500\n",
       "\n",
       "[427 rows x 6 columns]"
      ]
     },
     "execution_count": 9,
     "metadata": {},
     "output_type": "execute_result"
    }
   ],
   "source": [
    "COMPOUND_FREQ = 'continuous'\n",
    "\n",
    "table = metrics.copy()\n",
    "table = table[['maturity','price','coupon rate','TDYLD','ask-bid']]\n",
    "table.insert(4,'ytm',ytm[COMPOUND_FREQ])\n",
    "table"
   ]
  },
  {
   "cell_type": "markdown",
   "id": "dd79e91b",
   "metadata": {},
   "source": [
    "### Get Outliers"
   ]
  },
  {
   "cell_type": "code",
   "execution_count": 10,
   "id": "e0afe779",
   "metadata": {
    "scrolled": true
   },
   "outputs": [
    {
     "data": {
      "text/plain": [
       "'No NaN yields.'"
      ]
     },
     "metadata": {},
     "output_type": "display_data"
    }
   ],
   "source": [
    "idx_nominal = rawdata['ITYPE']<11\n",
    "idx = rawdata[idx_nominal]['TDYLD'].isna()\n",
    "if idx.any():\n",
    "    table[idx]\n",
    "else:\n",
    "    display(f'No NaN yields.')"
   ]
  },
  {
   "cell_type": "markdown",
   "id": "4d1a95d6",
   "metadata": {},
   "source": [
    "The quotes on this date do not have any unreported yields due to outliers."
   ]
  },
  {
   "cell_type": "markdown",
   "id": "2667ca7b",
   "metadata": {},
   "source": [
    "### Compare to the provided YTM calcs in the original data source"
   ]
  },
  {
   "cell_type": "code",
   "execution_count": 11,
   "id": "12bfd4f0",
   "metadata": {
    "scrolled": true
   },
   "outputs": [
    {
     "data": {
      "text/html": [
       "<style type=\"text/css\">\n",
       "</style>\n",
       "<table id=\"T_80619\">\n",
       "  <thead>\n",
       "    <tr>\n",
       "      <th class=\"blank level0\" >&nbsp;</th>\n",
       "      <th id=\"T_80619_level0_col0\" class=\"col_heading level0 col0\" >0</th>\n",
       "    </tr>\n",
       "  </thead>\n",
       "  <tbody>\n",
       "    <tr>\n",
       "      <th id=\"T_80619_level0_row0\" class=\"row_heading level0 row0\" >count</th>\n",
       "      <td id=\"T_80619_row0_col0\" class=\"data row0 col0\" >37,800.0000%</td>\n",
       "    </tr>\n",
       "    <tr>\n",
       "      <th id=\"T_80619_level0_row1\" class=\"row_heading level0 row1\" >mean</th>\n",
       "      <td id=\"T_80619_row1_col0\" class=\"data row1 col0\" >-0.0001%</td>\n",
       "    </tr>\n",
       "    <tr>\n",
       "      <th id=\"T_80619_level0_row2\" class=\"row_heading level0 row2\" >std</th>\n",
       "      <td id=\"T_80619_row2_col0\" class=\"data row2 col0\" >0.0001%</td>\n",
       "    </tr>\n",
       "    <tr>\n",
       "      <th id=\"T_80619_level0_row3\" class=\"row_heading level0 row3\" >min</th>\n",
       "      <td id=\"T_80619_row3_col0\" class=\"data row3 col0\" >-0.0007%</td>\n",
       "    </tr>\n",
       "    <tr>\n",
       "      <th id=\"T_80619_level0_row4\" class=\"row_heading level0 row4\" >25%</th>\n",
       "      <td id=\"T_80619_row4_col0\" class=\"data row4 col0\" >-0.0001%</td>\n",
       "    </tr>\n",
       "    <tr>\n",
       "      <th id=\"T_80619_level0_row5\" class=\"row_heading level0 row5\" >50%</th>\n",
       "      <td id=\"T_80619_row5_col0\" class=\"data row5 col0\" >-0.0000%</td>\n",
       "    </tr>\n",
       "    <tr>\n",
       "      <th id=\"T_80619_level0_row6\" class=\"row_heading level0 row6\" >75%</th>\n",
       "      <td id=\"T_80619_row6_col0\" class=\"data row6 col0\" >0.0000%</td>\n",
       "    </tr>\n",
       "    <tr>\n",
       "      <th id=\"T_80619_level0_row7\" class=\"row_heading level0 row7\" >max</th>\n",
       "      <td id=\"T_80619_row7_col0\" class=\"data row7 col0\" >0.0000%</td>\n",
       "    </tr>\n",
       "  </tbody>\n",
       "</table>\n"
      ],
      "text/plain": [
       "<pandas.io.formats.style.Styler at 0x12bf75280>"
      ]
     },
     "execution_count": 11,
     "metadata": {},
     "output_type": "execute_result"
    }
   ],
   "source": [
    "FREQ = 365.25\n",
    "(rawdata['TDYLD'].loc[CF.index] * FREQ - ytm[COMPOUND_FREQ]).describe().to_frame().T.rename(columns={0:'yield error'}).T.style.format('{:,.4%}')"
   ]
  },
  {
   "cell_type": "markdown",
   "id": "aa6de031",
   "metadata": {},
   "source": [
    "Our calculated YTM is very close to that reported in the data. The small difference is likely due to the dataset handling the choice of bid vs ask differently than we did above, taking the average of the two.\n",
    "\n",
    "It appears that the database field `TDYLD` most closely matches our **continuously** compounded YTM, rather than the semi-annual."
   ]
  },
  {
   "cell_type": "markdown",
   "id": "21e7f543",
   "metadata": {},
   "source": [
    "***"
   ]
  },
  {
   "cell_type": "markdown",
   "id": "3928bcf3",
   "metadata": {},
   "source": [
    "# Problem 2: Extract the Discount Curve"
   ]
  },
  {
   "cell_type": "markdown",
   "id": "2faf5756",
   "metadata": {},
   "source": [
    "## 1 Map Cashflows\n",
    "\n",
    "Create the cashflow matrix, $\\textbf{C}$, where each rows is a Treasury issue, each column is a date, and each entry is the cash paid on a (normalized) face value of \\$100.\n",
    "\n",
    "You will need to make a few modeling choices to do this...\n",
    "* eliminate any treasury that does not report `TDYTM` or that reports a negative number for `TDYTM`.\n",
    "* assume notes and bonds pay coupons every six months, going backward from the date of maturity.\n",
    "\n",
    "Make other reasonable modeling assumptions as needed.\n",
    "\n",
    "Report:\n",
    "* head and tail rows of the dataframe, $\\textbf{C}$, for instance, using `display()`.\n",
    "\n",
    "* which date has the most cashflow across all issues?\n",
    "\n",
    "* which date has the most issues paying a cashflow?"
   ]
  },
  {
   "cell_type": "markdown",
   "id": "7abd24b6",
   "metadata": {},
   "source": [
    "## 2 Bootstrap\n",
    "\n",
    "Bootstrap the discount factors.\n",
    "\n",
    "Starting with $C$ from the previous problem, further filter to create a subset of Treasury issues cashflow matrix $\\tilde{C}$, such that each column has one, and only one, maturity. Also, each issue (row) has its face value payment in one of the columns.\n",
    "\n",
    "The three step procedure below might be useful.\n",
    "\n",
    "1. For dates with multiple bonds maturing, keep only that with the smallest bid-ask. If there are still multiple bonds maturing on the date, keep only that with the smallest coupon.\n",
    "\n",
    "2. Only keep the first $L$ columns of the cashflow matrix, such that every column has a bond maturing.\n",
    "\n",
    "3. Eliminate any bonds, (rows,) that had maturity beyond column $L$.\n",
    "\n",
    "This should produce the cashflow matrix, $\\tilde{C}$.\n",
    "\n",
    "**Report 5 head and tail rows of $\\tilde{C}$.**\n",
    "\n",
    "Solve the system of equations\n",
    "$$\\textbf{p} = \\tilde{\\textbf{C}}\\, \\textbf{z}_{\\text{bootstrap}}$$\n",
    "\n",
    "**Plot the estimated discount factors, $\\textbf{z}$, against time-to-maturity.**"
   ]
  },
  {
   "cell_type": "markdown",
   "id": "de37fc66",
   "metadata": {},
   "source": [
    "## 3. OLS\n",
    "\n",
    "Estimate the discount factors using OLS.\n",
    "\n",
    "Starting with the cashflow matrix, $C$, create an additional filter to get a subset where every date has at least one maturity, (possibly multiple,) and every issue has its maturity in the cashflow matrix. (You might do something similar to the three-step procedure of the bootstrap, but skip step #1.) Call this set of cashflows, $\\hat{C}$.\n",
    "\n",
    "**Report 5 head and tail rows of $\\hat{C}$.**\n",
    "\n",
    "$$\\textbf{p} = \\hat{\\textbf{C}}\\,\\textbf{z}_{\\text{ols}}+\\epsilon$$\n",
    "\n",
    "**Plot the discount factors against maturities.**"
   ]
  },
  {
   "cell_type": "markdown",
   "id": "72a89906",
   "metadata": {},
   "source": [
    "## 4 Factors and Rates\n",
    "\n",
    "Convert $\\textbf{z}_{\\text{bootstrap}}$ to a set of \n",
    "* continuous discount rates\n",
    "* semiannually compounded discount rates\n",
    "\n",
    "Do the same for $\\textbf{z}_{\\text{ols}}$.\n",
    "\n",
    "Plot the **continuous** discount rates generated via bootstrap and via OLS against time-to-maturity.\n",
    "\n",
    "Plot the **semiannually compounded** discount rates generated via bootstrap and via OLS against time-to-maturity."
   ]
  },
  {
   "cell_type": "markdown",
   "id": "45db039e",
   "metadata": {},
   "source": [
    "# <span style=\"color:red\">Solution 2</span>"
   ]
  },
  {
   "cell_type": "code",
   "execution_count": 12,
   "id": "4e8fd944",
   "metadata": {
    "scrolled": false
   },
   "outputs": [
    {
     "data": {
      "text/html": [
       "<div>\n",
       "<style scoped>\n",
       "    .dataframe tbody tr th:only-of-type {\n",
       "        vertical-align: middle;\n",
       "    }\n",
       "\n",
       "    .dataframe tbody tr th {\n",
       "        vertical-align: top;\n",
       "    }\n",
       "\n",
       "    .dataframe thead th {\n",
       "        text-align: right;\n",
       "    }\n",
       "</style>\n",
       "<table border=\"1\" class=\"dataframe\">\n",
       "  <thead>\n",
       "    <tr style=\"text-align: right;\">\n",
       "      <th></th>\n",
       "      <th>2022-10-04</th>\n",
       "      <th>2022-10-06</th>\n",
       "      <th>2022-10-11</th>\n",
       "      <th>2022-10-13</th>\n",
       "      <th>2022-10-15</th>\n",
       "      <th>2022-10-18</th>\n",
       "      <th>2022-10-20</th>\n",
       "      <th>2022-10-25</th>\n",
       "      <th>2022-10-27</th>\n",
       "      <th>2022-10-30</th>\n",
       "      <th>...</th>\n",
       "      <th>2050-05-15</th>\n",
       "      <th>2050-08-15</th>\n",
       "      <th>2050-11-15</th>\n",
       "      <th>2051-02-15</th>\n",
       "      <th>2051-05-15</th>\n",
       "      <th>2051-08-15</th>\n",
       "      <th>2051-11-15</th>\n",
       "      <th>2052-02-15</th>\n",
       "      <th>2052-05-15</th>\n",
       "      <th>2052-08-15</th>\n",
       "    </tr>\n",
       "    <tr>\n",
       "      <th>KYTREASNO</th>\n",
       "      <th></th>\n",
       "      <th></th>\n",
       "      <th></th>\n",
       "      <th></th>\n",
       "      <th></th>\n",
       "      <th></th>\n",
       "      <th></th>\n",
       "      <th></th>\n",
       "      <th></th>\n",
       "      <th></th>\n",
       "      <th></th>\n",
       "      <th></th>\n",
       "      <th></th>\n",
       "      <th></th>\n",
       "      <th></th>\n",
       "      <th></th>\n",
       "      <th></th>\n",
       "      <th></th>\n",
       "      <th></th>\n",
       "      <th></th>\n",
       "      <th></th>\n",
       "    </tr>\n",
       "  </thead>\n",
       "  <tbody>\n",
       "    <tr>\n",
       "      <th>207892</th>\n",
       "      <td>100</td>\n",
       "      <td>0</td>\n",
       "      <td>0</td>\n",
       "      <td>0</td>\n",
       "      <td>0.0000</td>\n",
       "      <td>0</td>\n",
       "      <td>0</td>\n",
       "      <td>0</td>\n",
       "      <td>0</td>\n",
       "      <td>0.0</td>\n",
       "      <td>...</td>\n",
       "      <td>0.0000</td>\n",
       "      <td>0.0000</td>\n",
       "      <td>0.0000</td>\n",
       "      <td>0.0000</td>\n",
       "      <td>0.0000</td>\n",
       "      <td>0.0000</td>\n",
       "      <td>0.0000</td>\n",
       "      <td>0.0000</td>\n",
       "      <td>0.0000</td>\n",
       "      <td>0.0</td>\n",
       "    </tr>\n",
       "    <tr>\n",
       "      <th>207774</th>\n",
       "      <td>0</td>\n",
       "      <td>100</td>\n",
       "      <td>0</td>\n",
       "      <td>0</td>\n",
       "      <td>0.0000</td>\n",
       "      <td>0</td>\n",
       "      <td>0</td>\n",
       "      <td>0</td>\n",
       "      <td>0</td>\n",
       "      <td>0.0</td>\n",
       "      <td>...</td>\n",
       "      <td>0.0000</td>\n",
       "      <td>0.0000</td>\n",
       "      <td>0.0000</td>\n",
       "      <td>0.0000</td>\n",
       "      <td>0.0000</td>\n",
       "      <td>0.0000</td>\n",
       "      <td>0.0000</td>\n",
       "      <td>0.0000</td>\n",
       "      <td>0.0000</td>\n",
       "      <td>0.0</td>\n",
       "    </tr>\n",
       "    <tr>\n",
       "      <th>207893</th>\n",
       "      <td>0</td>\n",
       "      <td>0</td>\n",
       "      <td>100</td>\n",
       "      <td>0</td>\n",
       "      <td>0.0000</td>\n",
       "      <td>0</td>\n",
       "      <td>0</td>\n",
       "      <td>0</td>\n",
       "      <td>0</td>\n",
       "      <td>0.0</td>\n",
       "      <td>...</td>\n",
       "      <td>0.0000</td>\n",
       "      <td>0.0000</td>\n",
       "      <td>0.0000</td>\n",
       "      <td>0.0000</td>\n",
       "      <td>0.0000</td>\n",
       "      <td>0.0000</td>\n",
       "      <td>0.0000</td>\n",
       "      <td>0.0000</td>\n",
       "      <td>0.0000</td>\n",
       "      <td>0.0</td>\n",
       "    </tr>\n",
       "    <tr>\n",
       "      <th>207868</th>\n",
       "      <td>0</td>\n",
       "      <td>0</td>\n",
       "      <td>0</td>\n",
       "      <td>100</td>\n",
       "      <td>0.0000</td>\n",
       "      <td>0</td>\n",
       "      <td>0</td>\n",
       "      <td>0</td>\n",
       "      <td>0</td>\n",
       "      <td>0.0</td>\n",
       "      <td>...</td>\n",
       "      <td>0.0000</td>\n",
       "      <td>0.0000</td>\n",
       "      <td>0.0000</td>\n",
       "      <td>0.0000</td>\n",
       "      <td>0.0000</td>\n",
       "      <td>0.0000</td>\n",
       "      <td>0.0000</td>\n",
       "      <td>0.0000</td>\n",
       "      <td>0.0000</td>\n",
       "      <td>0.0</td>\n",
       "    </tr>\n",
       "    <tr>\n",
       "      <th>207430</th>\n",
       "      <td>0</td>\n",
       "      <td>0</td>\n",
       "      <td>0</td>\n",
       "      <td>0</td>\n",
       "      <td>100.6875</td>\n",
       "      <td>0</td>\n",
       "      <td>0</td>\n",
       "      <td>0</td>\n",
       "      <td>0</td>\n",
       "      <td>0.0</td>\n",
       "      <td>...</td>\n",
       "      <td>0.0000</td>\n",
       "      <td>0.0000</td>\n",
       "      <td>0.0000</td>\n",
       "      <td>0.0000</td>\n",
       "      <td>0.0000</td>\n",
       "      <td>0.0000</td>\n",
       "      <td>0.0000</td>\n",
       "      <td>0.0000</td>\n",
       "      <td>0.0000</td>\n",
       "      <td>0.0</td>\n",
       "    </tr>\n",
       "    <tr>\n",
       "      <th>...</th>\n",
       "      <td>...</td>\n",
       "      <td>...</td>\n",
       "      <td>...</td>\n",
       "      <td>...</td>\n",
       "      <td>...</td>\n",
       "      <td>...</td>\n",
       "      <td>...</td>\n",
       "      <td>...</td>\n",
       "      <td>...</td>\n",
       "      <td>...</td>\n",
       "      <td>...</td>\n",
       "      <td>...</td>\n",
       "      <td>...</td>\n",
       "      <td>...</td>\n",
       "      <td>...</td>\n",
       "      <td>...</td>\n",
       "      <td>...</td>\n",
       "      <td>...</td>\n",
       "      <td>...</td>\n",
       "      <td>...</td>\n",
       "      <td>...</td>\n",
       "    </tr>\n",
       "    <tr>\n",
       "      <th>207808</th>\n",
       "      <td>0</td>\n",
       "      <td>0</td>\n",
       "      <td>0</td>\n",
       "      <td>0</td>\n",
       "      <td>0.0000</td>\n",
       "      <td>0</td>\n",
       "      <td>0</td>\n",
       "      <td>0</td>\n",
       "      <td>0</td>\n",
       "      <td>0.0</td>\n",
       "      <td>...</td>\n",
       "      <td>0.9375</td>\n",
       "      <td>0.0000</td>\n",
       "      <td>0.9375</td>\n",
       "      <td>0.0000</td>\n",
       "      <td>0.9375</td>\n",
       "      <td>0.0000</td>\n",
       "      <td>100.9375</td>\n",
       "      <td>0.0000</td>\n",
       "      <td>0.0000</td>\n",
       "      <td>0.0</td>\n",
       "    </tr>\n",
       "    <tr>\n",
       "      <th>207849</th>\n",
       "      <td>0</td>\n",
       "      <td>0</td>\n",
       "      <td>0</td>\n",
       "      <td>0</td>\n",
       "      <td>0.0000</td>\n",
       "      <td>0</td>\n",
       "      <td>0</td>\n",
       "      <td>0</td>\n",
       "      <td>0</td>\n",
       "      <td>0.0</td>\n",
       "      <td>...</td>\n",
       "      <td>0.0000</td>\n",
       "      <td>1.1250</td>\n",
       "      <td>0.0000</td>\n",
       "      <td>1.1250</td>\n",
       "      <td>0.0000</td>\n",
       "      <td>1.1250</td>\n",
       "      <td>0.0000</td>\n",
       "      <td>101.1250</td>\n",
       "      <td>0.0000</td>\n",
       "      <td>0.0</td>\n",
       "    </tr>\n",
       "    <tr>\n",
       "      <th>207850</th>\n",
       "      <td>0</td>\n",
       "      <td>0</td>\n",
       "      <td>0</td>\n",
       "      <td>0</td>\n",
       "      <td>0.0000</td>\n",
       "      <td>0</td>\n",
       "      <td>0</td>\n",
       "      <td>0</td>\n",
       "      <td>0</td>\n",
       "      <td>0.0</td>\n",
       "      <td>...</td>\n",
       "      <td>0.0000</td>\n",
       "      <td>0.0625</td>\n",
       "      <td>0.0000</td>\n",
       "      <td>0.0625</td>\n",
       "      <td>0.0000</td>\n",
       "      <td>0.0625</td>\n",
       "      <td>0.0000</td>\n",
       "      <td>100.0625</td>\n",
       "      <td>0.0000</td>\n",
       "      <td>0.0</td>\n",
       "    </tr>\n",
       "    <tr>\n",
       "      <th>207891</th>\n",
       "      <td>0</td>\n",
       "      <td>0</td>\n",
       "      <td>0</td>\n",
       "      <td>0</td>\n",
       "      <td>0.0000</td>\n",
       "      <td>0</td>\n",
       "      <td>0</td>\n",
       "      <td>0</td>\n",
       "      <td>0</td>\n",
       "      <td>0.0</td>\n",
       "      <td>...</td>\n",
       "      <td>1.4375</td>\n",
       "      <td>0.0000</td>\n",
       "      <td>1.4375</td>\n",
       "      <td>0.0000</td>\n",
       "      <td>1.4375</td>\n",
       "      <td>0.0000</td>\n",
       "      <td>1.4375</td>\n",
       "      <td>0.0000</td>\n",
       "      <td>101.4375</td>\n",
       "      <td>0.0</td>\n",
       "    </tr>\n",
       "    <tr>\n",
       "      <th>207934</th>\n",
       "      <td>0</td>\n",
       "      <td>0</td>\n",
       "      <td>0</td>\n",
       "      <td>0</td>\n",
       "      <td>0.0000</td>\n",
       "      <td>0</td>\n",
       "      <td>0</td>\n",
       "      <td>0</td>\n",
       "      <td>0</td>\n",
       "      <td>0.0</td>\n",
       "      <td>...</td>\n",
       "      <td>0.0000</td>\n",
       "      <td>1.5000</td>\n",
       "      <td>0.0000</td>\n",
       "      <td>1.5000</td>\n",
       "      <td>0.0000</td>\n",
       "      <td>1.5000</td>\n",
       "      <td>0.0000</td>\n",
       "      <td>1.5000</td>\n",
       "      <td>0.0000</td>\n",
       "      <td>101.5</td>\n",
       "    </tr>\n",
       "  </tbody>\n",
       "</table>\n",
       "<p>427 rows × 340 columns</p>\n",
       "</div>"
      ],
      "text/plain": [
       "           2022-10-04  2022-10-06  2022-10-11  2022-10-13  2022-10-15  \\\n",
       "KYTREASNO                                                               \n",
       "207892            100           0           0           0      0.0000   \n",
       "207774              0         100           0           0      0.0000   \n",
       "207893              0           0         100           0      0.0000   \n",
       "207868              0           0           0         100      0.0000   \n",
       "207430              0           0           0           0    100.6875   \n",
       "...               ...         ...         ...         ...         ...   \n",
       "207808              0           0           0           0      0.0000   \n",
       "207849              0           0           0           0      0.0000   \n",
       "207850              0           0           0           0      0.0000   \n",
       "207891              0           0           0           0      0.0000   \n",
       "207934              0           0           0           0      0.0000   \n",
       "\n",
       "           2022-10-18  2022-10-20  2022-10-25  2022-10-27  2022-10-30  ...  \\\n",
       "KYTREASNO                                                              ...   \n",
       "207892              0           0           0           0         0.0  ...   \n",
       "207774              0           0           0           0         0.0  ...   \n",
       "207893              0           0           0           0         0.0  ...   \n",
       "207868              0           0           0           0         0.0  ...   \n",
       "207430              0           0           0           0         0.0  ...   \n",
       "...               ...         ...         ...         ...         ...  ...   \n",
       "207808              0           0           0           0         0.0  ...   \n",
       "207849              0           0           0           0         0.0  ...   \n",
       "207850              0           0           0           0         0.0  ...   \n",
       "207891              0           0           0           0         0.0  ...   \n",
       "207934              0           0           0           0         0.0  ...   \n",
       "\n",
       "           2050-05-15  2050-08-15  2050-11-15  2051-02-15  2051-05-15  \\\n",
       "KYTREASNO                                                               \n",
       "207892         0.0000      0.0000      0.0000      0.0000      0.0000   \n",
       "207774         0.0000      0.0000      0.0000      0.0000      0.0000   \n",
       "207893         0.0000      0.0000      0.0000      0.0000      0.0000   \n",
       "207868         0.0000      0.0000      0.0000      0.0000      0.0000   \n",
       "207430         0.0000      0.0000      0.0000      0.0000      0.0000   \n",
       "...               ...         ...         ...         ...         ...   \n",
       "207808         0.9375      0.0000      0.9375      0.0000      0.9375   \n",
       "207849         0.0000      1.1250      0.0000      1.1250      0.0000   \n",
       "207850         0.0000      0.0625      0.0000      0.0625      0.0000   \n",
       "207891         1.4375      0.0000      1.4375      0.0000      1.4375   \n",
       "207934         0.0000      1.5000      0.0000      1.5000      0.0000   \n",
       "\n",
       "           2051-08-15  2051-11-15  2052-02-15  2052-05-15  2052-08-15  \n",
       "KYTREASNO                                                              \n",
       "207892         0.0000      0.0000      0.0000      0.0000         0.0  \n",
       "207774         0.0000      0.0000      0.0000      0.0000         0.0  \n",
       "207893         0.0000      0.0000      0.0000      0.0000         0.0  \n",
       "207868         0.0000      0.0000      0.0000      0.0000         0.0  \n",
       "207430         0.0000      0.0000      0.0000      0.0000         0.0  \n",
       "...               ...         ...         ...         ...         ...  \n",
       "207808         0.0000    100.9375      0.0000      0.0000         0.0  \n",
       "207849         1.1250      0.0000    101.1250      0.0000         0.0  \n",
       "207850         0.0625      0.0000    100.0625      0.0000         0.0  \n",
       "207891         0.0000      1.4375      0.0000    101.4375         0.0  \n",
       "207934         1.5000      0.0000      1.5000      0.0000       101.5  \n",
       "\n",
       "[427 rows x 340 columns]"
      ]
     },
     "metadata": {},
     "output_type": "display_data"
    }
   ],
   "source": [
    "CF = calc_cashflows(rawdata)\n",
    "prices = metrics['price'][CF.index]\n",
    "\n",
    "CFset = {'all dates, including negative YTM quotes':CF}\n",
    "display(CF)"
   ]
  },
  {
   "cell_type": "markdown",
   "id": "c848e794",
   "metadata": {
    "hide_input": false
   },
   "source": [
    "# Perfect Estimation of Spot Curve\n",
    "\n",
    "## Bootstrap"
   ]
  },
  {
   "cell_type": "code",
   "execution_count": 13,
   "id": "73322c66",
   "metadata": {
    "hide_input": false,
    "scrolled": false
   },
   "outputs": [
    {
     "data": {
      "image/png": "[encoded data removed]",
      "text/plain": [
       "<Figure size 864x432 with 1 Axes>"
      ]
     },
     "metadata": {
      "needs_background": "light"
     },
     "output_type": "display_data"
    }
   ],
   "source": [
    "MODEL = bootstrap\n",
    "\n",
    "RESTRICT_YLD = True\n",
    "RESTRICT_TIPS = True\n",
    "\n",
    "RESTRICT_DTS_MATURING = True\n",
    "RESTRICT_REDUNDANT = True\n",
    "\n",
    "data = filter_treasuries(rawdata, t_date=t_current, filter_yld = RESTRICT_YLD, filter_tips = RESTRICT_TIPS, drop_duplicate_maturities=RESTRICT_REDUNDANT)\n",
    "CF = filter_treasury_cashflows(calc_cashflows(data),filter_maturity_dates=RESTRICT_DTS_MATURING)\n",
    "\n",
    "prices = metrics['price'][CF.index]\n",
    "params_boot = estimate_rate_curve(MODEL,CF,t_current,prices)\n",
    "\n",
    "label = 'single maturity per date, no non-maturity dates'\n",
    "CFset[label] = CF\n",
    "\n",
    "plt.plot(params_boot[0],params_boot[1])\n",
    "plt.xlabel('maturity')\n",
    "plt.ylabel('discount factor')\n",
    "plt.title('Discount Curve: Bootstrap')\n",
    "plt.show()"
   ]
  },
  {
   "cell_type": "markdown",
   "id": "53d64344",
   "metadata": {},
   "source": [
    "## OLS Estimation"
   ]
  },
  {
   "cell_type": "code",
   "execution_count": 14,
   "id": "83c9d9e8",
   "metadata": {},
   "outputs": [
    {
     "data": {
      "image/png": "[encoded data removed]",
      "text/plain": [
       "<Figure size 864x432 with 1 Axes>"
      ]
     },
     "metadata": {
      "needs_background": "light"
     },
     "output_type": "display_data"
    }
   ],
   "source": [
    "MODEL = bootstrap\n",
    "\n",
    "RESTRICT_YLD = True\n",
    "RESTRICT_TIPS = True\n",
    "\n",
    "RESTRICT_DTS_MATURING = True\n",
    "RESTRICT_REDUNDANT = False\n",
    "\n",
    "data = filter_treasuries(rawdata, t_date=t_current, filter_yld = RESTRICT_YLD, filter_tips = RESTRICT_TIPS, drop_duplicate_maturities=RESTRICT_REDUNDANT)\n",
    "CF = filter_treasury_cashflows(calc_cashflows(data),filter_maturity_dates=RESTRICT_DTS_MATURING)\n",
    "\n",
    "prices = metrics['price'][CF.index]\n",
    "params_OLS = estimate_rate_curve(MODEL,CF,t_current,prices)\n",
    "\n",
    "label = 'no non-maturity dates'\n",
    "CFset[label] = CF\n",
    "\n",
    "disc_ols = pd.DataFrame({'maturity':params_OLS[0], 'ols': params_OLS[1]}).set_index('maturity')\n",
    "disc_ols.plot(marker='*',linestyle='--',ylabel='discount factor',title='Discount Curve: OLS')\n",
    "plt.show()"
   ]
  },
  {
   "cell_type": "code",
   "execution_count": 15,
   "id": "95aeceb1",
   "metadata": {
    "scrolled": false
   },
   "outputs": [
    {
     "data": {
      "image/png": "[encoded data removed]",
      "text/plain": [
       "<Figure size 864x432 with 1 Axes>"
      ]
     },
     "metadata": {
      "needs_background": "light"
     },
     "output_type": "display_data"
    }
   ],
   "source": [
    "inc = .5\n",
    "\n",
    "maturity_grid = np.arange(inc,disc_ols.index.to_series().max()+.5,inc)\n",
    "curves_ols = pd.DataFrame(index = maturity_grid)\n",
    "curves_ols['bootstrap'] = bootstrap(params_boot,maturity_grid)\n",
    "curves_ols['ols'] = bootstrap(params_OLS,maturity_grid)\n",
    "\n",
    "ax = curves_ols.plot(linestyle='-',marker='*',ylabel='rate',xlabel='maturity',title='Spot Curve')\n",
    "plt.show()"
   ]
  },
  {
   "cell_type": "code",
   "execution_count": 16,
   "id": "0a2211e0",
   "metadata": {},
   "outputs": [],
   "source": [
    "RESTRICT_YLD = True\n",
    "RESTRICT_TIPS = True\n",
    "\n",
    "RESTRICT_DTS_MATURING = False\n",
    "RESTRICT_REDUNDANT = False\n",
    "\n",
    "data = filter_treasuries(rawdata, t_date=t_current, filter_yld = RESTRICT_YLD, filter_tips = RESTRICT_TIPS, drop_duplicate_maturities=RESTRICT_REDUNDANT)\n",
    "\n",
    "CF = filter_treasury_cashflows(calc_cashflows(data),filter_maturity_dates=RESTRICT_DTS_MATURING)\n",
    "CFset['all dates'] = CF"
   ]
  },
  {
   "cell_type": "code",
   "execution_count": 17,
   "id": "f2d33916",
   "metadata": {},
   "outputs": [
    {
     "data": {
      "image/png": "[encoded data removed]",
      "text/plain": [
       "<Figure size 864x432 with 1 Axes>"
      ]
     },
     "metadata": {
      "needs_background": "light"
     },
     "output_type": "display_data"
    }
   ],
   "source": [
    "prices = metrics['price'][CF.index]\n",
    "params_OLS_bad = estimate_rate_curve(MODEL,CF,t_current,prices)\n",
    "\n",
    "disc_ols_bad = pd.DataFrame({'maturity':params_OLS_bad[0], 'discount factor': params_OLS_bad[1]}).set_index('maturity')\n",
    "disc_ols_bad.plot(marker='*',linestyle='',ylim=(.5,1.1),ylabel='discount factor',title='Discount Curve: OLS on All Data')\n",
    "plt.show()"
   ]
  },
  {
   "cell_type": "markdown",
   "id": "a86e5379",
   "metadata": {},
   "source": [
    "# Problem 3: Nelson-Siegel Curve\n",
    "## *Optional*\n",
    "\n",
    "No need to submit this problem, but if we discuss it, then you are expected to know it."
   ]
  },
  {
   "cell_type": "markdown",
   "id": "0f96de39",
   "metadata": {},
   "source": [
    "Use the Nelson-Siegel curve to model the discount rates. \n",
    "\n",
    "Fit them via minimizing the sum of squared errors for the prices imputed by the model versus the quoted prices. \n",
    "\n",
    "You might try estimating via non-linear least squares.\n",
    "\n",
    "Estimate the model three times, using $\\textbf{C}$, $\\tilde{\\textbf{C}}$, $\\hat{\\textbf{C}}$.\n",
    "\n",
    "Plot the estimated discount factors, $\\textbf{z}_{\\text{ns}}$ against time-to-maturity.\n",
    "\n",
    "Also plot the associated continuously-compounded discount rates."
   ]
  },
  {
   "cell_type": "markdown",
   "id": "742630b6",
   "metadata": {},
   "source": [
    "# <span style=\"color:red\">Solution 3</span>"
   ]
  },
  {
   "cell_type": "code",
   "execution_count": 18,
   "id": "444da634",
   "metadata": {
    "scrolled": false
   },
   "outputs": [
    {
     "data": {
      "text/html": [
       "<div>\n",
       "<style scoped>\n",
       "    .dataframe tbody tr th:only-of-type {\n",
       "        vertical-align: middle;\n",
       "    }\n",
       "\n",
       "    .dataframe tbody tr th {\n",
       "        vertical-align: top;\n",
       "    }\n",
       "\n",
       "    .dataframe thead th {\n",
       "        text-align: right;\n",
       "    }\n",
       "</style>\n",
       "<table border=\"1\" class=\"dataframe\">\n",
       "  <thead>\n",
       "    <tr style=\"text-align: right;\">\n",
       "      <th></th>\n",
       "      <th>theta 0</th>\n",
       "      <th>theta 1</th>\n",
       "      <th>theta 2</th>\n",
       "      <th>lambda_1</th>\n",
       "      <th>theta_3</th>\n",
       "      <th>lambda_2</th>\n",
       "    </tr>\n",
       "  </thead>\n",
       "  <tbody>\n",
       "    <tr>\n",
       "      <th>Nelson-Siegel</th>\n",
       "      <td>0.039081</td>\n",
       "      <td>-0.019082</td>\n",
       "      <td>0.037493</td>\n",
       "      <td>0.458785</td>\n",
       "      <td>None</td>\n",
       "      <td>None</td>\n",
       "    </tr>\n",
       "    <tr>\n",
       "      <th>Nelson-Siegel Extended</th>\n",
       "      <td>-2.702307</td>\n",
       "      <td>2.750199</td>\n",
       "      <td>0.358408</td>\n",
       "      <td>15.797674</td>\n",
       "      <td>6.310813</td>\n",
       "      <td>43.112542</td>\n",
       "    </tr>\n",
       "  </tbody>\n",
       "</table>\n",
       "</div>"
      ],
      "text/plain": [
       "                         theta 0   theta 1   theta 2   lambda_1   theta_3  \\\n",
       "Nelson-Siegel           0.039081 -0.019082  0.037493   0.458785      None   \n",
       "Nelson-Siegel Extended -2.702307  2.750199  0.358408  15.797674  6.310813   \n",
       "\n",
       "                         lambda_2  \n",
       "Nelson-Siegel                None  \n",
       "Nelson-Siegel Extended  43.112542  "
      ]
     },
     "execution_count": 18,
     "metadata": {},
     "output_type": "execute_result"
    }
   ],
   "source": [
    "prices = metrics['price'][CF.index]\n",
    "\n",
    "x0 = np.ones((1,4))/10\n",
    "params_NS = estimate_rate_curve(nelson_siegel,CF,t_current,prices,x0)\n",
    "\n",
    "x0 = np.concatenate((params_NS,(2,2)))\n",
    "params_NSE = estimate_rate_curve(nelson_siegel_extended,CF,t_current,prices,x0=x0)\n",
    "\n",
    "tab_params_ns = pd.DataFrame(data = params_NS, index=['theta 0', 'theta 1', 'theta 2', 'lambda_1'],columns=['Nelson-Siegel']).T\n",
    "tab_params_ns.loc[:,['theta_3', 'lambda_2']] = None\n",
    "tab_params_ns.loc['Nelson-Siegel Extended',:] = params_NSE\n",
    "tab_params_ns"
   ]
  },
  {
   "cell_type": "markdown",
   "id": "cb9f92a6",
   "metadata": {},
   "source": [
    "### Use these fitted paramaters to calculate the Spot Curve\n",
    "\n",
    "Note that the parameterized functional form allows us to model the curve \n",
    "* for any maturity.\n",
    "* in a smooth way that avoids recommending extreme long-short positions"
   ]
  },
  {
   "cell_type": "code",
   "execution_count": 19,
   "id": "a08d1fff",
   "metadata": {
    "scrolled": false
   },
   "outputs": [
    {
     "data": {
      "image/png": "[encoded data removed]",
      "text/plain": [
       "<Figure size 864x432 with 1 Axes>"
      ]
     },
     "metadata": {
      "needs_background": "light"
     },
     "output_type": "display_data"
    }
   ],
   "source": [
    "inc = .5\n",
    "\n",
    "maturity_list = get_maturity_delta(list(CFset.values())[-1].columns,t_current=t_current)\n",
    "maturity_grid = np.arange(inc,maturity_list.max()+.5,inc)\n",
    "curves = pd.DataFrame(index = maturity_grid)\n",
    "curves['nelson siegel'] = nelson_siegel(params_NS,maturity_grid)\n",
    "curves['ns-extended']= nelson_siegel_extended(params_NSE,maturity_grid)\n",
    "\n",
    "ax = curves_ols.plot(linestyle='-',marker='*')\n",
    "curves.plot(ax=ax, linestyle='-',marker='*', ylim=(0,1.1*curves.max().max()*1.1))\n",
    "\n",
    "series_plotted = list(curves_ols.columns) + list(curves.columns)\n",
    "plt.legend(series_plotted)\n",
    "plt.ylim(.035,.045)\n",
    "plt.xlabel('maturity')\n",
    "plt.ylabel('interest rate')\n",
    "plt.title('Spot Curve')\n",
    "plt.show()"
   ]
  },
  {
   "cell_type": "markdown",
   "id": "101760fc",
   "metadata": {},
   "source": [
    "### Convert the spot curve to the discount curve"
   ]
  },
  {
   "cell_type": "code",
   "execution_count": 20,
   "id": "8eb7bfeb",
   "metadata": {},
   "outputs": [
    {
     "data": {
      "image/png": "[encoded data removed]",
      "text/plain": [
       "<Figure size 864x432 with 1 Axes>"
      ]
     },
     "metadata": {
      "needs_background": "light"
     },
     "output_type": "display_data"
    }
   ],
   "source": [
    "ax = disc_ols.plot()\n",
    "\n",
    "zero_curve = intrate_to_discount(curves.loc[:,'nelson siegel'], maturity_grid, n_compound=None).to_frame()\n",
    "zero_curve['ns-extended'] = intrate_to_discount(curves.loc[:,'ns-extended'], maturity_grid, n_compound=None).to_frame()\n",
    "zero_curve.plot(ax=ax, title='Discount Curve', xlabel='maturity',ylabel='discount factor')\n",
    "\n",
    "plt.show()"
   ]
  },
  {
   "cell_type": "markdown",
   "id": "fdbd4bd9",
   "metadata": {},
   "source": [
    "# Summary"
   ]
  },
  {
   "cell_type": "code",
   "execution_count": 21,
   "id": "07535f59",
   "metadata": {
    "scrolled": false
   },
   "outputs": [
    {
     "data": {
      "image/png": "[encoded data removed]",
      "text/plain": [
       "<Figure size 864x432 with 1 Axes>"
      ]
     },
     "metadata": {
      "needs_background": "light"
     },
     "output_type": "display_data"
    }
   ],
   "source": [
    "ax = curves_ols.plot(linestyle='-',marker='*')\n",
    "curves.plot(ax=ax, linestyle='-',marker='*', ylim=(0,curves.max().max()*1.1))\n",
    "table.set_index('maturity')['ytm'].plot(ax=ax, linestyle='',marker='*', color='k')\n",
    "\n",
    "series_plotted = list(curves_ols.columns) + list(curves.columns) + ['quoted ytm']\n",
    "plt.legend(series_plotted)\n",
    "plt.xlabel('maturity')\n",
    "plt.ylabel('interest rate')\n",
    "plt.ylim(.02,.045)\n",
    "plt.title('Spot Curve vs YTM')\n",
    "plt.show()"
   ]
  }
 ],
 "metadata": {
  "hide_input": false,
  "kernelspec": {
   "display_name": "Python 3 (ipykernel)",
   "language": "python",
   "name": "python3"
  },
  "language_info": {
   "codemirror_mode": {
    "name": "ipython",
    "version": 3
   },
   "file_extension": ".py",
   "mimetype": "text/x-python",
   "name": "python",
   "nbconvert_exporter": "python",
   "pygments_lexer": "ipython3",
   "version": "3.9.7"
  }
 },
 "nbformat": 4,
 "nbformat_minor": 5
}
