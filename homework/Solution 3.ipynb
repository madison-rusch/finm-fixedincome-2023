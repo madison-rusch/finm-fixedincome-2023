{
 "cells": [
  {
   "cell_type": "markdown",
   "id": "3e013a68",
   "metadata": {},
   "source": [
    "# Solution 3\n",
    "\n",
    "## FINM 37400 - 2023\n",
    "\n",
    "### UChicago Financial Mathematics\n",
    "\n",
    "* Mark Hendricks\n",
    "* hendricks@uchicago.edu"
   ]
  },
  {
   "cell_type": "markdown",
   "id": "ad9a8968",
   "metadata": {},
   "source": [
    "# 1 HBS Case: Fixed-Income Arbitrage in a Financial Crisis (C): Spread and Swap Spread in November 2008"
   ]
  },
  {
   "cell_type": "markdown",
   "id": "c4f31467",
   "metadata": {},
   "source": [
    "## Simplification of the setup\n",
    "\n",
    "The date is Nov 4, 2008.\n",
    "\n",
    "**Treasury bond**\n",
    "* Suppose the Treasury bond matures exactly 30 years later, on Nov 4, 2038 rather than May 15, 2008. \n",
    "* The YTM of this freshly issued treasury is 4.193\\% with a semiannual coupon of <span style=\"color:red\">4.50\\%</span>, same as is given in the case. (So we're just changing the maturity date to simplify things, but keeping the market data.)\n",
    "\n",
    "**Swap**\n",
    "* The fixed leg of the swap pays semiannually, with swap rate of 4.2560\\%, as given in the case.\n",
    "* The floating leg of the swap also pays semiannually--not quarterly--such that the payment dates are identical on both legs. Thus, it also resets the floating rate semiannually, not quarterly.\n",
    "* The floating rate of the swap equals the repo rate used in the trade. Thus, these two rates cancel in the financing of the trade. (No need to consider the TED spread.) "
   ]
  },
  {
   "cell_type": "markdown",
   "id": "1ae4b149",
   "metadata": {},
   "source": [
    "## 1.1\n",
    "\n",
    "List the projected cashflows on May 4, 2009, exactly six months into the trade, on the first coupon and swap date."
   ]
  },
  {
   "cell_type": "markdown",
   "id": "f20aa5eb",
   "metadata": {},
   "source": [
    "## 1.2\n",
    "\n",
    "What is the duration of...\n",
    "* the T-bond\n",
    "* the swap\n",
    "\n",
    "Remember that...\n",
    "* the swap can be decomposed into a fixed-rate bond and a floating-rate note\n",
    "* a floating-rate note has duration equal to the time until the next reset. Thus, at initialization, it has duration equal to 0.5 years.\n",
    "\n",
    "Is the duration for the \"paying-fixed\" swap positive or negative? Is it bigger or smaller in magnitude than the T-bond?\n",
    "\n",
    "For this problem, calculate the Macauley duration and the dollar (Macauley) duration."
   ]
  },
  {
   "cell_type": "markdown",
   "id": "5b1fd4c0",
   "metadata": {},
   "source": [
    "## 1.3\n",
    "\n",
    "What hedge ratio should be used to balance the notional size of the Treasury bond with the notional size of the swap, such that it is a duration-neutral position?\n",
    "\n",
    "Specifically, if the trader enters the swap paying fixed on \\$500 million notional, how large of a position should they take in the Treasury bond?"
   ]
  },
  {
   "cell_type": "markdown",
   "id": "21ec3280",
   "metadata": {},
   "source": [
    "## 1.4\n",
    "\n",
    "Suppose it is May 4, 2009, exactly six months after putting the trade on.\n",
    "\n",
    "The spread is at -28 bps due to...\n",
    "* The YTM on a new 30-year bond has risen to 4.36\\%\n",
    "* The swap rate on a new 30-year swap has dropped to 4.08\\%\n",
    "\n",
    "Explain conceptually how this movement impacts the components of the trade."
   ]
  },
  {
   "cell_type": "markdown",
   "id": "e2325c56",
   "metadata": {},
   "source": [
    "## 1.5\n",
    "\n",
    "Calculate the value of the position on May 4, 2009, immediately after the first coupon and swap payments and swap reset. \n",
    "\n",
    "* Calculate the revised price of the Treasury bond by assuming you can apply the (May 4) 30-year YTM as a discount rate to the 29.5 year bond. (We are just using this for a rough approximation. You know that good pricing would require a discount curve, but let's not get bogged down with that here.)\n",
    "\n",
    "\n",
    "* Calculate the value of the swap by decomposing it into a fixed-rate bond and a floating-rate bond.\n",
    "    * The 29.5 year fixed-rate leg is priced using the (May 4) 30-year swap rate as a discount rate.\n",
    "    * The floating-rate leg is priced at par given that floating-rate notes are par immediately after resets.\n",
    "    \n",
    "**Note**\n",
    "\n",
    "You are being asked to calculate these valuations using the exact formula between price, cashflows, and YTM discount rate. We are not simply approximating with duration, as we already know the position was set up with zero dollar duration.\n",
    "\n",
    "From the Discussion 1 notebook, we have this formula expressing a bond's price as a function of the coupon, $c$, and the YTM, $y_j$.\n",
    "\n",
    "$\\begin{align*}\n",
    "P_j(t,T,c) = \\sum_{i=1}^{n-1}\\frac{100\\left(\\frac{c}{2}\\right)}{\\left(1+\\frac{y_j}{2}\\right)^{2(T_i-t)}} + \\frac{100\\left(1+\\frac{c}{2}\\right)}{\\left(1+\\frac{y_j}{2}\\right)^{2(T-t)}}\n",
    "\\end{align*}\n",
    "$"
   ]
  },
  {
   "cell_type": "markdown",
   "id": "9a722d70",
   "metadata": {},
   "source": [
    "## 1.6\n",
    "\n",
    "Accounting for the change in value of the positions, as well as the 6-month cashflows paid on May 4, \n",
    "* what is the net profit and loss (pnl) of the position?\n",
    "* what is the return on the equity capital, considering that there was a 2\\% haircut (equity contribution) on the size of the initial treasury bond position."
   ]
  },
  {
   "cell_type": "markdown",
   "id": "7bf96144",
   "metadata": {},
   "source": [
    "***"
   ]
  },
  {
   "cell_type": "markdown",
   "id": "e0a95488",
   "metadata": {},
   "source": [
    "# <span style=\"color:red\">Solution</span>"
   ]
  },
  {
   "cell_type": "code",
   "execution_count": 1,
   "id": "b8d3eafc",
   "metadata": {},
   "outputs": [],
   "source": [
    "import pandas as pd\n",
    "import numpy as np\n",
    "import datetime\n",
    "import warnings\n",
    "\n",
    "from sklearn.linear_model import LinearRegression\n",
    "from scipy.optimize import minimize\n",
    "\n",
    "import matplotlib.pyplot as plt\n",
    "%matplotlib inline\n",
    "plt.rcParams['figure.figsize'] = (12,6)\n",
    "plt.rcParams['font.size'] = 15\n",
    "plt.rcParams['legend.fontsize'] = 13\n",
    "\n",
    "import sys\n",
    "sys.path.insert(0, '../cmds')\n",
    "from treasury_cmds import *"
   ]
  },
  {
   "cell_type": "markdown",
   "id": "d47d617a",
   "metadata": {},
   "source": [
    "### Case Parameters"
   ]
  },
  {
   "cell_type": "code",
   "execution_count": 2,
   "id": "89a9d51d",
   "metadata": {},
   "outputs": [],
   "source": [
    "USE_PAR_TBOND = False\n",
    "# Set coupon on 30-year T bond to equal Nov 4 YTM\n",
    "# Or stick with the coupon rate in the case, for the Aug 2008 T bond\n",
    "\n",
    "YTM = [0.04193, .0436]\n",
    "\n",
    "if USE_PAR_TBOND:\n",
    "    CPNRATE = [YTM[0], .0436]\n",
    "else:\n",
    "    CPNRATE = [0.0450, .0436]\n",
    "\n",
    "SWAPRATE = [.042560, .0408]\n",
    "\n",
    "TPRICE = 105\n",
    "PAR = 100\n",
    "\n",
    "NOTIONAL = 500e6\n",
    "HAIRCUT = .02\n",
    "\n",
    "DTIME = .5\n",
    "tau0 = 30\n",
    "tau1 = tau0-DTIME"
   ]
  },
  {
   "cell_type": "markdown",
   "id": "ddc74610",
   "metadata": {},
   "source": [
    "### Market environment"
   ]
  },
  {
   "cell_type": "code",
   "execution_count": 3,
   "id": "f88d6a98",
   "metadata": {},
   "outputs": [
    {
     "data": {
      "text/html": [
       "<style type=\"text/css\">\n",
       "</style>\n",
       "<table id=\"T_36e72\">\n",
       "  <thead>\n",
       "    <tr>\n",
       "      <th class=\"blank level0\" >&nbsp;</th>\n",
       "      <th id=\"T_36e72_level0_col0\" class=\"col_heading level0 col0\" >Nov 2008</th>\n",
       "      <th id=\"T_36e72_level0_col1\" class=\"col_heading level0 col1\" >May 2009</th>\n",
       "    </tr>\n",
       "  </thead>\n",
       "  <tbody>\n",
       "    <tr>\n",
       "      <th id=\"T_36e72_level0_row0\" class=\"row_heading level0 row0\" >coupon rate</th>\n",
       "      <td id=\"T_36e72_row0_col0\" class=\"data row0 col0\" >4.50%</td>\n",
       "      <td id=\"T_36e72_row0_col1\" class=\"data row0 col1\" >4.36%</td>\n",
       "    </tr>\n",
       "    <tr>\n",
       "      <th id=\"T_36e72_level0_row1\" class=\"row_heading level0 row1\" >YTM</th>\n",
       "      <td id=\"T_36e72_row1_col0\" class=\"data row1 col0\" >4.19%</td>\n",
       "      <td id=\"T_36e72_row1_col1\" class=\"data row1 col1\" >4.36%</td>\n",
       "    </tr>\n",
       "    <tr>\n",
       "      <th id=\"T_36e72_level0_row2\" class=\"row_heading level0 row2\" >swap rate</th>\n",
       "      <td id=\"T_36e72_row2_col0\" class=\"data row2 col0\" >4.26%</td>\n",
       "      <td id=\"T_36e72_row2_col1\" class=\"data row2 col1\" >4.08%</td>\n",
       "    </tr>\n",
       "    <tr>\n",
       "      <th id=\"T_36e72_level0_row3\" class=\"row_heading level0 row3\" >spread</th>\n",
       "      <td id=\"T_36e72_row3_col0\" class=\"data row3 col0\" >nan%</td>\n",
       "      <td id=\"T_36e72_row3_col1\" class=\"data row3 col1\" >nan%</td>\n",
       "    </tr>\n",
       "    <tr>\n",
       "      <th id=\"T_36e72_level0_row4\" class=\"row_heading level0 row4\" >YTM spread</th>\n",
       "      <td id=\"T_36e72_row4_col0\" class=\"data row4 col0\" >0.06%</td>\n",
       "      <td id=\"T_36e72_row4_col1\" class=\"data row4 col1\" >-0.28%</td>\n",
       "    </tr>\n",
       "    <tr>\n",
       "      <th id=\"T_36e72_level0_row5\" class=\"row_heading level0 row5\" >coupon spread</th>\n",
       "      <td id=\"T_36e72_row5_col0\" class=\"data row5 col0\" >-0.24%</td>\n",
       "      <td id=\"T_36e72_row5_col1\" class=\"data row5 col1\" >-0.28%</td>\n",
       "    </tr>\n",
       "  </tbody>\n",
       "</table>\n"
      ],
      "text/plain": [
       "<pandas.io.formats.style.Styler at 0x12f0776d0>"
      ]
     },
     "execution_count": 3,
     "metadata": {},
     "output_type": "execute_result"
    }
   ],
   "source": [
    "summary = pd.DataFrame(index=['coupon rate','YTM','swap rate','spread'],columns = ['Nov 2008','May 2009'],dtype=float)\n",
    "summary.loc['coupon rate'] = CPNRATE\n",
    "summary.loc['YTM'] = YTM\n",
    "summary.loc['swap rate'] = SWAPRATE\n",
    "summary.loc['YTM spread'] = summary.loc['swap rate'] - summary.loc['YTM']\n",
    "summary.loc['coupon spread'] = summary.loc['swap rate'] - summary.loc['coupon rate']\n",
    "summary.style.format('{:.2%}')"
   ]
  },
  {
   "cell_type": "markdown",
   "id": "e9a35c3d",
   "metadata": {},
   "source": [
    "# <span style=\"color:red\">1.1</span>"
   ]
  },
  {
   "cell_type": "markdown",
   "id": "cda2590f",
   "metadata": {},
   "source": [
    "#### SOFR rate cancels\n",
    "\n",
    "No need to account for the repo rate or the swap's floating payment, as they both are modeled in this problem with SOFR, and thus net to zero."
   ]
  },
  {
   "cell_type": "code",
   "execution_count": 4,
   "id": "7eab9c46",
   "metadata": {},
   "outputs": [],
   "source": [
    "SOFR = np.nan"
   ]
  },
  {
   "cell_type": "markdown",
   "id": "080d6e7a",
   "metadata": {},
   "source": [
    "### Cashflows"
   ]
  },
  {
   "cell_type": "code",
   "execution_count": 5,
   "id": "b3bbfd69",
   "metadata": {},
   "outputs": [
    {
     "data": {
      "text/html": [
       "<style type=\"text/css\">\n",
       "</style>\n",
       "<table id=\"T_72548\">\n",
       "  <thead>\n",
       "    <tr>\n",
       "      <th class=\"blank level0\" >&nbsp;</th>\n",
       "      <th id=\"T_72548_level0_col0\" class=\"col_heading level0 col0\" >May 2009</th>\n",
       "    </tr>\n",
       "  </thead>\n",
       "  <tbody>\n",
       "    <tr>\n",
       "      <th id=\"T_72548_level0_row0\" class=\"row_heading level0 row0\" >T bond</th>\n",
       "      <td id=\"T_72548_row0_col0\" class=\"data row0 col0\" >$2.25</td>\n",
       "    </tr>\n",
       "    <tr>\n",
       "      <th id=\"T_72548_level0_row1\" class=\"row_heading level0 row1\" >Repo</th>\n",
       "      <td id=\"T_72548_row1_col0\" class=\"data row1 col0\" >$nan</td>\n",
       "    </tr>\n",
       "    <tr>\n",
       "      <th id=\"T_72548_level0_row2\" class=\"row_heading level0 row2\" >Swap (floating leg)</th>\n",
       "      <td id=\"T_72548_row2_col0\" class=\"data row2 col0\" >$nan</td>\n",
       "    </tr>\n",
       "    <tr>\n",
       "      <th id=\"T_72548_level0_row3\" class=\"row_heading level0 row3\" >Swap (fixed leg)</th>\n",
       "      <td id=\"T_72548_row3_col0\" class=\"data row3 col0\" >$-2.13</td>\n",
       "    </tr>\n",
       "    <tr>\n",
       "      <th id=\"T_72548_level0_row4\" class=\"row_heading level0 row4\" >Net Payment</th>\n",
       "      <td id=\"T_72548_row4_col0\" class=\"data row4 col0\" >$0.12</td>\n",
       "    </tr>\n",
       "  </tbody>\n",
       "</table>\n"
      ],
      "text/plain": [
       "<pandas.io.formats.style.Styler at 0x10c0ce160>"
      ]
     },
     "execution_count": 5,
     "metadata": {},
     "output_type": "execute_result"
    }
   ],
   "source": [
    "CF = pd.DataFrame(index=['T bond','Repo','Swap (floating leg)','Swap (fixed leg)'],columns=['May 2009'],dtype=float)\n",
    "CF.loc['Repo'] -SOFR\n",
    "CF.loc['Swap (floating leg)'] = SOFR\n",
    "CF.loc[['T bond']] = PAR * CPNRATE[0] /2\n",
    "CF.loc[['Swap (fixed leg)']] = -PAR * SWAPRATE[0]/2\n",
    "CF.loc['Net Payment'] = CF.sum(axis=0)\n",
    "CF.style.format('${:,.2f}')"
   ]
  },
  {
   "cell_type": "markdown",
   "id": "42eba8eb",
   "metadata": {},
   "source": [
    "# <span style=\"color:red\">1.2</span>"
   ]
  },
  {
   "cell_type": "code",
   "execution_count": 6,
   "id": "23e71da3",
   "metadata": {},
   "outputs": [],
   "source": [
    "def duration_closed_formula(tau, ytm, cpnrate=None, freq=2):\n",
    "\n",
    "    if cpnrate is None:\n",
    "        cpnrate = ytm\n",
    "        \n",
    "    y = ytm/freq\n",
    "    c = cpnrate/freq\n",
    "    T = tau * freq\n",
    "        \n",
    "    if cpnrate==ytm:\n",
    "        duration = (1+y)/y  * (1 - 1/(1+y)**T)\n",
    "        \n",
    "    else:\n",
    "        duration = (1+y)/y - (1+y+T*(c-y)) / (c*((1+y)**T-1)+y)\n",
    "\n",
    "    duration /= freq\n",
    "    \n",
    "    return duration"
   ]
  },
  {
   "cell_type": "code",
   "execution_count": 7,
   "id": "51424838",
   "metadata": {},
   "outputs": [
    {
     "data": {
      "text/html": [
       "<div>\n",
       "<style scoped>\n",
       "    .dataframe tbody tr th:only-of-type {\n",
       "        vertical-align: middle;\n",
       "    }\n",
       "\n",
       "    .dataframe tbody tr th {\n",
       "        vertical-align: top;\n",
       "    }\n",
       "\n",
       "    .dataframe thead th {\n",
       "        text-align: right;\n",
       "    }\n",
       "</style>\n",
       "<table border=\"1\" class=\"dataframe\">\n",
       "  <thead>\n",
       "    <tr style=\"text-align: right;\">\n",
       "      <th></th>\n",
       "      <th>duration</th>\n",
       "      <th>dollar duration</th>\n",
       "    </tr>\n",
       "  </thead>\n",
       "  <tbody>\n",
       "    <tr>\n",
       "      <th>T bond</th>\n",
       "      <td>17.083633</td>\n",
       "      <td>1793.781472</td>\n",
       "    </tr>\n",
       "    <tr>\n",
       "      <th>fixed leg</th>\n",
       "      <td>17.212744</td>\n",
       "      <td>1721.274445</td>\n",
       "    </tr>\n",
       "    <tr>\n",
       "      <th>floating leg</th>\n",
       "      <td>0.500000</td>\n",
       "      <td>50.000000</td>\n",
       "    </tr>\n",
       "    <tr>\n",
       "      <th>swap</th>\n",
       "      <td>16.712744</td>\n",
       "      <td>1671.274445</td>\n",
       "    </tr>\n",
       "    <tr>\n",
       "      <th>net</th>\n",
       "      <td>0.370889</td>\n",
       "      <td>122.507027</td>\n",
       "    </tr>\n",
       "  </tbody>\n",
       "</table>\n",
       "</div>"
      ],
      "text/plain": [
       "               duration  dollar duration\n",
       "T bond        17.083633      1793.781472\n",
       "fixed leg     17.212744      1721.274445\n",
       "floating leg   0.500000        50.000000\n",
       "swap          16.712744      1671.274445\n",
       "net            0.370889       122.507027"
      ]
     },
     "execution_count": 7,
     "metadata": {},
     "output_type": "execute_result"
    }
   ],
   "source": [
    "tab_duration = pd.DataFrame(dtype=float, index=['T bond','fixed leg', 'floating leg'], columns=['duration'])\n",
    "tab_duration.loc['T bond'] = duration_closed_formula(30, summary.loc['YTM','Nov 2008'], summary.loc['coupon rate','Nov 2008'])\n",
    "tab_duration.loc['fixed leg'] = duration_closed_formula(30, summary.loc['swap rate','Nov 2008'])\n",
    "tab_duration.loc['floating leg'] = .5\n",
    "\n",
    "tab_duration['dollar duration'] = tab_duration['duration'] * np.array([TPRICE, PAR, PAR])\n",
    "\n",
    "tab_duration.loc['swap'] = tab_duration.loc['fixed leg'] - tab_duration.loc['floating leg']\n",
    "\n",
    "tab_duration.loc['net'] = tab_duration.loc['T bond'] - tab_duration.loc['swap']\n",
    "\n",
    "tab_duration"
   ]
  },
  {
   "cell_type": "markdown",
   "id": "0df953e3",
   "metadata": {},
   "source": [
    "# <span style=\"color:red\">1.3</span>"
   ]
  },
  {
   "cell_type": "markdown",
   "id": "43e4e0ac",
   "metadata": {},
   "source": [
    "Match dollar duration by ensuring that the ratio of contracts equals the ratio of dollar duration:\n",
    "\n",
    "$$0 = n_iD_{\\$,i} + n_jD_{\\$,j}$$\n",
    "\n",
    "$$n_j = -n_i\\frac{D_{\\$,i}}{D_{\\$,j}}$$"
   ]
  },
  {
   "cell_type": "code",
   "execution_count": 8,
   "id": "51ec4706",
   "metadata": {},
   "outputs": [
    {
     "data": {
      "text/html": [
       "<div>\n",
       "<style scoped>\n",
       "    .dataframe tbody tr th:only-of-type {\n",
       "        vertical-align: middle;\n",
       "    }\n",
       "\n",
       "    .dataframe tbody tr th {\n",
       "        vertical-align: top;\n",
       "    }\n",
       "\n",
       "    .dataframe thead th {\n",
       "        text-align: right;\n",
       "    }\n",
       "</style>\n",
       "<table border=\"1\" class=\"dataframe\">\n",
       "  <thead>\n",
       "    <tr style=\"text-align: right;\">\n",
       "      <th></th>\n",
       "      <th>positions</th>\n",
       "    </tr>\n",
       "  </thead>\n",
       "  <tbody>\n",
       "    <tr>\n",
       "      <th>T bond</th>\n",
       "      <td>4.436689e+06</td>\n",
       "    </tr>\n",
       "    <tr>\n",
       "      <th>swap</th>\n",
       "      <td>-5.000000e+06</td>\n",
       "    </tr>\n",
       "  </tbody>\n",
       "</table>\n",
       "</div>"
      ],
      "text/plain": [
       "           positions\n",
       "T bond  4.436689e+06\n",
       "swap   -5.000000e+06"
      ]
     },
     "execution_count": 8,
     "metadata": {},
     "output_type": "execute_result"
    }
   ],
   "source": [
    "hedge_ratio = tab_duration.loc['swap','dollar duration'] / tab_duration.loc['T bond','dollar duration']\n",
    "contracts = pd.DataFrame(NOTIONAL * np.array([hedge_ratio /TPRICE, -1/PAR]), index=['T bond','swap'], columns=['positions'])\n",
    "contracts"
   ]
  },
  {
   "cell_type": "markdown",
   "id": "0e2d7ec1",
   "metadata": {},
   "source": [
    "# <span style=\"color:red\">1.4</span>"
   ]
  },
  {
   "cell_type": "markdown",
   "id": "3d07a141",
   "metadata": {},
   "source": [
    "The rising YTM on the T bond suggests...\n",
    "* lower (adjusted) price for the T-bond.\n",
    "* we are long the T-bond, so this would be a loss.\n",
    "\n",
    "The lower swap rate suggests...\n",
    "* higher value on the fixed leg of a swap.\n",
    "* we are paying fixed, (ie short the fixed leg), so this would again be a loss.\n",
    "\n",
    "The floating leg of the swap and repo rate cance."
   ]
  },
  {
   "cell_type": "markdown",
   "id": "d78df70a",
   "metadata": {},
   "source": [
    "# <span style=\"color:red\">1.5</span>"
   ]
  },
  {
   "cell_type": "code",
   "execution_count": 9,
   "id": "1a1356b6",
   "metadata": {},
   "outputs": [],
   "source": [
    "def price_treasury_ytm(time_to_maturity, ytm, cpn_rate,freq=2,face=100):\n",
    "    c = cpn_rate/freq\n",
    "    y = ytm/freq\n",
    "    \n",
    "    tau = round(time_to_maturity * freq)\n",
    "    \n",
    "    pv = 0\n",
    "    for i in range(1,tau):\n",
    "        pv += 1 / (1+y)**i\n",
    "    \n",
    "    pv = c*pv + (1+c)/(1+y)**tau\n",
    "    pv *= face\n",
    "    \n",
    "    return pv"
   ]
  },
  {
   "cell_type": "code",
   "execution_count": 10,
   "id": "a0e6d445",
   "metadata": {},
   "outputs": [
    {
     "data": {
      "text/html": [
       "<style type=\"text/css\">\n",
       "</style>\n",
       "<table id=\"T_24fcd\">\n",
       "  <thead>\n",
       "    <tr>\n",
       "      <th class=\"blank level0\" >&nbsp;</th>\n",
       "      <th id=\"T_24fcd_level0_col0\" class=\"col_heading level0 col0\" >Nov 2008</th>\n",
       "      <th id=\"T_24fcd_level0_col1\" class=\"col_heading level0 col1\" >May 2009</th>\n",
       "    </tr>\n",
       "  </thead>\n",
       "  <tbody>\n",
       "    <tr>\n",
       "      <th id=\"T_24fcd_level0_row0\" class=\"row_heading level0 row0\" >T bond</th>\n",
       "      <td id=\"T_24fcd_row0_col0\" class=\"data row0 col0\" >$105.00</td>\n",
       "      <td id=\"T_24fcd_row0_col1\" class=\"data row0 col1\" >$102.31</td>\n",
       "    </tr>\n",
       "    <tr>\n",
       "      <th id=\"T_24fcd_level0_row1\" class=\"row_heading level0 row1\" >swap</th>\n",
       "      <td id=\"T_24fcd_row1_col0\" class=\"data row1 col0\" >$0.00</td>\n",
       "      <td id=\"T_24fcd_row1_col1\" class=\"data row1 col1\" >$3.00</td>\n",
       "    </tr>\n",
       "  </tbody>\n",
       "</table>\n"
      ],
      "text/plain": [
       "<pandas.io.formats.style.Styler at 0x12f210430>"
      ]
     },
     "execution_count": 10,
     "metadata": {},
     "output_type": "execute_result"
    }
   ],
   "source": [
    "prices = pd.DataFrame(index=['T bond', 'swap'],dtype=float,columns=['Nov 2008'])\n",
    "\n",
    "if USE_PAR_TBOND:\n",
    "    prices.loc['T bond','Nov 2008'] = price_treasury_ytm(tau0, summary.loc['YTM','Nov 2008'], summary.loc['coupon rate','Nov 2008'])\n",
    "else:\n",
    "    prices.loc['T bond','Nov 2008'] = TPRICE\n",
    "\n",
    "prices.loc['swap','Nov 2008'] = PAR - PAR\n",
    "\n",
    "prices.loc['T bond','May 2009'] = price_treasury_ytm(tau1, summary.loc['YTM','May 2009'], summary.loc['coupon rate','Nov 2008'])\n",
    "prices.loc['swap','May 2009'] = price_treasury_ytm(tau1, summary.loc['swap rate','May 2009'], summary.loc['swap rate','Nov 2008']) - PAR\n",
    "\n",
    "prices.style.format('${:,.2f}')"
   ]
  },
  {
   "cell_type": "markdown",
   "id": "b42190d3",
   "metadata": {},
   "source": [
    "# <span style=\"color:red\">1.6</span>"
   ]
  },
  {
   "cell_type": "code",
   "execution_count": 11,
   "id": "3959c2f7",
   "metadata": {},
   "outputs": [
    {
     "data": {
      "text/html": [
       "<style type=\"text/css\">\n",
       "</style>\n",
       "<table id=\"T_91679\">\n",
       "  <thead>\n",
       "    <tr>\n",
       "      <th class=\"blank level0\" >&nbsp;</th>\n",
       "      <th id=\"T_91679_level0_col0\" class=\"col_heading level0 col0\" >cashflow</th>\n",
       "      <th id=\"T_91679_level0_col1\" class=\"col_heading level0 col1\" >capital gains</th>\n",
       "      <th id=\"T_91679_level0_col2\" class=\"col_heading level0 col2\" >total</th>\n",
       "    </tr>\n",
       "  </thead>\n",
       "  <tbody>\n",
       "    <tr>\n",
       "      <th id=\"T_91679_level0_row0\" class=\"row_heading level0 row0\" >T bond</th>\n",
       "      <td id=\"T_91679_row0_col0\" class=\"data row0 col0\" >$9,982,549.26</td>\n",
       "      <td id=\"T_91679_row0_col1\" class=\"data row0 col1\" >$-11,928,477.82</td>\n",
       "      <td id=\"T_91679_row0_col2\" class=\"data row0 col2\" >$-1,945,928.55</td>\n",
       "    </tr>\n",
       "    <tr>\n",
       "      <th id=\"T_91679_level0_row1\" class=\"row_heading level0 row1\" >swap</th>\n",
       "      <td id=\"T_91679_row1_col0\" class=\"data row1 col0\" >$-10,640,000.00</td>\n",
       "      <td id=\"T_91679_row1_col1\" class=\"data row1 col1\" >$-15,016,747.03</td>\n",
       "      <td id=\"T_91679_row1_col2\" class=\"data row1 col2\" >$-25,656,747.03</td>\n",
       "    </tr>\n",
       "    <tr>\n",
       "      <th id=\"T_91679_level0_row2\" class=\"row_heading level0 row2\" >net</th>\n",
       "      <td id=\"T_91679_row2_col0\" class=\"data row2 col0\" >$-657,450.74</td>\n",
       "      <td id=\"T_91679_row2_col1\" class=\"data row2 col1\" >$-26,945,224.84</td>\n",
       "      <td id=\"T_91679_row2_col2\" class=\"data row2 col2\" >$-27,602,675.58</td>\n",
       "    </tr>\n",
       "  </tbody>\n",
       "</table>\n"
      ],
      "text/plain": [
       "<pandas.io.formats.style.Styler at 0x12f219d90>"
      ]
     },
     "execution_count": 11,
     "metadata": {},
     "output_type": "execute_result"
    }
   ],
   "source": [
    "pnl=pd.DataFrame(dtype=float,index=['T bond','swap'],columns=['cashflow'])\n",
    "\n",
    "pnl['cashflow'] = CF.loc[['T bond','Swap (fixed leg)']].values * contracts.abs().values\n",
    "pnl['capital gains'] = prices.diff(axis=1)['May 2009'].values * contracts.values[:,0]\n",
    "\n",
    "pnl.loc['net'] = pnl.sum()\n",
    "\n",
    "pnl['total'] = pnl.sum(axis=1)\n",
    "\n",
    "pnl.style.format('${:,.2f}',na_rep='')"
   ]
  },
  {
   "cell_type": "code",
   "execution_count": 12,
   "id": "4efe685e",
   "metadata": {},
   "outputs": [
    {
     "data": {
      "text/html": [
       "<style type=\"text/css\">\n",
       "</style>\n",
       "<table id=\"T_f6ddc\">\n",
       "  <thead>\n",
       "    <tr>\n",
       "      <th class=\"blank level0\" >&nbsp;</th>\n",
       "      <th id=\"T_f6ddc_level0_col0\" class=\"col_heading level0 col0\" >assets</th>\n",
       "      <th id=\"T_f6ddc_level0_col1\" class=\"col_heading level0 col1\" >equity</th>\n",
       "      <th id=\"T_f6ddc_level0_col2\" class=\"col_heading level0 col2\" >pnl</th>\n",
       "      <th id=\"T_f6ddc_level0_col3\" class=\"col_heading level0 col3\" >return</th>\n",
       "    </tr>\n",
       "  </thead>\n",
       "  <tbody>\n",
       "    <tr>\n",
       "      <th id=\"T_f6ddc_level0_row0\" class=\"row_heading level0 row0\" >T bond</th>\n",
       "      <td id=\"T_f6ddc_row0_col0\" class=\"data row0 col0\" >$465,852,298.97</td>\n",
       "      <td id=\"T_f6ddc_row0_col1\" class=\"data row0 col1\" >$9,317,045.98</td>\n",
       "      <td id=\"T_f6ddc_row0_col2\" class=\"data row0 col2\" >$-1,945,928.55</td>\n",
       "      <td id=\"T_f6ddc_row0_col3\" class=\"data row0 col3\" ></td>\n",
       "    </tr>\n",
       "    <tr>\n",
       "      <th id=\"T_f6ddc_level0_row1\" class=\"row_heading level0 row1\" >swap</th>\n",
       "      <td id=\"T_f6ddc_row1_col0\" class=\"data row1 col0\" >$-0.00</td>\n",
       "      <td id=\"T_f6ddc_row1_col1\" class=\"data row1 col1\" >$-0.00</td>\n",
       "      <td id=\"T_f6ddc_row1_col2\" class=\"data row1 col2\" >$-25,656,747.03</td>\n",
       "      <td id=\"T_f6ddc_row1_col3\" class=\"data row1 col3\" ></td>\n",
       "    </tr>\n",
       "    <tr>\n",
       "      <th id=\"T_f6ddc_level0_row2\" class=\"row_heading level0 row2\" >net</th>\n",
       "      <td id=\"T_f6ddc_row2_col0\" class=\"data row2 col0\" >$465,852,298.97</td>\n",
       "      <td id=\"T_f6ddc_row2_col1\" class=\"data row2 col1\" >$9,317,045.98</td>\n",
       "      <td id=\"T_f6ddc_row2_col2\" class=\"data row2 col2\" >$-27,602,675.58</td>\n",
       "      <td id=\"T_f6ddc_row2_col3\" class=\"data row2 col3\" >-296.26%</td>\n",
       "    </tr>\n",
       "  </tbody>\n",
       "</table>\n"
      ],
      "text/plain": [
       "<pandas.io.formats.style.Styler at 0x12f224280>"
      ]
     },
     "execution_count": 12,
     "metadata": {},
     "output_type": "execute_result"
    }
   ],
   "source": [
    "capital = pd.DataFrame(prices.iloc[:,0].values * contracts.values[:,0], index=['T bond','swap'],columns=['assets'])\n",
    "capital['equity'] = capital['assets'] * HAIRCUT\n",
    "capital.loc['net'] = capital.sum()\n",
    "\n",
    "capital['pnl'] = pnl['total']\n",
    "capital['return'] = capital['pnl']/capital['equity']\n",
    "capital.loc[['T bond','swap'],'return'] = np.nan\n",
    "\n",
    "capital.style.format({'assets':'${:,.2f}','equity':'${:,.2f}','pnl':'${:,.2f}','return':'{:.2%}'},na_rep='')"
   ]
  },
  {
   "cell_type": "markdown",
   "id": "4da55a69",
   "metadata": {},
   "source": [
    "# Notes about the Case"
   ]
  },
  {
   "cell_type": "markdown",
   "id": "b274602d",
   "metadata": {},
   "source": [
    "## Case quotes on duration\n",
    "\n",
    "Bond\n",
    "* Quote: Val01 of bond is .1746 per bp per \\\\$1 face value\n",
    "* Class terminology: Modified dollar duration is .1746 per \\\\$100 face value\n",
    "\n",
    "Swap\n",
    "* Quote: DV01 of swap is 1.7mm per 1 billion notional.\n",
    "* Class terminology: Modified dollar duration is 100(1.7/1000) per \\\\$100 face value.\n",
    "\n",
    "Thus, modified dollar duration for each per 100 face is\n",
    "* Bond = .1746\n",
    "* Swap = .1700"
   ]
  },
  {
   "cell_type": "markdown",
   "id": "68497c37",
   "metadata": {},
   "source": [
    "## Closed-form Duration formula\n",
    "\n",
    "### How are they calculating duration without a discount curve?\n",
    "\n",
    "Usually we calculate duration with a discount curve. Here, we only have the YTM. We can use the estimates in the case.\n",
    "\n",
    "Alternatively, we can use this formula for a fixed-rate bond paying coupon rate $c$, priced with YTM, $y$, compounded (and coupon paid) with frequency, $n$. Time-to-maturity is $\\tau$.\n",
    "\n",
    "Then we have,\n",
    "\n",
    "$$\\newcommand{\\yfreq}{\\tilde{y}}$$\n",
    "$$\\newcommand{\\cpnfreq}{\\tilde{c}}$$\n",
    "$$\\newcommand{\\taufreq}{\\tilde{\\tau}}$$\n",
    "\n",
    "$$\\text{duration} = \\frac{1}{n}\\left[\\frac{1+\\yfreq}{\\yfreq} - \\frac{1+\\yfreq + \\taufreq\\left(\\cpnfreq-\\yfreq\\right)}{\\cpnfreq\\left[\\left(1+\\yfreq\\right)^\\taufreq-1\\right] + \\yfreq}\\right]$$\n",
    "\n",
    "where $\\yfreq$ is the YTM divided by the frequency:\n",
    "$$\\yfreq \\equiv \\frac{y}{n}$$\n",
    "\n",
    "and $\\cpnfreq$ is the coupon rate divided by the frequency:\n",
    "$$\\cpnfreq \\equiv \\frac{c}{n}$$\n",
    "\n",
    "and $\\taufreq$ is the time-to-maturity **multiplied** by the frequency:\n",
    "$$\\taufreq \\equiv n\\times\\tau$$\n",
    "\n",
    "In the case where the bond is priced at par, with the coupon rate equal to the YTM, then the formula is simply,\n",
    "\n",
    "$$\\text{duration} = \\frac{1}{n}\\frac{1+\\yfreq}{\\yfreq}\\left(1 - \\frac{1}{\\left(1+\\yfreq\\right)^\\taufreq}\\right)$$"
   ]
  },
  {
   "cell_type": "markdown",
   "id": "afb04f43",
   "metadata": {},
   "source": [
    "## Confusing points in the case\n",
    "\n",
    "1. In figuring out the hedge ratio, they set up the hedge per dollar of face value. \n",
    "\n",
    "    *so Mills would need to buy face amount \\\\$0.97 billion**\n",
    "    \n",
    "    No, this hedge should be for market value, not face amount given that the case is already using **modified** duration which includes the dirty price.\n",
    "\n",
    "2. The maturity of the bond is August 2038, whereas the date is Nov 2008. Thus, the bond has less than 30 years to maturity, yet he is entering a 30-year swap. For simplicity, we reimagine the bond has maturity 30, with maturity date of Nov 2008. But then the quoted price is no longer compatible with the quoted YTM. \n",
    "\n",
    "You could\n",
    "* Take the case seriously, and deal with the mismatched maturity of the instruments.\n",
    "* Simplify the maturity, keep the Nov 4 YTM, and re-price the bond.\n",
    "* Simplify the maturity, keep the Nov 4 price, and re-calculate the YTM."
   ]
  }
 ],
 "metadata": {
  "hide_input": true,
  "kernelspec": {
   "display_name": "Python 3 (ipykernel)",
   "language": "python",
   "name": "python3"
  },
  "language_info": {
   "codemirror_mode": {
    "name": "ipython",
    "version": 3
   },
   "file_extension": ".py",
   "mimetype": "text/x-python",
   "name": "python",
   "nbconvert_exporter": "python",
   "pygments_lexer": "ipython3",
   "version": "3.9.7"
  }
 },
 "nbformat": 4,
 "nbformat_minor": 5
}
