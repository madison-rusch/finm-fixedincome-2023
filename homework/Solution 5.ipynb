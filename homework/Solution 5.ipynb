{
 "cells": [
  {
   "cell_type": "markdown",
   "id": "3e013a68",
   "metadata": {},
   "source": [
    "# Solution 5\n",
    "\n",
    "## FINM 37400 - 2023\n",
    "\n",
    "### UChicago Financial Mathematics\n",
    "\n",
    "* Mark Hendricks\n",
    "* hendricks@uchicago.edu"
   ]
  },
  {
   "cell_type": "markdown",
   "id": "c509a321",
   "metadata": {},
   "source": [
    "# 1. Forward Rates"
   ]
  },
  {
   "cell_type": "markdown",
   "id": "d31bd42d",
   "metadata": {},
   "source": [
    "Use the data set `treasury_zero_coupon_2022-12-30.xlsx`.\n",
    "\n",
    "It gives prices on **zero coupon bonds** with maturities of 1 through 5 years.\n",
    "* These are prices per \\\\$1 face value on bonds that only pay principal.\n",
    "* Such bonds can be created from treasuries by *stripping* out their coupons.\n",
    "* In essence, you can consider these prices as the discount factors $Z$, for maturity intervals 1 through 5 years.\n",
    "\n",
    "In this problem, we focus on six dates: the month of December in 2017 through 2022."
   ]
  },
  {
   "cell_type": "markdown",
   "id": "19845af0",
   "metadata": {},
   "source": [
    "## 1.1\n",
    "\n",
    "For each of the six dates, (Dec 2017, Dec 2018, ...), calculate the forward discount factor, $F(t,T_1,T_2)$, where $T_2 = T_1 + 1$ for $1\\le T_1\\le 4$.\n",
    "\n",
    "Make a plot of the curve $F$ at each of these six dates."
   ]
  },
  {
   "cell_type": "markdown",
   "id": "43ff9ac2",
   "metadata": {},
   "source": [
    "## 1.2\n",
    "\n"
   ]
  },
  {
   "cell_type": "markdown",
   "id": "3dafd627",
   "metadata": {},
   "source": [
    "Use $F$ above to calculate the continuously compounded forward rates, $f$, at the six dates.\n",
    "\n",
    "Make a plot of the curve, $f$, at each of these six dates."
   ]
  },
  {
   "cell_type": "markdown",
   "id": "f65d4d51",
   "metadata": {},
   "source": [
    "## 1.3\n",
    "\n",
    "Calculate the continuously compounded spot rates, $r$, at the six dates.\n",
    "\n",
    "Plot both the forward curve and the spot curve on the date of Dec 2017.\n",
    "\n",
    "Recall that $f(t,t,t+1) = r(t,t+1)$."
   ]
  },
  {
   "cell_type": "markdown",
   "id": "480da114",
   "metadata": {},
   "source": [
    "## 1.4\n",
    "\n",
    "Plot the forward curve on Dec 2017 against the time-series evolution of $r(t,t+1)$ for dates $t$ between Dec 2017 and Dec 2021.\n",
    "\n",
    "How does the evolution of one-year rates between 2017-2021 compare to the forward rates of 2017?"
   ]
  },
  {
   "cell_type": "markdown",
   "id": "e59463ad",
   "metadata": {},
   "source": [
    "# 2. Carry Trade"
   ]
  },
  {
   "cell_type": "markdown",
   "id": "0e84a1de",
   "metadata": {},
   "source": [
    "## 2.1\n",
    "\n",
    "Suppose it is December 2017, and you determine to implement a carry trade with the following specification...\n",
    "\n",
    "* Long \\\\$100 million of the 5-year zero-coupon bond (maturing Dec 2022.)\n",
    "* Short \\\\$100 million of the 1-year zero-coupon bond (maturing Dec 2018.)\n",
    "* Assume there is a 2% haircut on each side of the trade, so it requires \\\\$4 million of investor capital to initiate it.\n",
    "\n",
    "Trace the profit and loss each year.\n",
    "* Note that each year you will roll over the short position until the trade concludes in Dec 2022.\n",
    "\n",
    "Calculate the total profit and loss when the trade concludes in Dec 2022.\n",
    "* Calculate the total return on the initial \\\\$4 million of investor capital."
   ]
  },
  {
   "cell_type": "markdown",
   "id": "11f8d196",
   "metadata": {},
   "source": [
    "## 2.2\n",
    "\n",
    "How would this trade play out if the path of one-year spot rates equaled the forward rates observed in 2017?"
   ]
  },
  {
   "cell_type": "markdown",
   "id": "7b9ea799",
   "metadata": {},
   "source": [
    "## 2.3\n",
    "\n",
    "Given Fact 3 of the *dynamic* (conditional) tests of EH in notebook W.5., do you expect that as of Dec 2022 the long-short trade above looks more or less favorable as of Dec 2022-2027 than it did as of Dec 2017-2022?"
   ]
  },
  {
   "cell_type": "markdown",
   "id": "c51177ac",
   "metadata": {},
   "source": [
    "# <span style=\"color:red\">Solutions</span>"
   ]
  },
  {
   "cell_type": "code",
   "execution_count": 1,
   "id": "86fcfcde",
   "metadata": {},
   "outputs": [],
   "source": [
    "import pandas as pd\n",
    "import numpy as np\n",
    "import datetime\n",
    "import warnings\n",
    "\n",
    "import matplotlib.pyplot as plt\n",
    "%matplotlib inline\n",
    "plt.rcParams['figure.figsize'] = (12,6)\n",
    "plt.rcParams['font.size'] = 15\n",
    "plt.rcParams['legend.fontsize'] = 13\n",
    "\n",
    "from matplotlib.ticker import (MultipleLocator,\n",
    "                               FormatStrFormatter,\n",
    "                               AutoMinorLocator)\n",
    "import sys\n",
    "sys.path.insert(0, '../cmds')\n",
    "from treasury_cmds import *"
   ]
  },
  {
   "cell_type": "code",
   "execution_count": 2,
   "id": "d3fab569",
   "metadata": {},
   "outputs": [
    {
     "data": {
      "text/html": [
       "<div>\n",
       "<style scoped>\n",
       "    .dataframe tbody tr th:only-of-type {\n",
       "        vertical-align: middle;\n",
       "    }\n",
       "\n",
       "    .dataframe tbody tr th {\n",
       "        vertical-align: top;\n",
       "    }\n",
       "\n",
       "    .dataframe thead th {\n",
       "        text-align: right;\n",
       "    }\n",
       "</style>\n",
       "<table border=\"1\" class=\"dataframe\">\n",
       "  <thead>\n",
       "    <tr style=\"text-align: right;\">\n",
       "      <th></th>\n",
       "      <th>1</th>\n",
       "      <th>2</th>\n",
       "      <th>3</th>\n",
       "      <th>4</th>\n",
       "      <th>5</th>\n",
       "    </tr>\n",
       "    <tr>\n",
       "      <th>date</th>\n",
       "      <th></th>\n",
       "      <th></th>\n",
       "      <th></th>\n",
       "      <th></th>\n",
       "      <th></th>\n",
       "    </tr>\n",
       "  </thead>\n",
       "  <tbody>\n",
       "    <tr>\n",
       "      <th>1952-06-30</th>\n",
       "      <td>0.981778</td>\n",
       "      <td>0.962531</td>\n",
       "      <td>0.942467</td>\n",
       "      <td>0.926341</td>\n",
       "      <td>0.904183</td>\n",
       "    </tr>\n",
       "    <tr>\n",
       "      <th>1952-07-31</th>\n",
       "      <td>0.980948</td>\n",
       "      <td>0.960315</td>\n",
       "      <td>0.939312</td>\n",
       "      <td>0.923089</td>\n",
       "      <td>0.898516</td>\n",
       "    </tr>\n",
       "    <tr>\n",
       "      <th>1952-08-29</th>\n",
       "      <td>0.980578</td>\n",
       "      <td>0.959750</td>\n",
       "      <td>0.937819</td>\n",
       "      <td>0.921458</td>\n",
       "      <td>0.895717</td>\n",
       "    </tr>\n",
       "    <tr>\n",
       "      <th>1952-09-30</th>\n",
       "      <td>0.980312</td>\n",
       "      <td>0.959098</td>\n",
       "      <td>0.937551</td>\n",
       "      <td>0.920961</td>\n",
       "      <td>0.891676</td>\n",
       "    </tr>\n",
       "    <tr>\n",
       "      <th>1952-10-31</th>\n",
       "      <td>0.981108</td>\n",
       "      <td>0.959745</td>\n",
       "      <td>0.937583</td>\n",
       "      <td>0.919290</td>\n",
       "      <td>0.897248</td>\n",
       "    </tr>\n",
       "    <tr>\n",
       "      <th>...</th>\n",
       "      <td>...</td>\n",
       "      <td>...</td>\n",
       "      <td>...</td>\n",
       "      <td>...</td>\n",
       "      <td>...</td>\n",
       "    </tr>\n",
       "    <tr>\n",
       "      <th>2022-08-31</th>\n",
       "      <td>0.965955</td>\n",
       "      <td>0.933432</td>\n",
       "      <td>0.900600</td>\n",
       "      <td>0.871263</td>\n",
       "      <td>0.846584</td>\n",
       "    </tr>\n",
       "    <tr>\n",
       "      <th>2022-09-30</th>\n",
       "      <td>0.959839</td>\n",
       "      <td>0.918517</td>\n",
       "      <td>0.880655</td>\n",
       "      <td>0.846696</td>\n",
       "      <td>0.816731</td>\n",
       "    </tr>\n",
       "    <tr>\n",
       "      <th>2022-10-31</th>\n",
       "      <td>0.954288</td>\n",
       "      <td>0.914926</td>\n",
       "      <td>0.876564</td>\n",
       "      <td>0.841926</td>\n",
       "      <td>0.811304</td>\n",
       "    </tr>\n",
       "    <tr>\n",
       "      <th>2022-11-30</th>\n",
       "      <td>0.954375</td>\n",
       "      <td>0.918220</td>\n",
       "      <td>0.887608</td>\n",
       "      <td>0.857356</td>\n",
       "      <td>0.830593</td>\n",
       "    </tr>\n",
       "    <tr>\n",
       "      <th>2022-12-30</th>\n",
       "      <td>0.954636</td>\n",
       "      <td>0.916229</td>\n",
       "      <td>0.883347</td>\n",
       "      <td>0.851046</td>\n",
       "      <td>0.820298</td>\n",
       "    </tr>\n",
       "  </tbody>\n",
       "</table>\n",
       "<p>847 rows × 5 columns</p>\n",
       "</div>"
      ],
      "text/plain": [
       "                   1         2         3         4         5\n",
       "date                                                        \n",
       "1952-06-30  0.981778  0.962531  0.942467  0.926341  0.904183\n",
       "1952-07-31  0.980948  0.960315  0.939312  0.923089  0.898516\n",
       "1952-08-29  0.980578  0.959750  0.937819  0.921458  0.895717\n",
       "1952-09-30  0.980312  0.959098  0.937551  0.920961  0.891676\n",
       "1952-10-31  0.981108  0.959745  0.937583  0.919290  0.897248\n",
       "...              ...       ...       ...       ...       ...\n",
       "2022-08-31  0.965955  0.933432  0.900600  0.871263  0.846584\n",
       "2022-09-30  0.959839  0.918517  0.880655  0.846696  0.816731\n",
       "2022-10-31  0.954288  0.914926  0.876564  0.841926  0.811304\n",
       "2022-11-30  0.954375  0.918220  0.887608  0.857356  0.830593\n",
       "2022-12-30  0.954636  0.916229  0.883347  0.851046  0.820298\n",
       "\n",
       "[847 rows x 5 columns]"
      ]
     },
     "execution_count": 2,
     "metadata": {},
     "output_type": "execute_result"
    }
   ],
   "source": [
    "filepath = '../data/treasury_zero_coupon_2022-12-30.xlsx'\n",
    "prices = pd.read_excel(filepath, sheet_name='prices')\n",
    "prices.set_index('date',inplace=True)\n",
    "prices.columns = prices.columns.astype(int)\n",
    "prices"
   ]
  },
  {
   "cell_type": "markdown",
   "id": "da6998e5",
   "metadata": {},
   "source": [
    "# <span style=\"color:red\">Solution 1</span>"
   ]
  },
  {
   "cell_type": "markdown",
   "id": "ee071174",
   "metadata": {},
   "source": [
    "Select key dates referenced in the question."
   ]
  },
  {
   "cell_type": "code",
   "execution_count": 3,
   "id": "31213ffb",
   "metadata": {},
   "outputs": [
    {
     "data": {
      "text/html": [
       "<div>\n",
       "<style scoped>\n",
       "    .dataframe tbody tr th:only-of-type {\n",
       "        vertical-align: middle;\n",
       "    }\n",
       "\n",
       "    .dataframe tbody tr th {\n",
       "        vertical-align: top;\n",
       "    }\n",
       "\n",
       "    .dataframe thead th {\n",
       "        text-align: right;\n",
       "    }\n",
       "</style>\n",
       "<table border=\"1\" class=\"dataframe\">\n",
       "  <thead>\n",
       "    <tr style=\"text-align: right;\">\n",
       "      <th></th>\n",
       "      <th>1</th>\n",
       "      <th>2</th>\n",
       "      <th>3</th>\n",
       "      <th>4</th>\n",
       "      <th>5</th>\n",
       "    </tr>\n",
       "    <tr>\n",
       "      <th>date</th>\n",
       "      <th></th>\n",
       "      <th></th>\n",
       "      <th></th>\n",
       "      <th></th>\n",
       "      <th></th>\n",
       "    </tr>\n",
       "  </thead>\n",
       "  <tbody>\n",
       "    <tr>\n",
       "      <th>2017-12-29</th>\n",
       "      <td>0.982422</td>\n",
       "      <td>0.963139</td>\n",
       "      <td>0.942395</td>\n",
       "      <td>0.918869</td>\n",
       "      <td>0.895638</td>\n",
       "    </tr>\n",
       "    <tr>\n",
       "      <th>2018-12-31</th>\n",
       "      <td>0.974310</td>\n",
       "      <td>0.951959</td>\n",
       "      <td>0.929327</td>\n",
       "      <td>0.905801</td>\n",
       "      <td>0.882568</td>\n",
       "    </tr>\n",
       "    <tr>\n",
       "      <th>2019-12-31</th>\n",
       "      <td>0.984394</td>\n",
       "      <td>0.968938</td>\n",
       "      <td>0.952964</td>\n",
       "      <td>0.935710</td>\n",
       "      <td>0.918910</td>\n",
       "    </tr>\n",
       "    <tr>\n",
       "      <th>2020-12-31</th>\n",
       "      <td>0.998959</td>\n",
       "      <td>0.997520</td>\n",
       "      <td>0.995299</td>\n",
       "      <td>0.989455</td>\n",
       "      <td>0.981537</td>\n",
       "    </tr>\n",
       "    <tr>\n",
       "      <th>2021-12-31</th>\n",
       "      <td>0.996173</td>\n",
       "      <td>0.985500</td>\n",
       "      <td>0.971251</td>\n",
       "      <td>0.954872</td>\n",
       "      <td>0.938668</td>\n",
       "    </tr>\n",
       "    <tr>\n",
       "      <th>2022-12-30</th>\n",
       "      <td>0.954636</td>\n",
       "      <td>0.916229</td>\n",
       "      <td>0.883347</td>\n",
       "      <td>0.851046</td>\n",
       "      <td>0.820298</td>\n",
       "    </tr>\n",
       "  </tbody>\n",
       "</table>\n",
       "</div>"
      ],
      "text/plain": [
       "                   1         2         3         4         5\n",
       "date                                                        \n",
       "2017-12-29  0.982422  0.963139  0.942395  0.918869  0.895638\n",
       "2018-12-31  0.974310  0.951959  0.929327  0.905801  0.882568\n",
       "2019-12-31  0.984394  0.968938  0.952964  0.935710  0.918910\n",
       "2020-12-31  0.998959  0.997520  0.995299  0.989455  0.981537\n",
       "2021-12-31  0.996173  0.985500  0.971251  0.954872  0.938668\n",
       "2022-12-30  0.954636  0.916229  0.883347  0.851046  0.820298"
      ]
     },
     "execution_count": 3,
     "metadata": {},
     "output_type": "execute_result"
    }
   ],
   "source": [
    "px = prices.iloc[-61::12]\n",
    "px"
   ]
  },
  {
   "cell_type": "markdown",
   "id": "a66c2c59",
   "metadata": {},
   "source": [
    "Calculate spot rates for comparison."
   ]
  },
  {
   "cell_type": "code",
   "execution_count": 4,
   "id": "75158f47",
   "metadata": {},
   "outputs": [
    {
     "data": {
      "text/html": [
       "<div>\n",
       "<style scoped>\n",
       "    .dataframe tbody tr th:only-of-type {\n",
       "        vertical-align: middle;\n",
       "    }\n",
       "\n",
       "    .dataframe tbody tr th {\n",
       "        vertical-align: top;\n",
       "    }\n",
       "\n",
       "    .dataframe thead th {\n",
       "        text-align: right;\n",
       "    }\n",
       "</style>\n",
       "<table border=\"1\" class=\"dataframe\">\n",
       "  <thead>\n",
       "    <tr style=\"text-align: right;\">\n",
       "      <th></th>\n",
       "      <th>1</th>\n",
       "      <th>2</th>\n",
       "      <th>3</th>\n",
       "      <th>4</th>\n",
       "      <th>5</th>\n",
       "    </tr>\n",
       "    <tr>\n",
       "      <th>date</th>\n",
       "      <th></th>\n",
       "      <th></th>\n",
       "      <th></th>\n",
       "      <th></th>\n",
       "      <th></th>\n",
       "    </tr>\n",
       "  </thead>\n",
       "  <tbody>\n",
       "    <tr>\n",
       "      <th>2017-12-29</th>\n",
       "      <td>0.017734</td>\n",
       "      <td>0.018779</td>\n",
       "      <td>0.019777</td>\n",
       "      <td>0.021153</td>\n",
       "      <td>0.022044</td>\n",
       "    </tr>\n",
       "    <tr>\n",
       "      <th>2018-12-31</th>\n",
       "      <td>0.026026</td>\n",
       "      <td>0.024617</td>\n",
       "      <td>0.024431</td>\n",
       "      <td>0.024734</td>\n",
       "      <td>0.024984</td>\n",
       "    </tr>\n",
       "    <tr>\n",
       "      <th>2019-12-31</th>\n",
       "      <td>0.015729</td>\n",
       "      <td>0.015777</td>\n",
       "      <td>0.016059</td>\n",
       "      <td>0.016612</td>\n",
       "      <td>0.016913</td>\n",
       "    </tr>\n",
       "    <tr>\n",
       "      <th>2020-12-31</th>\n",
       "      <td>0.001042</td>\n",
       "      <td>0.001242</td>\n",
       "      <td>0.001571</td>\n",
       "      <td>0.002650</td>\n",
       "      <td>0.003727</td>\n",
       "    </tr>\n",
       "    <tr>\n",
       "      <th>2021-12-31</th>\n",
       "      <td>0.003834</td>\n",
       "      <td>0.007303</td>\n",
       "      <td>0.009724</td>\n",
       "      <td>0.011545</td>\n",
       "      <td>0.012659</td>\n",
       "    </tr>\n",
       "    <tr>\n",
       "      <th>2022-12-30</th>\n",
       "      <td>0.046425</td>\n",
       "      <td>0.043744</td>\n",
       "      <td>0.041346</td>\n",
       "      <td>0.040322</td>\n",
       "      <td>0.039618</td>\n",
       "    </tr>\n",
       "  </tbody>\n",
       "</table>\n",
       "</div>"
      ],
      "text/plain": [
       "                   1         2         3         4         5\n",
       "date                                                        \n",
       "2017-12-29  0.017734  0.018779  0.019777  0.021153  0.022044\n",
       "2018-12-31  0.026026  0.024617  0.024431  0.024734  0.024984\n",
       "2019-12-31  0.015729  0.015777  0.016059  0.016612  0.016913\n",
       "2020-12-31  0.001042  0.001242  0.001571  0.002650  0.003727\n",
       "2021-12-31  0.003834  0.007303  0.009724  0.011545  0.012659\n",
       "2022-12-30  0.046425  0.043744  0.041346  0.040322  0.039618"
      ]
     },
     "execution_count": 4,
     "metadata": {},
     "output_type": "execute_result"
    }
   ],
   "source": [
    "spots = -np.log(px)/px.columns\n",
    "spots"
   ]
  },
  {
   "cell_type": "markdown",
   "id": "db6cb6d4",
   "metadata": {},
   "source": [
    "## <span style=\"color:red\">1.1</span>"
   ]
  },
  {
   "cell_type": "code",
   "execution_count": 5,
   "id": "d3710617",
   "metadata": {},
   "outputs": [
    {
     "data": {
      "text/html": [
       "<div>\n",
       "<style scoped>\n",
       "    .dataframe tbody tr th:only-of-type {\n",
       "        vertical-align: middle;\n",
       "    }\n",
       "\n",
       "    .dataframe tbody tr th {\n",
       "        vertical-align: top;\n",
       "    }\n",
       "\n",
       "    .dataframe thead th {\n",
       "        text-align: right;\n",
       "    }\n",
       "</style>\n",
       "<table border=\"1\" class=\"dataframe\">\n",
       "  <thead>\n",
       "    <tr style=\"text-align: right;\">\n",
       "      <th></th>\n",
       "      <th>2</th>\n",
       "      <th>3</th>\n",
       "      <th>4</th>\n",
       "      <th>5</th>\n",
       "    </tr>\n",
       "    <tr>\n",
       "      <th>date</th>\n",
       "      <th></th>\n",
       "      <th></th>\n",
       "      <th></th>\n",
       "      <th></th>\n",
       "    </tr>\n",
       "  </thead>\n",
       "  <tbody>\n",
       "    <tr>\n",
       "      <th>2017-12-29</th>\n",
       "      <td>0.980372</td>\n",
       "      <td>0.978461</td>\n",
       "      <td>0.975036</td>\n",
       "      <td>0.974718</td>\n",
       "    </tr>\n",
       "    <tr>\n",
       "      <th>2018-12-31</th>\n",
       "      <td>0.977060</td>\n",
       "      <td>0.976226</td>\n",
       "      <td>0.974684</td>\n",
       "      <td>0.974351</td>\n",
       "    </tr>\n",
       "    <tr>\n",
       "      <th>2019-12-31</th>\n",
       "      <td>0.984299</td>\n",
       "      <td>0.983514</td>\n",
       "      <td>0.981894</td>\n",
       "      <td>0.982046</td>\n",
       "    </tr>\n",
       "    <tr>\n",
       "      <th>2020-12-31</th>\n",
       "      <td>0.998560</td>\n",
       "      <td>0.997773</td>\n",
       "      <td>0.994129</td>\n",
       "      <td>0.991997</td>\n",
       "    </tr>\n",
       "    <tr>\n",
       "      <th>2021-12-31</th>\n",
       "      <td>0.989286</td>\n",
       "      <td>0.985541</td>\n",
       "      <td>0.983136</td>\n",
       "      <td>0.983031</td>\n",
       "    </tr>\n",
       "    <tr>\n",
       "      <th>2022-12-30</th>\n",
       "      <td>0.959768</td>\n",
       "      <td>0.964111</td>\n",
       "      <td>0.963434</td>\n",
       "      <td>0.963870</td>\n",
       "    </tr>\n",
       "  </tbody>\n",
       "</table>\n",
       "</div>"
      ],
      "text/plain": [
       "                   2         3         4         5\n",
       "date                                              \n",
       "2017-12-29  0.980372  0.978461  0.975036  0.974718\n",
       "2018-12-31  0.977060  0.976226  0.974684  0.974351\n",
       "2019-12-31  0.984299  0.983514  0.981894  0.982046\n",
       "2020-12-31  0.998560  0.997773  0.994129  0.991997\n",
       "2021-12-31  0.989286  0.985541  0.983136  0.983031\n",
       "2022-12-30  0.959768  0.964111  0.963434  0.963870"
      ]
     },
     "execution_count": 5,
     "metadata": {},
     "output_type": "execute_result"
    }
   ],
   "source": [
    "F = px[[2,3,4,5]] / px[[1,2,3,4]].values\n",
    "F"
   ]
  },
  {
   "cell_type": "code",
   "execution_count": 6,
   "id": "c5e8efe9",
   "metadata": {},
   "outputs": [
    {
     "data": {
      "text/plain": [
       "<AxesSubplot:>"
      ]
     },
     "execution_count": 6,
     "metadata": {},
     "output_type": "execute_result"
    },
    {
     "data": {
      "image/png": "[encoded data removed]",
      "text/plain": [
       "<Figure size 864x432 with 1 Axes>"
      ]
     },
     "metadata": {
      "needs_background": "light"
     },
     "output_type": "display_data"
    }
   ],
   "source": [
    "F.T.plot()"
   ]
  },
  {
   "cell_type": "markdown",
   "id": "d315fa3c",
   "metadata": {},
   "source": [
    "## <span style=\"color:red\">1.2</span>"
   ]
  },
  {
   "cell_type": "code",
   "execution_count": 7,
   "id": "7f36118f",
   "metadata": {},
   "outputs": [
    {
     "data": {
      "text/html": [
       "<div>\n",
       "<style scoped>\n",
       "    .dataframe tbody tr th:only-of-type {\n",
       "        vertical-align: middle;\n",
       "    }\n",
       "\n",
       "    .dataframe tbody tr th {\n",
       "        vertical-align: top;\n",
       "    }\n",
       "\n",
       "    .dataframe thead th {\n",
       "        text-align: right;\n",
       "    }\n",
       "</style>\n",
       "<table border=\"1\" class=\"dataframe\">\n",
       "  <thead>\n",
       "    <tr style=\"text-align: right;\">\n",
       "      <th></th>\n",
       "      <th>1</th>\n",
       "      <th>2</th>\n",
       "      <th>3</th>\n",
       "      <th>4</th>\n",
       "      <th>5</th>\n",
       "    </tr>\n",
       "    <tr>\n",
       "      <th>date</th>\n",
       "      <th></th>\n",
       "      <th></th>\n",
       "      <th></th>\n",
       "      <th></th>\n",
       "      <th></th>\n",
       "    </tr>\n",
       "  </thead>\n",
       "  <tbody>\n",
       "    <tr>\n",
       "      <th>2017-12-29</th>\n",
       "      <td>0.017734</td>\n",
       "      <td>0.019823</td>\n",
       "      <td>0.021774</td>\n",
       "      <td>0.025281</td>\n",
       "      <td>0.025607</td>\n",
       "    </tr>\n",
       "    <tr>\n",
       "      <th>2018-12-31</th>\n",
       "      <td>0.026026</td>\n",
       "      <td>0.023207</td>\n",
       "      <td>0.024061</td>\n",
       "      <td>0.025642</td>\n",
       "      <td>0.025984</td>\n",
       "    </tr>\n",
       "    <tr>\n",
       "      <th>2019-12-31</th>\n",
       "      <td>0.015729</td>\n",
       "      <td>0.015825</td>\n",
       "      <td>0.016624</td>\n",
       "      <td>0.018272</td>\n",
       "      <td>0.018117</td>\n",
       "    </tr>\n",
       "    <tr>\n",
       "      <th>2020-12-31</th>\n",
       "      <td>0.001042</td>\n",
       "      <td>0.001441</td>\n",
       "      <td>0.002229</td>\n",
       "      <td>0.005889</td>\n",
       "      <td>0.008035</td>\n",
       "    </tr>\n",
       "    <tr>\n",
       "      <th>2021-12-31</th>\n",
       "      <td>0.003834</td>\n",
       "      <td>0.010772</td>\n",
       "      <td>0.014564</td>\n",
       "      <td>0.017008</td>\n",
       "      <td>0.017115</td>\n",
       "    </tr>\n",
       "    <tr>\n",
       "      <th>2022-12-30</th>\n",
       "      <td>0.046425</td>\n",
       "      <td>0.041064</td>\n",
       "      <td>0.036548</td>\n",
       "      <td>0.037252</td>\n",
       "      <td>0.036799</td>\n",
       "    </tr>\n",
       "  </tbody>\n",
       "</table>\n",
       "</div>"
      ],
      "text/plain": [
       "                   1         2         3         4         5\n",
       "date                                                        \n",
       "2017-12-29  0.017734  0.019823  0.021774  0.025281  0.025607\n",
       "2018-12-31  0.026026  0.023207  0.024061  0.025642  0.025984\n",
       "2019-12-31  0.015729  0.015825  0.016624  0.018272  0.018117\n",
       "2020-12-31  0.001042  0.001441  0.002229  0.005889  0.008035\n",
       "2021-12-31  0.003834  0.010772  0.014564  0.017008  0.017115\n",
       "2022-12-30  0.046425  0.041064  0.036548  0.037252  0.036799"
      ]
     },
     "execution_count": 7,
     "metadata": {},
     "output_type": "execute_result"
    }
   ],
   "source": [
    "f = -np.log(F)\n",
    "f.insert(0,1,spots[1])\n",
    "f"
   ]
  },
  {
   "cell_type": "code",
   "execution_count": 8,
   "id": "59264024",
   "metadata": {},
   "outputs": [
    {
     "data": {
      "image/png": "[encoded data removed]",
      "text/plain": [
       "<Figure size 864x432 with 1 Axes>"
      ]
     },
     "metadata": {
      "needs_background": "light"
     },
     "output_type": "display_data"
    }
   ],
   "source": [
    "f.T.plot(xticks=f.columns);"
   ]
  },
  {
   "cell_type": "markdown",
   "id": "8fc22fff",
   "metadata": {},
   "source": [
    "## <span style=\"color:red\">1.3</span>"
   ]
  },
  {
   "cell_type": "code",
   "execution_count": 9,
   "id": "f02fa4a8",
   "metadata": {},
   "outputs": [],
   "source": [
    "DATE = '2017'"
   ]
  },
  {
   "cell_type": "code",
   "execution_count": 10,
   "id": "c65ed449",
   "metadata": {},
   "outputs": [
    {
     "data": {
      "image/png": "[encoded data removed]",
      "text/plain": [
       "<Figure size 864x432 with 1 Axes>"
      ]
     },
     "metadata": {
      "needs_background": "light"
     },
     "output_type": "display_data"
    }
   ],
   "source": [
    "spots.T.plot(xticks=spots.columns);"
   ]
  },
  {
   "cell_type": "code",
   "execution_count": 11,
   "id": "14e262c0",
   "metadata": {},
   "outputs": [
    {
     "data": {
      "image/png": "[encoded data removed]",
      "text/plain": [
       "<Figure size 864x432 with 1 Axes>"
      ]
     },
     "metadata": {
      "needs_background": "light"
     },
     "output_type": "display_data"
    }
   ],
   "source": [
    "ax = f.loc[DATE].T.plot(xticks=f.columns)\n",
    "spots.loc[DATE].T.plot(ax=ax)\n",
    "ax.legend(['forward','spot']);"
   ]
  },
  {
   "cell_type": "markdown",
   "id": "83126b14",
   "metadata": {},
   "source": [
    "The forward curve is above the spot curve throughout the 5 years, and hence the spot curve is upward sloping over the entire range."
   ]
  },
  {
   "cell_type": "markdown",
   "id": "ee5c95da",
   "metadata": {},
   "source": [
    "## <span style=\"color:red\">1.4</span>"
   ]
  },
  {
   "cell_type": "code",
   "execution_count": 12,
   "id": "3cfc9f83",
   "metadata": {},
   "outputs": [
    {
     "data": {
      "text/html": [
       "<div>\n",
       "<style scoped>\n",
       "    .dataframe tbody tr th:only-of-type {\n",
       "        vertical-align: middle;\n",
       "    }\n",
       "\n",
       "    .dataframe tbody tr th {\n",
       "        vertical-align: top;\n",
       "    }\n",
       "\n",
       "    .dataframe thead th {\n",
       "        text-align: right;\n",
       "    }\n",
       "</style>\n",
       "<table border=\"1\" class=\"dataframe\">\n",
       "  <thead>\n",
       "    <tr style=\"text-align: right;\">\n",
       "      <th></th>\n",
       "      <th>forward curve</th>\n",
       "      <th>spot over time</th>\n",
       "    </tr>\n",
       "  </thead>\n",
       "  <tbody>\n",
       "    <tr>\n",
       "      <th>1</th>\n",
       "      <td>0.017734</td>\n",
       "      <td>0.017734</td>\n",
       "    </tr>\n",
       "    <tr>\n",
       "      <th>2</th>\n",
       "      <td>0.019823</td>\n",
       "      <td>0.026026</td>\n",
       "    </tr>\n",
       "    <tr>\n",
       "      <th>3</th>\n",
       "      <td>0.021774</td>\n",
       "      <td>0.015729</td>\n",
       "    </tr>\n",
       "    <tr>\n",
       "      <th>4</th>\n",
       "      <td>0.025281</td>\n",
       "      <td>0.001042</td>\n",
       "    </tr>\n",
       "    <tr>\n",
       "      <th>5</th>\n",
       "      <td>0.025607</td>\n",
       "      <td>0.003834</td>\n",
       "    </tr>\n",
       "  </tbody>\n",
       "</table>\n",
       "</div>"
      ],
      "text/plain": [
       "   forward curve  spot over time\n",
       "1       0.017734        0.017734\n",
       "2       0.019823        0.026026\n",
       "3       0.021774        0.015729\n",
       "4       0.025281        0.001042\n",
       "5       0.025607        0.003834"
      ]
     },
     "execution_count": 12,
     "metadata": {},
     "output_type": "execute_result"
    }
   ],
   "source": [
    "temp = f.loc[DATE].T\n",
    "\n",
    "temp.columns.name = f'{DATE}: (n-1) to n'\n",
    "temp.columns = [f'forward curve']\n",
    "if DATE == '2017':\n",
    "    temp['spot over time'] = spots[1].values[:-1]\n",
    "elif DATE == '2018':\n",
    "    temp['spot over time'] = spots[1].values[1:]\n",
    "\n",
    "temp"
   ]
  },
  {
   "cell_type": "markdown",
   "id": "86db9b1a",
   "metadata": {},
   "source": [
    "The realized one-year spot rates over 2018-2022 are much lower than what was implied by the 2017 forward curve---with the exception of the realized spot in 2019 (at year 2) being higher than the forward rate implication."
   ]
  },
  {
   "cell_type": "code",
   "execution_count": 13,
   "id": "6f6c7763",
   "metadata": {},
   "outputs": [
    {
     "data": {
      "image/png": "[encoded data removed]",
      "text/plain": [
       "<Figure size 864x432 with 1 Axes>"
      ]
     },
     "metadata": {
      "needs_background": "light"
     },
     "output_type": "display_data"
    }
   ],
   "source": [
    "ax = temp.plot(xticks=temp.index)"
   ]
  },
  {
   "cell_type": "markdown",
   "id": "8759e83d",
   "metadata": {},
   "source": [
    "# <span style=\"color:red\">Solution 2</span>"
   ]
  },
  {
   "cell_type": "markdown",
   "id": "e0475018",
   "metadata": {},
   "source": [
    "Parameters from the problem.\n",
    "\n",
    "For simplicity, we assume 2% of the gross assets are required investor capital. \n",
    "\n",
    "#### Note on the haircut and required capital\n",
    "\n",
    "One could complain that the haircut on the long position is balanced by receiving the haircut on the short position, and thus no capital is intitially required. However, the trade requires capital be available to handle the cash losses in the first few years of the trade. These losses end up being more than 2% of the gross initial assets, so it seems our simple assumption here is not so conservative."
   ]
  },
  {
   "cell_type": "code",
   "execution_count": 14,
   "id": "7e8f9ec7",
   "metadata": {},
   "outputs": [],
   "source": [
    "HAIRCUT = .02\n",
    "INIT_SIZE = 1e8\n",
    "FACE = 1e6"
   ]
  },
  {
   "cell_type": "markdown",
   "id": "8e409336",
   "metadata": {},
   "source": [
    "#### Timing\n",
    "We continue to examine just the six dates above.\n",
    "\n",
    "You could easily extend this problem to look at a wider range of time.\n",
    "\n",
    "#### Bonds and cash\n",
    "Add a column for the `cash` position, to account for the one-year bill maturing and needing to be rolled over.\n",
    "\n",
    "#### Face Value\n",
    "There is no mention of how large the face value is on each bond. Obviously this choice will not do anything more than scale the number of contracts in the trade. Below, we proceed with a face value of \\\\$1 million. This will simply scale the `positions` and `p` dataframes."
   ]
  },
  {
   "cell_type": "code",
   "execution_count": 15,
   "id": "9eccbe20",
   "metadata": {},
   "outputs": [],
   "source": [
    "p = px.copy()\n",
    "p.insert(0,'cash',1)\n",
    "p *= FACE"
   ]
  },
  {
   "cell_type": "markdown",
   "id": "d26387a9",
   "metadata": {},
   "source": [
    "## <span style=\"color:red\">2.1</span>"
   ]
  },
  {
   "cell_type": "code",
   "execution_count": 16,
   "id": "0540b2d5",
   "metadata": {},
   "outputs": [],
   "source": [
    "value = pd.DataFrame(dtype=float, columns=p.columns, index=p.index)\n",
    "pnl = pd.DataFrame(dtype=float, columns=p.columns, index=p.index)\n",
    "\n",
    "pnl.loc['2017'] = 0\n",
    "value.loc['2017'] = np.array([0,-INIT_SIZE,0,0,0,INIT_SIZE])\n",
    "positions = value / p\n",
    "\n",
    "dt_end = p.index[-1]\n",
    "\n",
    "for i, dt in enumerate(p.index[1:]):\n",
    "    dt_lag = p.index[i]\n",
    "    \n",
    "    positions.loc[dt] = positions.loc[dt_lag].shift(-1)\n",
    "    positions.loc[dt,5] = 0        \n",
    "\n",
    "    \n",
    "    if dt != dt_end:\n",
    "        positions.loc[dt,1] += -INIT_SIZE / p.loc[dt,1]\n",
    "        positions.loc[dt,'cash'] += INIT_SIZE / p.loc[dt,'cash']\n",
    "\n",
    "    value.loc[dt] = positions.loc[dt] * p.loc[dt]\n",
    "    pnl.loc[dt] = value.loc[dt] - value.loc[dt_lag]\n",
    "    pnl.loc[dt,'cash'] = value.loc[dt,'cash']\n",
    "    \n",
    "    \n",
    "pnl.insert(0,'net',pnl.sum(axis=1))\n",
    "pnl.loc['cumulative','net'] = pnl['net'].sum()"
   ]
  },
  {
   "cell_type": "markdown",
   "id": "85b5c17b",
   "metadata": {},
   "source": [
    "### Positions\n",
    "\n",
    "Recall we are setting the initial positions to have long and short positions with assets of \\\\$100 million each.\n",
    "\n",
    "#### Aging\n",
    "Recall that a 5-year bond becomes a 4 year bond, etc.\n",
    "\n",
    "#### Rollover\n",
    "There is a question on the rolling over of the 1-year note. At each year, you must close the old short position and enter a new short position on the one-year note. \n",
    "\n",
    "You have two options of how to size this:\n",
    "\n",
    "* Take short position of \\\\$100 million, just as you started with. This will require adding capital (taking a loss) at each rollover, as the short position will increase in price.\n",
    "\n",
    "* Take a short position equal to the amount of money coming due on the old short position. In this scenario, the short position will be growing each time we roll it over.\n",
    "\n",
    "Given that the problem was not specific on this point, either choice is fine.\n",
    "\n",
    "The solution below follows the first of these specifications: it takes a short position of \\\\$100 million each year, adding in the necessary cash to close out the expiring short which has value of more than \\\\$100 million."
   ]
  },
  {
   "cell_type": "code",
   "execution_count": 17,
   "id": "2d7c6ffa",
   "metadata": {},
   "outputs": [
    {
     "data": {
      "text/html": [
       "<style type=\"text/css\">\n",
       "</style>\n",
       "<table id=\"T_62a4b\">\n",
       "  <thead>\n",
       "    <tr>\n",
       "      <th class=\"blank level0\" >&nbsp;</th>\n",
       "      <th id=\"T_62a4b_level0_col0\" class=\"col_heading level0 col0\" >cash</th>\n",
       "      <th id=\"T_62a4b_level0_col1\" class=\"col_heading level0 col1\" >1</th>\n",
       "      <th id=\"T_62a4b_level0_col2\" class=\"col_heading level0 col2\" >2</th>\n",
       "      <th id=\"T_62a4b_level0_col3\" class=\"col_heading level0 col3\" >3</th>\n",
       "      <th id=\"T_62a4b_level0_col4\" class=\"col_heading level0 col4\" >4</th>\n",
       "      <th id=\"T_62a4b_level0_col5\" class=\"col_heading level0 col5\" >5</th>\n",
       "    </tr>\n",
       "    <tr>\n",
       "      <th class=\"index_name level0\" >date</th>\n",
       "      <th class=\"blank col0\" >&nbsp;</th>\n",
       "      <th class=\"blank col1\" >&nbsp;</th>\n",
       "      <th class=\"blank col2\" >&nbsp;</th>\n",
       "      <th class=\"blank col3\" >&nbsp;</th>\n",
       "      <th class=\"blank col4\" >&nbsp;</th>\n",
       "      <th class=\"blank col5\" >&nbsp;</th>\n",
       "    </tr>\n",
       "  </thead>\n",
       "  <tbody>\n",
       "    <tr>\n",
       "      <th id=\"T_62a4b_level0_row0\" class=\"row_heading level0 row0\" >2017-12-29 00:00:00</th>\n",
       "      <td id=\"T_62a4b_row0_col0\" class=\"data row0 col0\" ></td>\n",
       "      <td id=\"T_62a4b_row0_col1\" class=\"data row0 col1\" >-101.79</td>\n",
       "      <td id=\"T_62a4b_row0_col2\" class=\"data row0 col2\" ></td>\n",
       "      <td id=\"T_62a4b_row0_col3\" class=\"data row0 col3\" ></td>\n",
       "      <td id=\"T_62a4b_row0_col4\" class=\"data row0 col4\" ></td>\n",
       "      <td id=\"T_62a4b_row0_col5\" class=\"data row0 col5\" >111.65</td>\n",
       "    </tr>\n",
       "    <tr>\n",
       "      <th id=\"T_62a4b_level0_row1\" class=\"row_heading level0 row1\" >2018-12-31 00:00:00</th>\n",
       "      <td id=\"T_62a4b_row1_col0\" class=\"data row1 col0\" >-1.7892</td>\n",
       "      <td id=\"T_62a4b_row1_col1\" class=\"data row1 col1\" >-102.64</td>\n",
       "      <td id=\"T_62a4b_row1_col2\" class=\"data row1 col2\" ></td>\n",
       "      <td id=\"T_62a4b_row1_col3\" class=\"data row1 col3\" ></td>\n",
       "      <td id=\"T_62a4b_row1_col4\" class=\"data row1 col4\" >111.65</td>\n",
       "      <td id=\"T_62a4b_row1_col5\" class=\"data row1 col5\" ></td>\n",
       "    </tr>\n",
       "    <tr>\n",
       "      <th id=\"T_62a4b_level0_row2\" class=\"row_heading level0 row2\" >2019-12-31 00:00:00</th>\n",
       "      <td id=\"T_62a4b_row2_col0\" class=\"data row2 col0\" >-2.6368</td>\n",
       "      <td id=\"T_62a4b_row2_col1\" class=\"data row2 col1\" >-101.59</td>\n",
       "      <td id=\"T_62a4b_row2_col2\" class=\"data row2 col2\" ></td>\n",
       "      <td id=\"T_62a4b_row2_col3\" class=\"data row2 col3\" >111.65</td>\n",
       "      <td id=\"T_62a4b_row2_col4\" class=\"data row2 col4\" ></td>\n",
       "      <td id=\"T_62a4b_row2_col5\" class=\"data row2 col5\" ></td>\n",
       "    </tr>\n",
       "    <tr>\n",
       "      <th id=\"T_62a4b_level0_row3\" class=\"row_heading level0 row3\" >2020-12-31 00:00:00</th>\n",
       "      <td id=\"T_62a4b_row3_col0\" class=\"data row3 col0\" >-1.5853</td>\n",
       "      <td id=\"T_62a4b_row3_col1\" class=\"data row3 col1\" >-100.1</td>\n",
       "      <td id=\"T_62a4b_row3_col2\" class=\"data row3 col2\" >111.65</td>\n",
       "      <td id=\"T_62a4b_row3_col3\" class=\"data row3 col3\" ></td>\n",
       "      <td id=\"T_62a4b_row3_col4\" class=\"data row3 col4\" ></td>\n",
       "      <td id=\"T_62a4b_row3_col5\" class=\"data row3 col5\" ></td>\n",
       "    </tr>\n",
       "    <tr>\n",
       "      <th id=\"T_62a4b_level0_row4\" class=\"row_heading level0 row4\" >2021-12-31 00:00:00</th>\n",
       "      <td id=\"T_62a4b_row4_col0\" class=\"data row4 col0\" >-0.10424</td>\n",
       "      <td id=\"T_62a4b_row4_col1\" class=\"data row4 col1\" >11.268</td>\n",
       "      <td id=\"T_62a4b_row4_col2\" class=\"data row4 col2\" ></td>\n",
       "      <td id=\"T_62a4b_row4_col3\" class=\"data row4 col3\" ></td>\n",
       "      <td id=\"T_62a4b_row4_col4\" class=\"data row4 col4\" ></td>\n",
       "      <td id=\"T_62a4b_row4_col5\" class=\"data row4 col5\" ></td>\n",
       "    </tr>\n",
       "    <tr>\n",
       "      <th id=\"T_62a4b_level0_row5\" class=\"row_heading level0 row5\" >2022-12-30 00:00:00</th>\n",
       "      <td id=\"T_62a4b_row5_col0\" class=\"data row5 col0\" >11.268</td>\n",
       "      <td id=\"T_62a4b_row5_col1\" class=\"data row5 col1\" ></td>\n",
       "      <td id=\"T_62a4b_row5_col2\" class=\"data row5 col2\" ></td>\n",
       "      <td id=\"T_62a4b_row5_col3\" class=\"data row5 col3\" ></td>\n",
       "      <td id=\"T_62a4b_row5_col4\" class=\"data row5 col4\" ></td>\n",
       "      <td id=\"T_62a4b_row5_col5\" class=\"data row5 col5\" ></td>\n",
       "    </tr>\n",
       "  </tbody>\n",
       "</table>\n"
      ],
      "text/plain": [
       "<pandas.io.formats.style.Styler at 0x127ee92b0>"
      ]
     },
     "execution_count": 17,
     "metadata": {},
     "output_type": "execute_result"
    }
   ],
   "source": [
    "positions.replace(0,np.nan,inplace=True)\n",
    "positions.style.format('{:,.5}',na_rep='')"
   ]
  },
  {
   "cell_type": "markdown",
   "id": "5037e1c0",
   "metadata": {},
   "source": [
    "## Value\n",
    "\n",
    "Given the positions above and the prices of the zero-coupon bonds, (in other words, the discount factors, $Z$,) we can easily calculate the value of the positions at each date.\n",
    "\n",
    "Notice that the value of 1-year bonds is a constant negative \\\\$100 million through 2020 given the rollover choice we made above.\n",
    "\n",
    "The value in the `cash` column is the cash needed to close out the maturing short given our choice to short a constant 100 million each year. In the final year, the `cash` column shows the net profit on closing out the position."
   ]
  },
  {
   "cell_type": "code",
   "execution_count": 18,
   "id": "a04c8dca",
   "metadata": {},
   "outputs": [
    {
     "data": {
      "text/html": [
       "<style type=\"text/css\">\n",
       "</style>\n",
       "<table id=\"T_a22eb\">\n",
       "  <thead>\n",
       "    <tr>\n",
       "      <th class=\"blank level0\" >&nbsp;</th>\n",
       "      <th id=\"T_a22eb_level0_col0\" class=\"col_heading level0 col0\" >cash</th>\n",
       "      <th id=\"T_a22eb_level0_col1\" class=\"col_heading level0 col1\" >1</th>\n",
       "      <th id=\"T_a22eb_level0_col2\" class=\"col_heading level0 col2\" >2</th>\n",
       "      <th id=\"T_a22eb_level0_col3\" class=\"col_heading level0 col3\" >3</th>\n",
       "      <th id=\"T_a22eb_level0_col4\" class=\"col_heading level0 col4\" >4</th>\n",
       "      <th id=\"T_a22eb_level0_col5\" class=\"col_heading level0 col5\" >5</th>\n",
       "    </tr>\n",
       "    <tr>\n",
       "      <th class=\"index_name level0\" >date</th>\n",
       "      <th class=\"blank col0\" >&nbsp;</th>\n",
       "      <th class=\"blank col1\" >&nbsp;</th>\n",
       "      <th class=\"blank col2\" >&nbsp;</th>\n",
       "      <th class=\"blank col3\" >&nbsp;</th>\n",
       "      <th class=\"blank col4\" >&nbsp;</th>\n",
       "      <th class=\"blank col5\" >&nbsp;</th>\n",
       "    </tr>\n",
       "  </thead>\n",
       "  <tbody>\n",
       "    <tr>\n",
       "      <th id=\"T_a22eb_level0_row0\" class=\"row_heading level0 row0\" >2017-12-29 00:00:00</th>\n",
       "      <td id=\"T_a22eb_row0_col0\" class=\"data row0 col0\" ></td>\n",
       "      <td id=\"T_a22eb_row0_col1\" class=\"data row0 col1\" >$-100,000,000.00</td>\n",
       "      <td id=\"T_a22eb_row0_col2\" class=\"data row0 col2\" ></td>\n",
       "      <td id=\"T_a22eb_row0_col3\" class=\"data row0 col3\" ></td>\n",
       "      <td id=\"T_a22eb_row0_col4\" class=\"data row0 col4\" ></td>\n",
       "      <td id=\"T_a22eb_row0_col5\" class=\"data row0 col5\" >$100,000,000.00</td>\n",
       "    </tr>\n",
       "    <tr>\n",
       "      <th id=\"T_a22eb_level0_row1\" class=\"row_heading level0 row1\" >2018-12-31 00:00:00</th>\n",
       "      <td id=\"T_a22eb_row1_col0\" class=\"data row1 col0\" >$-1,789,246.57</td>\n",
       "      <td id=\"T_a22eb_row1_col1\" class=\"data row1 col1\" >$-100,000,000.00</td>\n",
       "      <td id=\"T_a22eb_row1_col2\" class=\"data row1 col2\" ></td>\n",
       "      <td id=\"T_a22eb_row1_col3\" class=\"data row1 col3\" ></td>\n",
       "      <td id=\"T_a22eb_row1_col4\" class=\"data row1 col4\" >$101,134,709.32</td>\n",
       "      <td id=\"T_a22eb_row1_col5\" class=\"data row1 col5\" ></td>\n",
       "    </tr>\n",
       "    <tr>\n",
       "      <th id=\"T_a22eb_level0_row2\" class=\"row_heading level0 row2\" >2019-12-31 00:00:00</th>\n",
       "      <td id=\"T_a22eb_row2_col0\" class=\"data row2 col0\" >$-2,636,787.00</td>\n",
       "      <td id=\"T_a22eb_row2_col1\" class=\"data row2 col1\" >$-100,000,000.00</td>\n",
       "      <td id=\"T_a22eb_row2_col2\" class=\"data row2 col2\" ></td>\n",
       "      <td id=\"T_a22eb_row2_col3\" class=\"data row2 col3\" >$106,400,629.08</td>\n",
       "      <td id=\"T_a22eb_row2_col4\" class=\"data row2 col4\" ></td>\n",
       "      <td id=\"T_a22eb_row2_col5\" class=\"data row2 col5\" ></td>\n",
       "    </tr>\n",
       "    <tr>\n",
       "      <th id=\"T_a22eb_level0_row3\" class=\"row_heading level0 row3\" >2020-12-31 00:00:00</th>\n",
       "      <td id=\"T_a22eb_row3_col0\" class=\"data row3 col0\" >$-1,585,323.78</td>\n",
       "      <td id=\"T_a22eb_row3_col1\" class=\"data row3 col1\" >$-100,000,000.00</td>\n",
       "      <td id=\"T_a22eb_row3_col2\" class=\"data row3 col2\" >$111,375,389.81</td>\n",
       "      <td id=\"T_a22eb_row3_col3\" class=\"data row3 col3\" ></td>\n",
       "      <td id=\"T_a22eb_row3_col4\" class=\"data row3 col4\" ></td>\n",
       "      <td id=\"T_a22eb_row3_col5\" class=\"data row3 col5\" ></td>\n",
       "    </tr>\n",
       "    <tr>\n",
       "      <th id=\"T_a22eb_level0_row4\" class=\"row_heading level0 row4\" >2021-12-31 00:00:00</th>\n",
       "      <td id=\"T_a22eb_row4_col0\" class=\"data row4 col0\" >$-104,244.84</td>\n",
       "      <td id=\"T_a22eb_row4_col1\" class=\"data row4 col1\" >$11,225,030.10</td>\n",
       "      <td id=\"T_a22eb_row4_col2\" class=\"data row4 col2\" ></td>\n",
       "      <td id=\"T_a22eb_row4_col3\" class=\"data row4 col3\" ></td>\n",
       "      <td id=\"T_a22eb_row4_col4\" class=\"data row4 col4\" ></td>\n",
       "      <td id=\"T_a22eb_row4_col5\" class=\"data row4 col5\" ></td>\n",
       "    </tr>\n",
       "    <tr>\n",
       "      <th id=\"T_a22eb_level0_row5\" class=\"row_heading level0 row5\" >2022-12-30 00:00:00</th>\n",
       "      <td id=\"T_a22eb_row5_col0\" class=\"data row5 col0\" >$11,268,150.88</td>\n",
       "      <td id=\"T_a22eb_row5_col1\" class=\"data row5 col1\" ></td>\n",
       "      <td id=\"T_a22eb_row5_col2\" class=\"data row5 col2\" ></td>\n",
       "      <td id=\"T_a22eb_row5_col3\" class=\"data row5 col3\" ></td>\n",
       "      <td id=\"T_a22eb_row5_col4\" class=\"data row5 col4\" ></td>\n",
       "      <td id=\"T_a22eb_row5_col5\" class=\"data row5 col5\" ></td>\n",
       "    </tr>\n",
       "  </tbody>\n",
       "</table>\n"
      ],
      "text/plain": [
       "<pandas.io.formats.style.Styler at 0x128038cd0>"
      ]
     },
     "execution_count": 18,
     "metadata": {},
     "output_type": "execute_result"
    }
   ],
   "source": [
    "value.replace(0,np.nan,inplace=True)\n",
    "value.style.format('${:,.2f}',na_rep='')"
   ]
  },
  {
   "cell_type": "markdown",
   "id": "8b94865e",
   "metadata": {},
   "source": [
    "## Profit and Loss\n",
    "\n",
    "The profit and loss is below. The table shows the pnl of closing out the old position and in the new position.\n",
    "\n",
    "Consider Dec 2018:\n",
    "\n",
    "* It shows a loss of value of \\\\$100 million in the 5-year bond. But this is offset by a new positive position in the 4-year bond. Clearly, this is just due to aging of the bond reducing the position of the former by \\\\$100 million and adding to the position of the latter by even more. \n",
    "\n",
    "* The cash collumn shows the amount of cash needed from the investor to close the maturing short, as the 1-year bond has matured, and the new short of 1-year bonds does not fully offset it (given the rollover choice above.)"
   ]
  },
  {
   "cell_type": "code",
   "execution_count": 19,
   "id": "e48cb6c2",
   "metadata": {},
   "outputs": [
    {
     "data": {
      "text/html": [
       "<style type=\"text/css\">\n",
       "</style>\n",
       "<table id=\"T_32446\">\n",
       "  <thead>\n",
       "    <tr>\n",
       "      <th class=\"blank level0\" >&nbsp;</th>\n",
       "      <th id=\"T_32446_level0_col0\" class=\"col_heading level0 col0\" >net</th>\n",
       "      <th id=\"T_32446_level0_col1\" class=\"col_heading level0 col1\" >cash</th>\n",
       "      <th id=\"T_32446_level0_col2\" class=\"col_heading level0 col2\" >1</th>\n",
       "      <th id=\"T_32446_level0_col3\" class=\"col_heading level0 col3\" >2</th>\n",
       "      <th id=\"T_32446_level0_col4\" class=\"col_heading level0 col4\" >3</th>\n",
       "      <th id=\"T_32446_level0_col5\" class=\"col_heading level0 col5\" >4</th>\n",
       "      <th id=\"T_32446_level0_col6\" class=\"col_heading level0 col6\" >5</th>\n",
       "    </tr>\n",
       "    <tr>\n",
       "      <th class=\"index_name level0\" >date</th>\n",
       "      <th class=\"blank col0\" >&nbsp;</th>\n",
       "      <th class=\"blank col1\" >&nbsp;</th>\n",
       "      <th class=\"blank col2\" >&nbsp;</th>\n",
       "      <th class=\"blank col3\" >&nbsp;</th>\n",
       "      <th class=\"blank col4\" >&nbsp;</th>\n",
       "      <th class=\"blank col5\" >&nbsp;</th>\n",
       "      <th class=\"blank col6\" >&nbsp;</th>\n",
       "    </tr>\n",
       "  </thead>\n",
       "  <tbody>\n",
       "    <tr>\n",
       "      <th id=\"T_32446_level0_row0\" class=\"row_heading level0 row0\" >2017-12-29 00:00:00</th>\n",
       "      <td id=\"T_32446_row0_col0\" class=\"data row0 col0\" ></td>\n",
       "      <td id=\"T_32446_row0_col1\" class=\"data row0 col1\" ></td>\n",
       "      <td id=\"T_32446_row0_col2\" class=\"data row0 col2\" ></td>\n",
       "      <td id=\"T_32446_row0_col3\" class=\"data row0 col3\" ></td>\n",
       "      <td id=\"T_32446_row0_col4\" class=\"data row0 col4\" ></td>\n",
       "      <td id=\"T_32446_row0_col5\" class=\"data row0 col5\" ></td>\n",
       "      <td id=\"T_32446_row0_col6\" class=\"data row0 col6\" ></td>\n",
       "    </tr>\n",
       "    <tr>\n",
       "      <th id=\"T_32446_level0_row1\" class=\"row_heading level0 row1\" >2018-12-31 00:00:00</th>\n",
       "      <td id=\"T_32446_row1_col0\" class=\"data row1 col0\" >$-654,537.25</td>\n",
       "      <td id=\"T_32446_row1_col1\" class=\"data row1 col1\" >$-1,789,246.57</td>\n",
       "      <td id=\"T_32446_row1_col2\" class=\"data row1 col2\" ></td>\n",
       "      <td id=\"T_32446_row1_col3\" class=\"data row1 col3\" ></td>\n",
       "      <td id=\"T_32446_row1_col4\" class=\"data row1 col4\" ></td>\n",
       "      <td id=\"T_32446_row1_col5\" class=\"data row1 col5\" >$101,134,709.32</td>\n",
       "      <td id=\"T_32446_row1_col6\" class=\"data row1 col6\" >$-100,000,000.00</td>\n",
       "    </tr>\n",
       "    <tr>\n",
       "      <th id=\"T_32446_level0_row2\" class=\"row_heading level0 row2\" >2019-12-31 00:00:00</th>\n",
       "      <td id=\"T_32446_row2_col0\" class=\"data row2 col0\" >$2,629,132.76</td>\n",
       "      <td id=\"T_32446_row2_col1\" class=\"data row2 col1\" >$-2,636,787.00</td>\n",
       "      <td id=\"T_32446_row2_col2\" class=\"data row2 col2\" ></td>\n",
       "      <td id=\"T_32446_row2_col3\" class=\"data row2 col3\" ></td>\n",
       "      <td id=\"T_32446_row2_col4\" class=\"data row2 col4\" >$106,400,629.08</td>\n",
       "      <td id=\"T_32446_row2_col5\" class=\"data row2 col5\" >$-101,134,709.32</td>\n",
       "      <td id=\"T_32446_row2_col6\" class=\"data row2 col6\" ></td>\n",
       "    </tr>\n",
       "    <tr>\n",
       "      <th id=\"T_32446_level0_row3\" class=\"row_heading level0 row3\" >2020-12-31 00:00:00</th>\n",
       "      <td id=\"T_32446_row3_col0\" class=\"data row3 col0\" >$3,389,436.95</td>\n",
       "      <td id=\"T_32446_row3_col1\" class=\"data row3 col1\" >$-1,585,323.78</td>\n",
       "      <td id=\"T_32446_row3_col2\" class=\"data row3 col2\" ></td>\n",
       "      <td id=\"T_32446_row3_col3\" class=\"data row3 col3\" >$111,375,389.81</td>\n",
       "      <td id=\"T_32446_row3_col4\" class=\"data row3 col4\" >$-106,400,629.08</td>\n",
       "      <td id=\"T_32446_row3_col5\" class=\"data row3 col5\" ></td>\n",
       "      <td id=\"T_32446_row3_col6\" class=\"data row3 col6\" ></td>\n",
       "    </tr>\n",
       "    <tr>\n",
       "      <th id=\"T_32446_level0_row4\" class=\"row_heading level0 row4\" >2021-12-31 00:00:00</th>\n",
       "      <td id=\"T_32446_row4_col0\" class=\"data row4 col0\" >$-254,604.54</td>\n",
       "      <td id=\"T_32446_row4_col1\" class=\"data row4 col1\" >$-104,244.84</td>\n",
       "      <td id=\"T_32446_row4_col2\" class=\"data row4 col2\" >$111,225,030.10</td>\n",
       "      <td id=\"T_32446_row4_col3\" class=\"data row4 col3\" >$-111,375,389.81</td>\n",
       "      <td id=\"T_32446_row4_col4\" class=\"data row4 col4\" ></td>\n",
       "      <td id=\"T_32446_row4_col5\" class=\"data row4 col5\" ></td>\n",
       "      <td id=\"T_32446_row4_col6\" class=\"data row4 col6\" ></td>\n",
       "    </tr>\n",
       "    <tr>\n",
       "      <th id=\"T_32446_level0_row5\" class=\"row_heading level0 row5\" >2022-12-30 00:00:00</th>\n",
       "      <td id=\"T_32446_row5_col0\" class=\"data row5 col0\" >$43,120.77</td>\n",
       "      <td id=\"T_32446_row5_col1\" class=\"data row5 col1\" >$11,268,150.88</td>\n",
       "      <td id=\"T_32446_row5_col2\" class=\"data row5 col2\" >$-11,225,030.10</td>\n",
       "      <td id=\"T_32446_row5_col3\" class=\"data row5 col3\" ></td>\n",
       "      <td id=\"T_32446_row5_col4\" class=\"data row5 col4\" ></td>\n",
       "      <td id=\"T_32446_row5_col5\" class=\"data row5 col5\" ></td>\n",
       "      <td id=\"T_32446_row5_col6\" class=\"data row5 col6\" ></td>\n",
       "    </tr>\n",
       "    <tr>\n",
       "      <th id=\"T_32446_level0_row6\" class=\"row_heading level0 row6\" >cumulative</th>\n",
       "      <td id=\"T_32446_row6_col0\" class=\"data row6 col0\" >$5,152,548.68</td>\n",
       "      <td id=\"T_32446_row6_col1\" class=\"data row6 col1\" ></td>\n",
       "      <td id=\"T_32446_row6_col2\" class=\"data row6 col2\" ></td>\n",
       "      <td id=\"T_32446_row6_col3\" class=\"data row6 col3\" ></td>\n",
       "      <td id=\"T_32446_row6_col4\" class=\"data row6 col4\" ></td>\n",
       "      <td id=\"T_32446_row6_col5\" class=\"data row6 col5\" ></td>\n",
       "      <td id=\"T_32446_row6_col6\" class=\"data row6 col6\" ></td>\n",
       "    </tr>\n",
       "  </tbody>\n",
       "</table>\n"
      ],
      "text/plain": [
       "<pandas.io.formats.style.Styler at 0x127ee9670>"
      ]
     },
     "execution_count": 19,
     "metadata": {},
     "output_type": "execute_result"
    }
   ],
   "source": [
    "pnl.replace(0,np.nan,inplace=True)\n",
    "pnl.style.format('${:,.2f}',na_rep='')"
   ]
  },
  {
   "cell_type": "markdown",
   "id": "322abaf9",
   "metadata": {},
   "source": [
    "## Closing out the Trade\n",
    "\n",
    "The trade was specified such that the investor holds the 5-year bond until maturity in December 2022.\n",
    "\n",
    "However, note that as of December 2021, the trade is essentially done. At that point, the original 5-year bond is now a 1-year bond. So the construction above stays long this bond, maturing in a year, while setting up a fresh short position in the 1-year bond. These mostly offset, and we see that the P&L that final year is deminimus.\n",
    "\n",
    "We could easily close out the trade in December 2021 with roughly the same total profit."
   ]
  },
  {
   "cell_type": "markdown",
   "id": "fcb4ab98",
   "metadata": {},
   "source": [
    "## Returns"
   ]
  },
  {
   "cell_type": "code",
   "execution_count": 20,
   "id": "38007fa6",
   "metadata": {},
   "outputs": [
    {
     "data": {
      "text/plain": [
       "date\n",
       "2018-12-31   -1.163634\n",
       "2019-12-31   -0.506351\n",
       "2020-12-31    0.341008\n",
       "2021-12-31    0.277357\n",
       "2022-12-30    0.288137\n",
       "Name: cumulative return, dtype: float64"
      ]
     },
     "execution_count": 20,
     "metadata": {},
     "output_type": "execute_result"
    }
   ],
   "source": [
    "capital = HAIRCUT * INIT_SIZE * 2\n",
    "\n",
    "cum_ret = pnl['net'].cumsum().drop('cumulative') / capital - 1\n",
    "cum_ret.name = 'cumulative return'\n",
    "cum_ret = cum_ret.loc['2018':]\n",
    "cum_ret"
   ]
  },
  {
   "cell_type": "code",
   "execution_count": 21,
   "id": "aa146e70",
   "metadata": {},
   "outputs": [
    {
     "data": {
      "image/png": "[encoded data removed]",
      "text/plain": [
       "<Figure size 864x432 with 1 Axes>"
      ]
     },
     "metadata": {
      "needs_background": "light"
     },
     "output_type": "display_data"
    }
   ],
   "source": [
    "cum_ret.plot();"
   ]
  },
  {
   "cell_type": "markdown",
   "id": "071ebbbb",
   "metadata": {},
   "source": [
    "### Negative intermediate returns\n",
    "\n",
    "Note that in the first few years, the trade requires capital to close out the short positions. This leads to substantial capital outflows in these years, (showing up above as a negative cumulative return in 2018 and 2019.)\n",
    "\n",
    "### Total return\n",
    "\n",
    "By the end of the trade, the cumulative return is 28.8% on the initial capital of \\\\$4 million."
   ]
  },
  {
   "cell_type": "markdown",
   "id": "d24ccad6",
   "metadata": {},
   "source": [
    "## Attribution\n",
    "\n",
    "Note that the profit is particularly large in 2019, as the bond goes from 4 years of maturity to 3 years of maturity.\n",
    "\n",
    "Look at the spot rates to see why this is the case.\n",
    "* In 2018, the 4-year rate is higher than the 5-year rate was in 2017. Thus, that first year does not lead to strong profit.\n",
    "* The 2019 3-year rate is much lower than the 2018 4-year rate, so the profit on the long side is substantial.\n",
    "* In 2020, the 2-year rate is tiny compared to the 3-year rate in 2019, and accordingly, we see large profit on the long side of the trade."
   ]
  },
  {
   "cell_type": "code",
   "execution_count": 22,
   "id": "588c1f0e",
   "metadata": {},
   "outputs": [
    {
     "data": {
      "text/html": [
       "<div>\n",
       "<style scoped>\n",
       "    .dataframe tbody tr th:only-of-type {\n",
       "        vertical-align: middle;\n",
       "    }\n",
       "\n",
       "    .dataframe tbody tr th {\n",
       "        vertical-align: top;\n",
       "    }\n",
       "\n",
       "    .dataframe thead th {\n",
       "        text-align: right;\n",
       "    }\n",
       "</style>\n",
       "<table border=\"1\" class=\"dataframe\">\n",
       "  <thead>\n",
       "    <tr style=\"text-align: right;\">\n",
       "      <th></th>\n",
       "      <th>1</th>\n",
       "      <th>2</th>\n",
       "      <th>3</th>\n",
       "      <th>4</th>\n",
       "      <th>5</th>\n",
       "    </tr>\n",
       "    <tr>\n",
       "      <th>date</th>\n",
       "      <th></th>\n",
       "      <th></th>\n",
       "      <th></th>\n",
       "      <th></th>\n",
       "      <th></th>\n",
       "    </tr>\n",
       "  </thead>\n",
       "  <tbody>\n",
       "    <tr>\n",
       "      <th>2017-12-29</th>\n",
       "      <td>0.017734</td>\n",
       "      <td>0.018779</td>\n",
       "      <td>0.019777</td>\n",
       "      <td>0.021153</td>\n",
       "      <td>0.022044</td>\n",
       "    </tr>\n",
       "    <tr>\n",
       "      <th>2018-12-31</th>\n",
       "      <td>0.026026</td>\n",
       "      <td>0.024617</td>\n",
       "      <td>0.024431</td>\n",
       "      <td>0.024734</td>\n",
       "      <td>0.024984</td>\n",
       "    </tr>\n",
       "    <tr>\n",
       "      <th>2019-12-31</th>\n",
       "      <td>0.015729</td>\n",
       "      <td>0.015777</td>\n",
       "      <td>0.016059</td>\n",
       "      <td>0.016612</td>\n",
       "      <td>0.016913</td>\n",
       "    </tr>\n",
       "    <tr>\n",
       "      <th>2020-12-31</th>\n",
       "      <td>0.001042</td>\n",
       "      <td>0.001242</td>\n",
       "      <td>0.001571</td>\n",
       "      <td>0.002650</td>\n",
       "      <td>0.003727</td>\n",
       "    </tr>\n",
       "    <tr>\n",
       "      <th>2021-12-31</th>\n",
       "      <td>0.003834</td>\n",
       "      <td>0.007303</td>\n",
       "      <td>0.009724</td>\n",
       "      <td>0.011545</td>\n",
       "      <td>0.012659</td>\n",
       "    </tr>\n",
       "    <tr>\n",
       "      <th>2022-12-30</th>\n",
       "      <td>0.046425</td>\n",
       "      <td>0.043744</td>\n",
       "      <td>0.041346</td>\n",
       "      <td>0.040322</td>\n",
       "      <td>0.039618</td>\n",
       "    </tr>\n",
       "  </tbody>\n",
       "</table>\n",
       "</div>"
      ],
      "text/plain": [
       "                   1         2         3         4         5\n",
       "date                                                        \n",
       "2017-12-29  0.017734  0.018779  0.019777  0.021153  0.022044\n",
       "2018-12-31  0.026026  0.024617  0.024431  0.024734  0.024984\n",
       "2019-12-31  0.015729  0.015777  0.016059  0.016612  0.016913\n",
       "2020-12-31  0.001042  0.001242  0.001571  0.002650  0.003727\n",
       "2021-12-31  0.003834  0.007303  0.009724  0.011545  0.012659\n",
       "2022-12-30  0.046425  0.043744  0.041346  0.040322  0.039618"
      ]
     },
     "execution_count": 22,
     "metadata": {},
     "output_type": "execute_result"
    }
   ],
   "source": [
    "spots"
   ]
  },
  {
   "cell_type": "markdown",
   "id": "0ea27458",
   "metadata": {},
   "source": [
    "## <span style=\"color:red\">2.2</span>"
   ]
  },
  {
   "cell_type": "markdown",
   "id": "e14f924f",
   "metadata": {},
   "source": [
    "In this scenario, the trade wouldn't be profitable: the return to holding the 5-year bond would equal the return to holding the one-year bond and rolling it over five years."
   ]
  },
  {
   "cell_type": "markdown",
   "id": "7e569c07",
   "metadata": {},
   "source": [
    "## <span style=\"color:red\">2.3</span>"
   ]
  },
  {
   "cell_type": "markdown",
   "id": "f76513e6",
   "metadata": {},
   "source": [
    "This is a question as to whether the forward-spot spread is bigger in 2017 or 2022. In W.5., we learned (in Dynamic Fact 3) that in times of higher forward-spot spreads, the expected excess return and realized yields are larger.\n",
    "\n",
    "The table below shows that the forward-spot spread on 5-year bonds was 36bps in 2017 and negative 28bps in 2022. Thus, we expect that the return to this trade (long 5-year bond, short 1-year bond) will be substantially worse in 2022-2027."
   ]
  },
  {
   "cell_type": "code",
   "execution_count": 23,
   "id": "f6c79d72",
   "metadata": {},
   "outputs": [
    {
     "data": {
      "text/html": [
       "<div>\n",
       "<style scoped>\n",
       "    .dataframe tbody tr th:only-of-type {\n",
       "        vertical-align: middle;\n",
       "    }\n",
       "\n",
       "    .dataframe tbody tr th {\n",
       "        vertical-align: top;\n",
       "    }\n",
       "\n",
       "    .dataframe thead th {\n",
       "        text-align: right;\n",
       "    }\n",
       "</style>\n",
       "<table border=\"1\" class=\"dataframe\">\n",
       "  <thead>\n",
       "    <tr style=\"text-align: right;\">\n",
       "      <th></th>\n",
       "      <th>1</th>\n",
       "      <th>2</th>\n",
       "      <th>3</th>\n",
       "      <th>4</th>\n",
       "      <th>5</th>\n",
       "    </tr>\n",
       "    <tr>\n",
       "      <th>date</th>\n",
       "      <th></th>\n",
       "      <th></th>\n",
       "      <th></th>\n",
       "      <th></th>\n",
       "      <th></th>\n",
       "    </tr>\n",
       "  </thead>\n",
       "  <tbody>\n",
       "    <tr>\n",
       "      <th>2017-12-29</th>\n",
       "      <td>0.0</td>\n",
       "      <td>0.001044</td>\n",
       "      <td>0.001997</td>\n",
       "      <td>0.004128</td>\n",
       "      <td>0.003563</td>\n",
       "    </tr>\n",
       "    <tr>\n",
       "      <th>2018-12-31</th>\n",
       "      <td>0.0</td>\n",
       "      <td>-0.001410</td>\n",
       "      <td>-0.000370</td>\n",
       "      <td>0.000908</td>\n",
       "      <td>0.001000</td>\n",
       "    </tr>\n",
       "    <tr>\n",
       "      <th>2019-12-31</th>\n",
       "      <td>0.0</td>\n",
       "      <td>0.000048</td>\n",
       "      <td>0.000564</td>\n",
       "      <td>0.001659</td>\n",
       "      <td>0.001204</td>\n",
       "    </tr>\n",
       "    <tr>\n",
       "      <th>2020-12-31</th>\n",
       "      <td>0.0</td>\n",
       "      <td>0.000200</td>\n",
       "      <td>0.000658</td>\n",
       "      <td>0.003238</td>\n",
       "      <td>0.004308</td>\n",
       "    </tr>\n",
       "    <tr>\n",
       "      <th>2021-12-31</th>\n",
       "      <td>0.0</td>\n",
       "      <td>0.003469</td>\n",
       "      <td>0.004841</td>\n",
       "      <td>0.005463</td>\n",
       "      <td>0.004456</td>\n",
       "    </tr>\n",
       "    <tr>\n",
       "      <th>2022-12-30</th>\n",
       "      <td>0.0</td>\n",
       "      <td>-0.002681</td>\n",
       "      <td>-0.004797</td>\n",
       "      <td>-0.003071</td>\n",
       "      <td>-0.002819</td>\n",
       "    </tr>\n",
       "  </tbody>\n",
       "</table>\n",
       "</div>"
      ],
      "text/plain": [
       "              1         2         3         4         5\n",
       "date                                                   \n",
       "2017-12-29  0.0  0.001044  0.001997  0.004128  0.003563\n",
       "2018-12-31  0.0 -0.001410 -0.000370  0.000908  0.001000\n",
       "2019-12-31  0.0  0.000048  0.000564  0.001659  0.001204\n",
       "2020-12-31  0.0  0.000200  0.000658  0.003238  0.004308\n",
       "2021-12-31  0.0  0.003469  0.004841  0.005463  0.004456\n",
       "2022-12-30  0.0 -0.002681 -0.004797 -0.003071 -0.002819"
      ]
     },
     "execution_count": 23,
     "metadata": {},
     "output_type": "execute_result"
    }
   ],
   "source": [
    "f-spots"
   ]
  }
 ],
 "metadata": {
  "hide_input": false,
  "kernelspec": {
   "display_name": "Python 3 (ipykernel)",
   "language": "python",
   "name": "python3"
  },
  "language_info": {
   "codemirror_mode": {
    "name": "ipython",
    "version": 3
   },
   "file_extension": ".py",
   "mimetype": "text/x-python",
   "name": "python",
   "nbconvert_exporter": "python",
   "pygments_lexer": "ipython3",
   "version": "3.9.7"
  }
 },
 "nbformat": 4,
 "nbformat_minor": 5
}
